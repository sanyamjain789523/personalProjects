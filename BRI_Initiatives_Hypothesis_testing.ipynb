{
  "nbformat": 4,
  "nbformat_minor": 0,
  "metadata": {
    "colab": {
      "name": "BRI_Initiatives_Hypothesis_testing.ipynb",
      "provenance": [],
      "collapsed_sections": [],
      "mount_file_id": "1vFvDY2aS6GflqXHzAnDlDU1tRuTD09gU",
      "authorship_tag": "ABX9TyOcZd2DR/f+4Bj36xtkgiG/",
      "include_colab_link": true
    },
    "kernelspec": {
      "name": "python3",
      "display_name": "Python 3"
    },
    "language_info": {
      "name": "python"
    }
  },
  "cells": [
    {
      "cell_type": "markdown",
      "metadata": {
        "id": "view-in-github",
        "colab_type": "text"
      },
      "source": [
        "<a href=\"https://colab.research.google.com/github/sanyamjain789523/personalProjects/blob/main/BRI_Initiatives_Hypothesis_testing.ipynb\" target=\"_parent\"><img src=\"https://colab.research.google.com/assets/colab-badge.svg\" alt=\"Open In Colab\"/></a>"
      ]
    },
    {
      "cell_type": "code",
      "metadata": {
        "id": "jkeHS7mwvv1h"
      },
      "source": [
        "import nltk\n",
        "# nltk.download('stopwords')\n",
        " \n",
        "import numpy as np\n",
        "import pandas as pd\n",
        "import matplotlib.pyplot as plt\n",
        "# import seaborn as sns\n",
        "from keras.preprocessing.text import Tokenizer\n",
        "from keras.preprocessing.sequence import pad_sequences\n",
        "from keras.models import Sequential, load_model\n",
        "from keras.layers import Dense, Embedding, LSTM, SpatialDropout1D\n",
        "# from sklearn.model_selection import train_test_split\n",
        "# from keras.utils.np_utils import to_categorical\n",
        "# from keras.callbacks import EarlyStopping\n",
        "# from keras.layers import Dropout\n",
        "import re\n",
        "from nltk.corpus import stopwords\n",
        "import json\n",
        "from nltk import word_tokenize\n",
        "# STOPWORDS = set(stopwords.words('english'))"
      ],
      "execution_count": null,
      "outputs": []
    },
    {
      "cell_type": "code",
      "metadata": {
        "id": "Dvcc-flDGLgz"
      },
      "source": [
        "import pandas as pd\n",
        "import numpy as np\n",
        "import matplotlib.pyplot as plt\n"
      ],
      "execution_count": null,
      "outputs": []
    },
    {
      "cell_type": "markdown",
      "metadata": {
        "id": "Ajl7rzl5GjSl"
      },
      "source": [
        "1b) The usage of Zheng He will be greater in countries that he travelled to in his voyages and that these voyages will be framed as peaceful, promoting trade, in nature.\n",
        "\n",
        "-> Filter out the most popular articles mentioning Zheng He in the respective country's news articles.\n",
        "\n",
        "-> These observations then shall be verified with actual facts.\n",
        "\n",
        "2a) Zheng He's usage is particularly useful in countries that are weary of Chinese investment. Therefore, we expect to see more mentions of Zheng He in countries where BRI initiatives are being challenged or have failed.\n",
        "\n",
        "-> This hypothesis shall be collectively analyzed along with the previous one i.e after filtering out most popular countries where he's been mentioned, wherein it would be verified by the respective facts that I'll be researching countries where BRI initiatives are being challenged or have failed\n",
        "\n",
        "1a) Zheng He is being reframed as a 'peaceful emissary' to promote the BRI investment and trade goals with neighbouring countries.\n",
        "\n",
        "-> This is a bit tricky, what i can say for this hypothesis prior to starting the project is:\n",
        "\n",
        "-> I shall train a text analytics model that would analyze the news articles of the neighboring countries because i don't think he would be mentioned as 'peaceful emissary' in news articles, hence we'll have to analyze the article as a whole whether it's nature was positive or negative"
      ]
    },
    {
      "cell_type": "code",
      "metadata": {
        "id": "Or7YsytwGUwk"
      },
      "source": [
        "df = pd.read_csv(\"Article_Zhenghe.csv\")"
      ],
      "execution_count": null,
      "outputs": []
    },
    {
      "cell_type": "code",
      "metadata": {
        "colab": {
          "base_uri": "https://localhost:8080/"
        },
        "id": "4zLzI-nbIC_x",
        "outputId": "b8385edd-188b-4b74-d213-7988b3a06cac"
      },
      "source": [
        "df.columns"
      ],
      "execution_count": null,
      "outputs": [
        {
          "output_type": "execute_result",
          "data": {
            "text/plain": [
              "Index(['Title', 'Title (translation)', 'Media type', 'Date Published',\n",
              "       'Country/Region', 'Text', 'Language', 'Translation (formula)',\n",
              "       'Translation (values)', 'Source', 'URL', 'Unnamed: 11', 'Unnamed: 12',\n",
              "       'Unnamed: 13', 'Unnamed: 14'],\n",
              "      dtype='object')"
            ]
          },
          "metadata": {
            "tags": []
          },
          "execution_count": 4
        }
      ]
    },
    {
      "cell_type": "code",
      "metadata": {
        "id": "jsoO1oxQHtai"
      },
      "source": [
        "# df = df[['Title (translation)', 'Media type', 'Country/Region', 'Translation (values)']]"
      ],
      "execution_count": null,
      "outputs": []
    },
    {
      "cell_type": "code",
      "metadata": {
        "colab": {
          "base_uri": "https://localhost:8080/",
          "height": 711
        },
        "id": "Eu_Ak7w1GUq-",
        "outputId": "348aef54-8a9d-4525-f34c-ef901c38b9a3"
      },
      "source": [
        "df.head()"
      ],
      "execution_count": null,
      "outputs": [
        {
          "output_type": "execute_result",
          "data": {
            "text/html": [
              "<div>\n",
              "<style scoped>\n",
              "    .dataframe tbody tr th:only-of-type {\n",
              "        vertical-align: middle;\n",
              "    }\n",
              "\n",
              "    .dataframe tbody tr th {\n",
              "        vertical-align: top;\n",
              "    }\n",
              "\n",
              "    .dataframe thead th {\n",
              "        text-align: right;\n",
              "    }\n",
              "</style>\n",
              "<table border=\"1\" class=\"dataframe\">\n",
              "  <thead>\n",
              "    <tr style=\"text-align: right;\">\n",
              "      <th></th>\n",
              "      <th>Title</th>\n",
              "      <th>Title (translation)</th>\n",
              "      <th>Media type</th>\n",
              "      <th>Date Published</th>\n",
              "      <th>Country/Region</th>\n",
              "      <th>Text</th>\n",
              "      <th>Language</th>\n",
              "      <th>Translation (formula)</th>\n",
              "      <th>Translation (values)</th>\n",
              "      <th>Source</th>\n",
              "      <th>URL</th>\n",
              "      <th>Unnamed: 11</th>\n",
              "      <th>Unnamed: 12</th>\n",
              "      <th>Unnamed: 13</th>\n",
              "      <th>Unnamed: 14</th>\n",
              "    </tr>\n",
              "  </thead>\n",
              "  <tbody>\n",
              "    <tr>\n",
              "      <th>0</th>\n",
              "      <td>中马将合作拍摄大型电视连续剧《郑和》</td>\n",
              "      <td>Malaysia will team up large-scale TV series \"Z...</td>\n",
              "      <td>Newspaper</td>\n",
              "      <td>2019-11-1</td>\n",
              "      <td>Malaysia</td>\n",
              "      <td>中马合拍历史大剧《郑和》新闻发布会1日在马来西亚吉隆坡举行。马来西亚新濠天影有限公司与中国国...</td>\n",
              "      <td>Chinese</td>\n",
              "      <td>Malaysia co-production major historical drama ...</td>\n",
              "      <td>Malaysia co-production major historical drama ...</td>\n",
              "      <td>Xinhua agency</td>\n",
              "      <td>http://www.xinhuanet.com/2019-11/01/c_11251833...</td>\n",
              "      <td>NaN</td>\n",
              "      <td>NaN</td>\n",
              "      <td>NaN</td>\n",
              "      <td>NaN</td>\n",
              "    </tr>\n",
              "    <tr>\n",
              "      <th>1</th>\n",
              "      <td>“2019国际郑和论坛”在马来西亚举行</td>\n",
              "      <td>\"Zheng 2019 International Forum\" held in Malaysia</td>\n",
              "      <td>Newspaper</td>\n",
              "      <td>2019-11-15</td>\n",
              "      <td>Malaysia</td>\n",
              "      <td>“2019国际郑和论坛”14日至15日在马来西亚古城马六甲举行。本次论坛由马来西亚旅游和文化...</td>\n",
              "      <td>Chinese</td>\n",
              "      <td>\"2019 International Forum on Zheng He\" was hel...</td>\n",
              "      <td>\"2019 International Forum on Zheng He\" was hel...</td>\n",
              "      <td>Xinhua agency</td>\n",
              "      <td>http://www.xinhuanet.com/2019-11/15/c_11252384...</td>\n",
              "      <td>NaN</td>\n",
              "      <td>NaN</td>\n",
              "      <td>NaN</td>\n",
              "      <td>NaN</td>\n",
              "    </tr>\n",
              "    <tr>\n",
              "      <th>2</th>\n",
              "      <td>晋宁郑和·世界航海邮票展览馆： 方寸之间遨游世界航海史</td>\n",
              "      <td>Jinning Zheng-world sailing Stamp Exhibition: ...</td>\n",
              "      <td>Newspaper</td>\n",
              "      <td>2019-7-10</td>\n",
              "      <td>China</td>\n",
              "      <td>人们常把邮票称之为“国家名片”，本国值得骄傲的古今人物、事物都寓于邮票的方寸之间。在郑和故里...</td>\n",
              "      <td>Chinese</td>\n",
              "      <td>People often put a stamp called \"national card...</td>\n",
              "      <td>People often put a stamp called a \"national ca...</td>\n",
              "      <td>Xinhua agency</td>\n",
              "      <td>http://m.xinhuanet.com/yn/2019-07/10/c_1382144...</td>\n",
              "      <td>NaN</td>\n",
              "      <td>NaN</td>\n",
              "      <td>NaN</td>\n",
              "      <td>NaN</td>\n",
              "    </tr>\n",
              "    <tr>\n",
              "      <th>3</th>\n",
              "      <td>带着“一带一路”的独家记忆 “熊猫小记者”郑和队返程！</td>\n",
              "      <td>With \"along the way\" exclusive memory \"Panda s...</td>\n",
              "      <td>Picture News</td>\n",
              "      <td>2019-8-22</td>\n",
              "      <td>Maldives</td>\n",
              "      <td>8月22日，成都市广播电视台“熊猫小记者”郑和队圆满完成了9天的行程，带着满满的感悟与记忆返...</td>\n",
              "      <td>Chinese</td>\n",
              "      <td>August 22, Chengdu Radio and Television \"Panda...</td>\n",
              "      <td>August 22, Chengdu Radio and Television \"Panda...</td>\n",
              "      <td>Xinhua agency</td>\n",
              "      <td>http://www.sc.xinhuanet.com/content/2019-08/22...</td>\n",
              "      <td>NaN</td>\n",
              "      <td>NaN</td>\n",
              "      <td>NaN</td>\n",
              "      <td>NaN</td>\n",
              "    </tr>\n",
              "    <tr>\n",
              "      <th>4</th>\n",
              "      <td>从郑和下西洋到今天，中国经历了怎样的变化？</td>\n",
              "      <td>From Zheng He to this day, China has experienc...</td>\n",
              "      <td>Newspaper</td>\n",
              "      <td>2019-10-27</td>\n",
              "      <td>China</td>\n",
              "      <td>15世纪初叶，郑和率领当时世界上最强大的船队，完成了7次下西洋的壮举。中国的造船技术和航海技...</td>\n",
              "      <td>Chinese</td>\n",
              "      <td>Early in the 15th century, Zheng He led the wo...</td>\n",
              "      <td>Early in the 15th century, Zheng He led the wo...</td>\n",
              "      <td>Xinhua agency</td>\n",
              "      <td>http://www.qstheory.cn/laigao/ycjx/2019-10/27/...</td>\n",
              "      <td>NaN</td>\n",
              "      <td>NaN</td>\n",
              "      <td>NaN</td>\n",
              "      <td>NaN</td>\n",
              "    </tr>\n",
              "  </tbody>\n",
              "</table>\n",
              "</div>"
            ],
            "text/plain": [
              "                         Title  ... Unnamed: 14\n",
              "0           中马将合作拍摄大型电视连续剧《郑和》  ...         NaN\n",
              "1          “2019国际郑和论坛”在马来西亚举行  ...         NaN\n",
              "2  晋宁郑和·世界航海邮票展览馆： 方寸之间遨游世界航海史  ...         NaN\n",
              "3  带着“一带一路”的独家记忆 “熊猫小记者”郑和队返程！  ...         NaN\n",
              "4        从郑和下西洋到今天，中国经历了怎样的变化？  ...         NaN\n",
              "\n",
              "[5 rows x 15 columns]"
            ]
          },
          "metadata": {
            "tags": []
          },
          "execution_count": 6
        }
      ]
    },
    {
      "cell_type": "code",
      "metadata": {
        "id": "E56_57VEzWI5"
      },
      "source": [
        "# df['Translation (values)'].str.len().reset_index().sort_values(ascending = False, by = \"Translation (values)\").head(20)[\"Translation (values)\"].to_list()"
      ],
      "execution_count": null,
      "outputs": []
    },
    {
      "cell_type": "code",
      "metadata": {
        "colab": {
          "base_uri": "https://localhost:8080/",
          "height": 427
        },
        "id": "m8zsD082gkWb",
        "outputId": "e841429d-1f74-4b0f-8b0b-f5007c66518e"
      },
      "source": [
        "length_train = df['Translation (values)'].str.len().plot.hist(color = 'grey', figsize = (10, 7))\n",
        "plt.savefig(\"length distribution\")"
      ],
      "execution_count": null,
      "outputs": [
        {
          "output_type": "display_data",
          "data": {
            "image/png": "[encoded data removed]",
            "text/plain": [
              "<Figure size 720x504 with 1 Axes>"
            ]
          },
          "metadata": {
            "tags": [],
            "needs_background": "light"
          }
        }
      ]
    },
    {
      "cell_type": "code",
      "metadata": {
        "colab": {
          "base_uri": "https://localhost:8080/"
        },
        "id": "trK-fUlvJU_V",
        "outputId": "09961987-bc4c-4dd2-e144-242c370c2c9d"
      },
      "source": [
        "df.info()"
      ],
      "execution_count": null,
      "outputs": [
        {
          "output_type": "stream",
          "text": [
            "<class 'pandas.core.frame.DataFrame'>\n",
            "RangeIndex: 226 entries, 0 to 225\n",
            "Data columns (total 15 columns):\n",
            " #   Column                 Non-Null Count  Dtype  \n",
            "---  ------                 --------------  -----  \n",
            " 0   Title                  219 non-null    object \n",
            " 1   Title (translation)    218 non-null    object \n",
            " 2   Media type             218 non-null    object \n",
            " 3   Date Published         218 non-null    object \n",
            " 4   Country/Region         218 non-null    object \n",
            " 5   Text                   218 non-null    object \n",
            " 6   Language               218 non-null    object \n",
            " 7   Translation (formula)  218 non-null    object \n",
            " 8   Translation (values)   218 non-null    object \n",
            " 9   Source                 218 non-null    object \n",
            " 10  URL                    218 non-null    object \n",
            " 11  Unnamed: 11            0 non-null      float64\n",
            " 12  Unnamed: 12            0 non-null      float64\n",
            " 13  Unnamed: 13            0 non-null      float64\n",
            " 14  Unnamed: 14            1 non-null      float64\n",
            "dtypes: float64(4), object(11)\n",
            "memory usage: 26.6+ KB\n"
          ],
          "name": "stdout"
        }
      ]
    },
    {
      "cell_type": "code",
      "metadata": {
        "id": "DKV2420UKKS7"
      },
      "source": [
        "df = df.fillna(\"\")"
      ],
      "execution_count": null,
      "outputs": []
    },
    {
      "cell_type": "code",
      "metadata": {
        "id": "iwtimJ1v4J1c"
      },
      "source": [
        ""
      ],
      "execution_count": null,
      "outputs": []
    },
    {
      "cell_type": "code",
      "metadata": {
        "colab": {
          "base_uri": "https://localhost:8080/",
          "height": 513
        },
        "id": "6DrzPIJWfJxP",
        "outputId": "6de6cfdd-9108-4d0c-bf7f-4e2269b13243"
      },
      "source": [
        "# Distribution to depict the frequency of most common words\n",
        "\n",
        "from sklearn.feature_extraction.text import CountVectorizer\n",
        "\n",
        "\n",
        "cv = CountVectorizer(stop_words = 'english')\n",
        "words = cv.fit_transform(df[\"Translation (values)\"])\n",
        "\n",
        "sum_words = words.sum(axis=0)\n",
        "\n",
        "words_freq = [(word, sum_words[0, i]) for word, i in cv.vocabulary_.items()]\n",
        "words_freq = sorted(words_freq, key = lambda x: x[1], reverse = True)\n",
        "\n",
        "frequency = pd.DataFrame(words_freq, columns=['word', 'freq'])\n",
        "\n",
        "frequency.head(30).plot(x='word', y='freq', kind='bar', figsize=(15, 7), color = 'blue')\n",
        "plt.title(\"Most Frequently Occuring Words - Top 30\")\n",
        "plt.savefig(\"Most Frequently Occuring Words - Top 30\")"
      ],
      "execution_count": null,
      "outputs": [
        {
          "output_type": "display_data",
          "data": {
            "image/png": "[encoded data removed]",
            "text/plain": [
              "<Figure size 1080x504 with 1 Axes>"
            ]
          },
          "metadata": {
            "tags": [],
            "needs_background": "light"
          }
        }
      ]
    },
    {
      "cell_type": "code",
      "metadata": {
        "id": "m9IvD9tRJo1i"
      },
      "source": [
        "def filterZheng(x):\n",
        "  if \"zheng\" in x.lower().split() or \"zhenghe\" in x.lower().split():\n",
        "    return \"present\"\n",
        "  return \"not present\""
      ],
      "execution_count": null,
      "outputs": []
    },
    {
      "cell_type": "code",
      "metadata": {
        "id": "Djp1mijjGUjj"
      },
      "source": [
        "df[\"zhengFilter\"] = df[\"Translation (values)\"].apply(lambda x: filterZheng(x))"
      ],
      "execution_count": null,
      "outputs": []
    },
    {
      "cell_type": "code",
      "metadata": {
        "colab": {
          "base_uri": "https://localhost:8080/",
          "height": 1000
        },
        "id": "_fqbqePpGUaM",
        "outputId": "a4a75c63-bd46-448d-a463-b5688eaf8878"
      },
      "source": [
        "df.head()"
      ],
      "execution_count": null,
      "outputs": [
        {
          "output_type": "execute_result",
          "data": {
            "text/html": [
              "<div>\n",
              "<style scoped>\n",
              "    .dataframe tbody tr th:only-of-type {\n",
              "        vertical-align: middle;\n",
              "    }\n",
              "\n",
              "    .dataframe tbody tr th {\n",
              "        vertical-align: top;\n",
              "    }\n",
              "\n",
              "    .dataframe thead th {\n",
              "        text-align: right;\n",
              "    }\n",
              "</style>\n",
              "<table border=\"1\" class=\"dataframe\">\n",
              "  <thead>\n",
              "    <tr style=\"text-align: right;\">\n",
              "      <th></th>\n",
              "      <th>Title</th>\n",
              "      <th>Title (translation)</th>\n",
              "      <th>Media type</th>\n",
              "      <th>Date Published</th>\n",
              "      <th>Country/Region</th>\n",
              "      <th>Text</th>\n",
              "      <th>Language</th>\n",
              "      <th>Translation (formula)</th>\n",
              "      <th>Translation (values)</th>\n",
              "      <th>Source</th>\n",
              "      <th>URL</th>\n",
              "      <th>Unnamed: 11</th>\n",
              "      <th>Unnamed: 12</th>\n",
              "      <th>Unnamed: 13</th>\n",
              "      <th>Unnamed: 14</th>\n",
              "      <th>zhengFilter</th>\n",
              "    </tr>\n",
              "  </thead>\n",
              "  <tbody>\n",
              "    <tr>\n",
              "      <th>0</th>\n",
              "      <td>中马将合作拍摄大型电视连续剧《郑和》</td>\n",
              "      <td>Malaysia will team up large-scale TV series \"Z...</td>\n",
              "      <td>Newspaper</td>\n",
              "      <td>2019-11-1</td>\n",
              "      <td>Malaysia</td>\n",
              "      <td>中马合拍历史大剧《郑和》新闻发布会1日在马来西亚吉隆坡举行。马来西亚新濠天影有限公司与中国国...</td>\n",
              "      <td>Chinese</td>\n",
              "      <td>Malaysia co-production major historical drama ...</td>\n",
              "      <td>Malaysia co-production major historical drama ...</td>\n",
              "      <td>Xinhua agency</td>\n",
              "      <td>http://www.xinhuanet.com/2019-11/01/c_11251833...</td>\n",
              "      <td></td>\n",
              "      <td></td>\n",
              "      <td></td>\n",
              "      <td></td>\n",
              "      <td>present</td>\n",
              "    </tr>\n",
              "    <tr>\n",
              "      <th>1</th>\n",
              "      <td>“2019国际郑和论坛”在马来西亚举行</td>\n",
              "      <td>\"Zheng 2019 International Forum\" held in Malaysia</td>\n",
              "      <td>Newspaper</td>\n",
              "      <td>2019-11-15</td>\n",
              "      <td>Malaysia</td>\n",
              "      <td>“2019国际郑和论坛”14日至15日在马来西亚古城马六甲举行。本次论坛由马来西亚旅游和文化...</td>\n",
              "      <td>Chinese</td>\n",
              "      <td>\"2019 International Forum on Zheng He\" was hel...</td>\n",
              "      <td>\"2019 International Forum on Zheng He\" was hel...</td>\n",
              "      <td>Xinhua agency</td>\n",
              "      <td>http://www.xinhuanet.com/2019-11/15/c_11252384...</td>\n",
              "      <td></td>\n",
              "      <td></td>\n",
              "      <td></td>\n",
              "      <td></td>\n",
              "      <td>present</td>\n",
              "    </tr>\n",
              "    <tr>\n",
              "      <th>2</th>\n",
              "      <td>晋宁郑和·世界航海邮票展览馆： 方寸之间遨游世界航海史</td>\n",
              "      <td>Jinning Zheng-world sailing Stamp Exhibition: ...</td>\n",
              "      <td>Newspaper</td>\n",
              "      <td>2019-7-10</td>\n",
              "      <td>China</td>\n",
              "      <td>人们常把邮票称之为“国家名片”，本国值得骄傲的古今人物、事物都寓于邮票的方寸之间。在郑和故里...</td>\n",
              "      <td>Chinese</td>\n",
              "      <td>People often put a stamp called \"national card...</td>\n",
              "      <td>People often put a stamp called a \"national ca...</td>\n",
              "      <td>Xinhua agency</td>\n",
              "      <td>http://m.xinhuanet.com/yn/2019-07/10/c_1382144...</td>\n",
              "      <td></td>\n",
              "      <td></td>\n",
              "      <td></td>\n",
              "      <td></td>\n",
              "      <td>present</td>\n",
              "    </tr>\n",
              "    <tr>\n",
              "      <th>3</th>\n",
              "      <td>带着“一带一路”的独家记忆 “熊猫小记者”郑和队返程！</td>\n",
              "      <td>With \"along the way\" exclusive memory \"Panda s...</td>\n",
              "      <td>Picture News</td>\n",
              "      <td>2019-8-22</td>\n",
              "      <td>Maldives</td>\n",
              "      <td>8月22日，成都市广播电视台“熊猫小记者”郑和队圆满完成了9天的行程，带着满满的感悟与记忆返...</td>\n",
              "      <td>Chinese</td>\n",
              "      <td>August 22, Chengdu Radio and Television \"Panda...</td>\n",
              "      <td>August 22, Chengdu Radio and Television \"Panda...</td>\n",
              "      <td>Xinhua agency</td>\n",
              "      <td>http://www.sc.xinhuanet.com/content/2019-08/22...</td>\n",
              "      <td></td>\n",
              "      <td></td>\n",
              "      <td></td>\n",
              "      <td></td>\n",
              "      <td>present</td>\n",
              "    </tr>\n",
              "    <tr>\n",
              "      <th>4</th>\n",
              "      <td>从郑和下西洋到今天，中国经历了怎样的变化？</td>\n",
              "      <td>From Zheng He to this day, China has experienc...</td>\n",
              "      <td>Newspaper</td>\n",
              "      <td>2019-10-27</td>\n",
              "      <td>China</td>\n",
              "      <td>15世纪初叶，郑和率领当时世界上最强大的船队，完成了7次下西洋的壮举。中国的造船技术和航海技...</td>\n",
              "      <td>Chinese</td>\n",
              "      <td>Early in the 15th century, Zheng He led the wo...</td>\n",
              "      <td>Early in the 15th century, Zheng He led the wo...</td>\n",
              "      <td>Xinhua agency</td>\n",
              "      <td>http://www.qstheory.cn/laigao/ycjx/2019-10/27/...</td>\n",
              "      <td></td>\n",
              "      <td></td>\n",
              "      <td></td>\n",
              "      <td></td>\n",
              "      <td>present</td>\n",
              "    </tr>\n",
              "  </tbody>\n",
              "</table>\n",
              "</div>"
            ],
            "text/plain": [
              "                         Title  ... zhengFilter\n",
              "0           中马将合作拍摄大型电视连续剧《郑和》  ...     present\n",
              "1          “2019国际郑和论坛”在马来西亚举行  ...     present\n",
              "2  晋宁郑和·世界航海邮票展览馆： 方寸之间遨游世界航海史  ...     present\n",
              "3  带着“一带一路”的独家记忆 “熊猫小记者”郑和队返程！  ...     present\n",
              "4        从郑和下西洋到今天，中国经历了怎样的变化？  ...     present\n",
              "\n",
              "[5 rows x 16 columns]"
            ]
          },
          "metadata": {
            "tags": []
          },
          "execution_count": 14
        }
      ]
    },
    {
      "cell_type": "code",
      "metadata": {
        "colab": {
          "base_uri": "https://localhost:8080/"
        },
        "id": "1p40eWQXGUUN",
        "outputId": "34625a6f-5aea-490e-9975-3b056ae0f232"
      },
      "source": [
        "df.zhengFilter.value_counts()"
      ],
      "execution_count": null,
      "outputs": [
        {
          "output_type": "execute_result",
          "data": {
            "text/plain": [
              "present        214\n",
              "not present     12\n",
              "Name: zhengFilter, dtype: int64"
            ]
          },
          "metadata": {
            "tags": []
          },
          "execution_count": 15
        }
      ]
    },
    {
      "cell_type": "code",
      "metadata": {
        "id": "edghmV1i8Eeo"
      },
      "source": [
        ""
      ],
      "execution_count": null,
      "outputs": []
    },
    {
      "cell_type": "code",
      "metadata": {
        "id": "nIr4O8zG8E9p"
      },
      "source": [
        "# loading the model\n",
        "model = load_model(\"model.h5\")"
      ],
      "execution_count": null,
      "outputs": []
    },
    {
      "cell_type": "code",
      "metadata": {
        "id": "JOFB6Dr58E9z"
      },
      "source": [
        "# loading the tokenizer\n",
        "\n",
        "import pickle\n",
        "with open('tokenizer.pickle', 'rb') as handle:\n",
        "    tokenizer = pickle.load(handle)"
      ],
      "execution_count": null,
      "outputs": []
    },
    {
      "cell_type": "code",
      "metadata": {
        "id": "LKjLlAPbN4hM"
      },
      "source": [
        "def predictingForDataset(s):\n",
        "  l = []\n",
        "  s = re.sub('[^A-Za-z]',\" \",s)\n",
        "  s = s.strip()\n",
        "  s = s.replace(\" +\",\" \")\n",
        "\n",
        "  l.append(s)\n",
        "  # print(l)\n",
        "  text = l\n",
        "  MAX_SEQUENCE_LENGTH= 200\n",
        "  seq = tokenizer.texts_to_sequences(text)\n",
        "  # print(seq)\n",
        "  padded = pad_sequences(seq, maxlen=MAX_SEQUENCE_LENGTH)\n",
        "  pred = model.predict(padded)\n",
        "  # print(pred)\n",
        "  # print(Y)\n",
        "  # labels = dummies.columns\n",
        "  labels = [0, 4]\n",
        "  # print(\"labels: \",labels)\n",
        "  # print(pred, labels[np.argmax(pred)])\n",
        "\n",
        "  if labels[np.argmax(pred)] == 4:\n",
        "    return \"positive\"\n",
        "    # print(\"sentiment: positive\")\n",
        "  else:\n",
        "    return \"negative\""
      ],
      "execution_count": null,
      "outputs": []
    },
    {
      "cell_type": "code",
      "metadata": {
        "id": "u1p8Sx0rOWIQ"
      },
      "source": [
        "df[\"predictions\"] = df[\"Translation (values)\"].apply(lambda x: predictingForDataset(x))"
      ],
      "execution_count": null,
      "outputs": []
    },
    {
      "cell_type": "code",
      "metadata": {
        "colab": {
          "base_uri": "https://localhost:8080/",
          "height": 1000
        },
        "id": "0KQET9GwO_FA",
        "outputId": "08c2473f-fbe8-46ac-db6d-d975cd5d69c3"
      },
      "source": [
        "df.head()"
      ],
      "execution_count": null,
      "outputs": [
        {
          "output_type": "execute_result",
          "data": {
            "text/html": [
              "<div>\n",
              "<style scoped>\n",
              "    .dataframe tbody tr th:only-of-type {\n",
              "        vertical-align: middle;\n",
              "    }\n",
              "\n",
              "    .dataframe tbody tr th {\n",
              "        vertical-align: top;\n",
              "    }\n",
              "\n",
              "    .dataframe thead th {\n",
              "        text-align: right;\n",
              "    }\n",
              "</style>\n",
              "<table border=\"1\" class=\"dataframe\">\n",
              "  <thead>\n",
              "    <tr style=\"text-align: right;\">\n",
              "      <th></th>\n",
              "      <th>Title</th>\n",
              "      <th>Title (translation)</th>\n",
              "      <th>Media type</th>\n",
              "      <th>Date Published</th>\n",
              "      <th>Country/Region</th>\n",
              "      <th>Text</th>\n",
              "      <th>Language</th>\n",
              "      <th>Translation (formula)</th>\n",
              "      <th>Translation (values)</th>\n",
              "      <th>Source</th>\n",
              "      <th>URL</th>\n",
              "      <th>Unnamed: 11</th>\n",
              "      <th>Unnamed: 12</th>\n",
              "      <th>Unnamed: 13</th>\n",
              "      <th>Unnamed: 14</th>\n",
              "      <th>zhengFilter</th>\n",
              "      <th>predictions</th>\n",
              "    </tr>\n",
              "  </thead>\n",
              "  <tbody>\n",
              "    <tr>\n",
              "      <th>0</th>\n",
              "      <td>中马将合作拍摄大型电视连续剧《郑和》</td>\n",
              "      <td>Malaysia will team up large-scale TV series \"Z...</td>\n",
              "      <td>Newspaper</td>\n",
              "      <td>2019-11-1</td>\n",
              "      <td>Malaysia</td>\n",
              "      <td>中马合拍历史大剧《郑和》新闻发布会1日在马来西亚吉隆坡举行。马来西亚新濠天影有限公司与中国国...</td>\n",
              "      <td>Chinese</td>\n",
              "      <td>Malaysia co-production major historical drama ...</td>\n",
              "      <td>Malaysia co-production major historical drama ...</td>\n",
              "      <td>Xinhua agency</td>\n",
              "      <td>http://www.xinhuanet.com/2019-11/01/c_11251833...</td>\n",
              "      <td></td>\n",
              "      <td></td>\n",
              "      <td></td>\n",
              "      <td></td>\n",
              "      <td>present</td>\n",
              "      <td>positive</td>\n",
              "    </tr>\n",
              "    <tr>\n",
              "      <th>1</th>\n",
              "      <td>“2019国际郑和论坛”在马来西亚举行</td>\n",
              "      <td>\"Zheng 2019 International Forum\" held in Malaysia</td>\n",
              "      <td>Newspaper</td>\n",
              "      <td>2019-11-15</td>\n",
              "      <td>Malaysia</td>\n",
              "      <td>“2019国际郑和论坛”14日至15日在马来西亚古城马六甲举行。本次论坛由马来西亚旅游和文化...</td>\n",
              "      <td>Chinese</td>\n",
              "      <td>\"2019 International Forum on Zheng He\" was hel...</td>\n",
              "      <td>\"2019 International Forum on Zheng He\" was hel...</td>\n",
              "      <td>Xinhua agency</td>\n",
              "      <td>http://www.xinhuanet.com/2019-11/15/c_11252384...</td>\n",
              "      <td></td>\n",
              "      <td></td>\n",
              "      <td></td>\n",
              "      <td></td>\n",
              "      <td>present</td>\n",
              "      <td>positive</td>\n",
              "    </tr>\n",
              "    <tr>\n",
              "      <th>2</th>\n",
              "      <td>晋宁郑和·世界航海邮票展览馆： 方寸之间遨游世界航海史</td>\n",
              "      <td>Jinning Zheng-world sailing Stamp Exhibition: ...</td>\n",
              "      <td>Newspaper</td>\n",
              "      <td>2019-7-10</td>\n",
              "      <td>China</td>\n",
              "      <td>人们常把邮票称之为“国家名片”，本国值得骄傲的古今人物、事物都寓于邮票的方寸之间。在郑和故里...</td>\n",
              "      <td>Chinese</td>\n",
              "      <td>People often put a stamp called \"national card...</td>\n",
              "      <td>People often put a stamp called a \"national ca...</td>\n",
              "      <td>Xinhua agency</td>\n",
              "      <td>http://m.xinhuanet.com/yn/2019-07/10/c_1382144...</td>\n",
              "      <td></td>\n",
              "      <td></td>\n",
              "      <td></td>\n",
              "      <td></td>\n",
              "      <td>present</td>\n",
              "      <td>positive</td>\n",
              "    </tr>\n",
              "    <tr>\n",
              "      <th>3</th>\n",
              "      <td>带着“一带一路”的独家记忆 “熊猫小记者”郑和队返程！</td>\n",
              "      <td>With \"along the way\" exclusive memory \"Panda s...</td>\n",
              "      <td>Picture News</td>\n",
              "      <td>2019-8-22</td>\n",
              "      <td>Maldives</td>\n",
              "      <td>8月22日，成都市广播电视台“熊猫小记者”郑和队圆满完成了9天的行程，带着满满的感悟与记忆返...</td>\n",
              "      <td>Chinese</td>\n",
              "      <td>August 22, Chengdu Radio and Television \"Panda...</td>\n",
              "      <td>August 22, Chengdu Radio and Television \"Panda...</td>\n",
              "      <td>Xinhua agency</td>\n",
              "      <td>http://www.sc.xinhuanet.com/content/2019-08/22...</td>\n",
              "      <td></td>\n",
              "      <td></td>\n",
              "      <td></td>\n",
              "      <td></td>\n",
              "      <td>present</td>\n",
              "      <td>negative</td>\n",
              "    </tr>\n",
              "    <tr>\n",
              "      <th>4</th>\n",
              "      <td>从郑和下西洋到今天，中国经历了怎样的变化？</td>\n",
              "      <td>From Zheng He to this day, China has experienc...</td>\n",
              "      <td>Newspaper</td>\n",
              "      <td>2019-10-27</td>\n",
              "      <td>China</td>\n",
              "      <td>15世纪初叶，郑和率领当时世界上最强大的船队，完成了7次下西洋的壮举。中国的造船技术和航海技...</td>\n",
              "      <td>Chinese</td>\n",
              "      <td>Early in the 15th century, Zheng He led the wo...</td>\n",
              "      <td>Early in the 15th century, Zheng He led the wo...</td>\n",
              "      <td>Xinhua agency</td>\n",
              "      <td>http://www.qstheory.cn/laigao/ycjx/2019-10/27/...</td>\n",
              "      <td></td>\n",
              "      <td></td>\n",
              "      <td></td>\n",
              "      <td></td>\n",
              "      <td>present</td>\n",
              "      <td>negative</td>\n",
              "    </tr>\n",
              "  </tbody>\n",
              "</table>\n",
              "</div>"
            ],
            "text/plain": [
              "                         Title  ... predictions\n",
              "0           中马将合作拍摄大型电视连续剧《郑和》  ...    positive\n",
              "1          “2019国际郑和论坛”在马来西亚举行  ...    positive\n",
              "2  晋宁郑和·世界航海邮票展览馆： 方寸之间遨游世界航海史  ...    positive\n",
              "3  带着“一带一路”的独家记忆 “熊猫小记者”郑和队返程！  ...    negative\n",
              "4        从郑和下西洋到今天，中国经历了怎样的变化？  ...    negative\n",
              "\n",
              "[5 rows x 17 columns]"
            ]
          },
          "metadata": {
            "tags": []
          },
          "execution_count": 20
        }
      ]
    },
    {
      "cell_type": "code",
      "metadata": {
        "id": "UmABG2G6nvMB"
      },
      "source": [
        "df.to_csv(\"dfPredictions.csv\", index=False)"
      ],
      "execution_count": null,
      "outputs": []
    },
    {
      "cell_type": "code",
      "metadata": {
        "colab": {
          "base_uri": "https://localhost:8080/",
          "height": 298
        },
        "id": "kOmZJq2YPaZ9",
        "outputId": "32230d64-006e-4a01-9b71-97d048cd1c4d"
      },
      "source": [
        "df.predictions.value_counts().plot.bar()\n",
        "plt.savefig(\"predictions counts\")"
      ],
      "execution_count": null,
      "outputs": [
        {
          "output_type": "display_data",
          "data": {
            "image/png": "[encoded data removed]",
            "text/plain": [
              "<Figure size 432x288 with 1 Axes>"
            ]
          },
          "metadata": {
            "tags": [],
            "needs_background": "light"
          }
        }
      ]
    },
    {
      "cell_type": "code",
      "metadata": {
        "id": "kTTUPUGS8E98"
      },
      "source": [
        "negScore = []\n",
        "posScore = []\n",
        "predLabel = []\n",
        "dft = df[df.zhengFilter == \"present\"]\n",
        "import re\n",
        "for ind in range(len(dft)):\n",
        "  l = []\n",
        "  # print(ind)\n",
        "  s = dft.iloc[ind,3]\n",
        "  s = re.sub('[^A-Za-z]',\" \",s)\n",
        "  s = s.strip()\n",
        "  s = s.replace(\" +\",\" \")\n",
        "\n",
        "  l.append(s)\n",
        "  # print(l)\n",
        "  text = l\n",
        "  MAX_SEQUENCE_LENGTH= 200\n",
        "  seq = tokenizer.texts_to_sequences(text)\n",
        "  # print(seq)\n",
        "  padded = pad_sequences(seq, maxlen=MAX_SEQUENCE_LENGTH)\n",
        "  pred = model.predict(padded)\n",
        "  # print(pred)\n",
        "  negScore.append(pred[0][0])\n",
        "  posScore.append(pred[0][1])\n",
        "  # print(Y)\n",
        "  # labels = dummies.columns\n",
        "  labels = [0, 4]\n",
        "  # print(\"labels: \",labels)\n",
        "  # print(pred, labels[np.argmax(pred)])\n",
        "\n",
        "  if labels[np.argmax(pred)] == 4:\n",
        "    predLabel.append(\"positive\")\n",
        "    # print(\"sentiment: positive\")\n",
        "  else:\n",
        "    predLabel.append(\"negative\")\n",
        "    # print(\"sentiment: negative\")\n",
        "  # print(\"=\"*30)"
      ],
      "execution_count": null,
      "outputs": []
    },
    {
      "cell_type": "code",
      "metadata": {
        "id": "yrm4gZ0p8E9_"
      },
      "source": [
        "dfSents = pd.DataFrame({\n",
        "    \"positive confidnence Score\":posScore,\n",
        "    \"negative confidnence Score\":negScore,\n",
        "    \"Sentiment\":predLabel,\n",
        "})"
      ],
      "execution_count": null,
      "outputs": []
    },
    {
      "cell_type": "code",
      "metadata": {
        "colab": {
          "base_uri": "https://localhost:8080/"
        },
        "id": "TufCXkx19eQi",
        "outputId": "3fdfaeb7-b693-454c-91bb-43e6dad8c2c3"
      },
      "source": [
        "dfSents.Sentiment.value_counts()"
      ],
      "execution_count": null,
      "outputs": [
        {
          "output_type": "execute_result",
          "data": {
            "text/plain": [
              "positive    116\n",
              "negative     98\n",
              "Name: Sentiment, dtype: int64"
            ]
          },
          "metadata": {
            "tags": []
          },
          "execution_count": 28
        }
      ]
    },
    {
      "cell_type": "code",
      "metadata": {
        "colab": {
          "base_uri": "https://localhost:8080/",
          "height": 295
        },
        "id": "j1s2SIcARuaY",
        "outputId": "e6790902-5d6b-442d-ca54-63ebf557c447"
      },
      "source": [
        "\n",
        "plt.hist(dfSents[\"positive confidnence Score\"], color = 'blue', edgecolor = 'black',\n",
        "         bins = int(180/5))\n",
        "\n",
        "plt.title('Histogram of positive probability distribution')\n",
        "plt.xlabel('probability range')\n",
        "plt.ylabel('counts')\n",
        "plt.savefig(\"positive probability distribution\")"
      ],
      "execution_count": null,
      "outputs": [
        {
          "output_type": "display_data",
          "data": {
            "image/png": "[encoded data removed]",
            "text/plain": [
              "<Figure size 432x288 with 1 Axes>"
            ]
          },
          "metadata": {
            "tags": [],
            "needs_background": "light"
          }
        }
      ]
    },
    {
      "cell_type": "code",
      "metadata": {
        "colab": {
          "base_uri": "https://localhost:8080/",
          "height": 295
        },
        "id": "g1yV-YvtSdDd",
        "outputId": "c6f19d3c-4bc4-4651-922b-e13f0b27906c"
      },
      "source": [
        "\n",
        "plt.hist(dfSents[\"negative confidnence Score\"], color = 'blue', edgecolor = 'black',\n",
        "         bins = int(180/5))\n",
        "\n",
        "plt.title('Histogram of negative probability distribution')\n",
        "plt.xlabel('probability range')\n",
        "plt.ylabel('counts')\n",
        "plt.savefig(\"negative probability distribution\")"
      ],
      "execution_count": null,
      "outputs": [
        {
          "output_type": "display_data",
          "data": {
            "image/png": "[encoded data removed]",
            "text/plain": [
              "<Figure size 432x288 with 1 Axes>"
            ]
          },
          "metadata": {
            "tags": [],
            "needs_background": "light"
          }
        }
      ]
    },
    {
      "cell_type": "code",
      "metadata": {
        "colab": {
          "base_uri": "https://localhost:8080/",
          "height": 277
        },
        "id": "HiWRK6oz9XdA",
        "outputId": "a9ef6e12-7d04-4cc8-f848-475ea08e06b6"
      },
      "source": [
        "dfSents.describe()"
      ],
      "execution_count": null,
      "outputs": [
        {
          "output_type": "execute_result",
          "data": {
            "text/html": [
              "<div>\n",
              "<style scoped>\n",
              "    .dataframe tbody tr th:only-of-type {\n",
              "        vertical-align: middle;\n",
              "    }\n",
              "\n",
              "    .dataframe tbody tr th {\n",
              "        vertical-align: top;\n",
              "    }\n",
              "\n",
              "    .dataframe thead th {\n",
              "        text-align: right;\n",
              "    }\n",
              "</style>\n",
              "<table border=\"1\" class=\"dataframe\">\n",
              "  <thead>\n",
              "    <tr style=\"text-align: right;\">\n",
              "      <th></th>\n",
              "      <th>positive confidnence Score</th>\n",
              "      <th>negative confidnence Score</th>\n",
              "    </tr>\n",
              "  </thead>\n",
              "  <tbody>\n",
              "    <tr>\n",
              "      <th>count</th>\n",
              "      <td>214.000000</td>\n",
              "      <td>214.000000</td>\n",
              "    </tr>\n",
              "    <tr>\n",
              "      <th>mean</th>\n",
              "      <td>0.523056</td>\n",
              "      <td>0.476944</td>\n",
              "    </tr>\n",
              "    <tr>\n",
              "      <th>std</th>\n",
              "      <td>0.269460</td>\n",
              "      <td>0.269460</td>\n",
              "    </tr>\n",
              "    <tr>\n",
              "      <th>min</th>\n",
              "      <td>0.031403</td>\n",
              "      <td>0.013424</td>\n",
              "    </tr>\n",
              "    <tr>\n",
              "      <th>25%</th>\n",
              "      <td>0.296616</td>\n",
              "      <td>0.238965</td>\n",
              "    </tr>\n",
              "    <tr>\n",
              "      <th>50%</th>\n",
              "      <td>0.559239</td>\n",
              "      <td>0.440761</td>\n",
              "    </tr>\n",
              "    <tr>\n",
              "      <th>75%</th>\n",
              "      <td>0.761035</td>\n",
              "      <td>0.703384</td>\n",
              "    </tr>\n",
              "    <tr>\n",
              "      <th>max</th>\n",
              "      <td>0.986576</td>\n",
              "      <td>0.968597</td>\n",
              "    </tr>\n",
              "  </tbody>\n",
              "</table>\n",
              "</div>"
            ],
            "text/plain": [
              "       positive confidnence Score  negative confidnence Score\n",
              "count                  214.000000                  214.000000\n",
              "mean                     0.523056                    0.476944\n",
              "std                      0.269460                    0.269460\n",
              "min                      0.031403                    0.013424\n",
              "25%                      0.296616                    0.238965\n",
              "50%                      0.559239                    0.440761\n",
              "75%                      0.761035                    0.703384\n",
              "max                      0.986576                    0.968597"
            ]
          },
          "metadata": {
            "tags": []
          },
          "execution_count": 33
        }
      ]
    },
    {
      "cell_type": "code",
      "metadata": {
        "id": "DuTBpiS0_iFX"
      },
      "source": [
        "# keyword part\n",
        "keywords = ['economy','investments','money']\n",
        "\n",
        "def keywordMapping(x, keywords = keywords):\n",
        "  c = 0\n",
        "  for word in x.split():\n",
        "    if word in keywords:\n",
        "      c += 1\n",
        "  return c"
      ],
      "execution_count": null,
      "outputs": []
    },
    {
      "cell_type": "code",
      "metadata": {
        "id": "yqqdzRmj_h_l"
      },
      "source": [
        "dfWithScore = df.copy()\n",
        "dfWithScore[\"scoreKeys\"] = df[\"Translation (values)\"].apply(lambda x: keywordMapping(x))"
      ],
      "execution_count": null,
      "outputs": []
    },
    {
      "cell_type": "code",
      "metadata": {
        "colab": {
          "base_uri": "https://localhost:8080/",
          "height": 277
        },
        "id": "uELYfGgc_h4S",
        "outputId": "faced198-8bcf-484e-d7f3-aa9a1cb7d1e1"
      },
      "source": [
        "dfWithScore.describe()"
      ],
      "execution_count": null,
      "outputs": [
        {
          "output_type": "execute_result",
          "data": {
            "text/html": [
              "<div>\n",
              "<style scoped>\n",
              "    .dataframe tbody tr th:only-of-type {\n",
              "        vertical-align: middle;\n",
              "    }\n",
              "\n",
              "    .dataframe tbody tr th {\n",
              "        vertical-align: top;\n",
              "    }\n",
              "\n",
              "    .dataframe thead th {\n",
              "        text-align: right;\n",
              "    }\n",
              "</style>\n",
              "<table border=\"1\" class=\"dataframe\">\n",
              "  <thead>\n",
              "    <tr style=\"text-align: right;\">\n",
              "      <th></th>\n",
              "      <th>scoreKeys</th>\n",
              "    </tr>\n",
              "  </thead>\n",
              "  <tbody>\n",
              "    <tr>\n",
              "      <th>count</th>\n",
              "      <td>226.000000</td>\n",
              "    </tr>\n",
              "    <tr>\n",
              "      <th>mean</th>\n",
              "      <td>0.190265</td>\n",
              "    </tr>\n",
              "    <tr>\n",
              "      <th>std</th>\n",
              "      <td>0.584308</td>\n",
              "    </tr>\n",
              "    <tr>\n",
              "      <th>min</th>\n",
              "      <td>0.000000</td>\n",
              "    </tr>\n",
              "    <tr>\n",
              "      <th>25%</th>\n",
              "      <td>0.000000</td>\n",
              "    </tr>\n",
              "    <tr>\n",
              "      <th>50%</th>\n",
              "      <td>0.000000</td>\n",
              "    </tr>\n",
              "    <tr>\n",
              "      <th>75%</th>\n",
              "      <td>0.000000</td>\n",
              "    </tr>\n",
              "    <tr>\n",
              "      <th>max</th>\n",
              "      <td>5.000000</td>\n",
              "    </tr>\n",
              "  </tbody>\n",
              "</table>\n",
              "</div>"
            ],
            "text/plain": [
              "        scoreKeys\n",
              "count  226.000000\n",
              "mean     0.190265\n",
              "std      0.584308\n",
              "min      0.000000\n",
              "25%      0.000000\n",
              "50%      0.000000\n",
              "75%      0.000000\n",
              "max      5.000000"
            ]
          },
          "metadata": {
            "tags": []
          },
          "execution_count": 31
        }
      ]
    },
    {
      "cell_type": "code",
      "metadata": {
        "id": "vIS4Y241EnKL"
      },
      "source": [
        ""
      ],
      "execution_count": null,
      "outputs": []
    },
    {
      "cell_type": "code",
      "metadata": {
        "id": "XicaeC-KGUPN"
      },
      "source": [
        "dfGroupedCountriesHypothesisOne = df[df.zhengFilter == \"present\"].groupby(\"Country/Region\").count()"
      ],
      "execution_count": null,
      "outputs": []
    },
    {
      "cell_type": "code",
      "metadata": {
        "colab": {
          "base_uri": "https://localhost:8080/",
          "height": 967
        },
        "id": "Z4dtJGDnUfNz",
        "outputId": "ca74e4a8-8c87-4006-ee1d-4dca8f706651"
      },
      "source": [
        "dfTopTenCountries = dfGroupedCountriesHypothesisOne.sort_values(\"Media type\", ascending= False)\n",
        "dfTopTenCountries = dfTopTenCountries[\"Media type\"].reset_index()\n",
        "# print(dfTopTenCountries.columns)\n",
        "dfTopTenCountries.columns = [\"Country\",\"MentionFrequency\"]\n",
        "# dfTopTenCountries = dfTopTenCountries.reset_index()\n",
        "dfTopTenCountries"
      ],
      "execution_count": null,
      "outputs": [
        {
          "output_type": "execute_result",
          "data": {
            "text/html": [
              "<div>\n",
              "<style scoped>\n",
              "    .dataframe tbody tr th:only-of-type {\n",
              "        vertical-align: middle;\n",
              "    }\n",
              "\n",
              "    .dataframe tbody tr th {\n",
              "        vertical-align: top;\n",
              "    }\n",
              "\n",
              "    .dataframe thead th {\n",
              "        text-align: right;\n",
              "    }\n",
              "</style>\n",
              "<table border=\"1\" class=\"dataframe\">\n",
              "  <thead>\n",
              "    <tr style=\"text-align: right;\">\n",
              "      <th></th>\n",
              "      <th>Country</th>\n",
              "      <th>MentionFrequency</th>\n",
              "    </tr>\n",
              "  </thead>\n",
              "  <tbody>\n",
              "    <tr>\n",
              "      <th>0</th>\n",
              "      <td>China</td>\n",
              "      <td>64</td>\n",
              "    </tr>\n",
              "    <tr>\n",
              "      <th>1</th>\n",
              "      <td>Malaysia</td>\n",
              "      <td>49</td>\n",
              "    </tr>\n",
              "    <tr>\n",
              "      <th>2</th>\n",
              "      <td>Kenya</td>\n",
              "      <td>23</td>\n",
              "    </tr>\n",
              "    <tr>\n",
              "      <th>3</th>\n",
              "      <td>Indonesia</td>\n",
              "      <td>20</td>\n",
              "    </tr>\n",
              "    <tr>\n",
              "      <th>4</th>\n",
              "      <td>Sri Lanka</td>\n",
              "      <td>9</td>\n",
              "    </tr>\n",
              "    <tr>\n",
              "      <th>5</th>\n",
              "      <td>Thailand</td>\n",
              "      <td>7</td>\n",
              "    </tr>\n",
              "    <tr>\n",
              "      <th>6</th>\n",
              "      <td>Somalia</td>\n",
              "      <td>7</td>\n",
              "    </tr>\n",
              "    <tr>\n",
              "      <th>7</th>\n",
              "      <td>Singapore</td>\n",
              "      <td>5</td>\n",
              "    </tr>\n",
              "    <tr>\n",
              "      <th>8</th>\n",
              "      <td>Taiwan</td>\n",
              "      <td>3</td>\n",
              "    </tr>\n",
              "    <tr>\n",
              "      <th>9</th>\n",
              "      <td>India</td>\n",
              "      <td>3</td>\n",
              "    </tr>\n",
              "    <tr>\n",
              "      <th>10</th>\n",
              "      <td>Canada</td>\n",
              "      <td>2</td>\n",
              "    </tr>\n",
              "    <tr>\n",
              "      <th>11</th>\n",
              "      <td>Philippines</td>\n",
              "      <td>2</td>\n",
              "    </tr>\n",
              "    <tr>\n",
              "      <th>12</th>\n",
              "      <td>Saudi Arabia</td>\n",
              "      <td>1</td>\n",
              "    </tr>\n",
              "    <tr>\n",
              "      <th>13</th>\n",
              "      <td>America</td>\n",
              "      <td>1</td>\n",
              "    </tr>\n",
              "    <tr>\n",
              "      <th>14</th>\n",
              "      <td>Tanzania</td>\n",
              "      <td>1</td>\n",
              "    </tr>\n",
              "    <tr>\n",
              "      <th>15</th>\n",
              "      <td>Ukraine</td>\n",
              "      <td>1</td>\n",
              "    </tr>\n",
              "    <tr>\n",
              "      <th>16</th>\n",
              "      <td>Viet Nam</td>\n",
              "      <td>1</td>\n",
              "    </tr>\n",
              "    <tr>\n",
              "      <th>17</th>\n",
              "      <td>Zimbabwe</td>\n",
              "      <td>1</td>\n",
              "    </tr>\n",
              "    <tr>\n",
              "      <th>18</th>\n",
              "      <td>Qatar</td>\n",
              "      <td>1</td>\n",
              "    </tr>\n",
              "    <tr>\n",
              "      <th>19</th>\n",
              "      <td>Maldives</td>\n",
              "      <td>1</td>\n",
              "    </tr>\n",
              "    <tr>\n",
              "      <th>20</th>\n",
              "      <td>Pakistan</td>\n",
              "      <td>1</td>\n",
              "    </tr>\n",
              "    <tr>\n",
              "      <th>21</th>\n",
              "      <td>Myanmar</td>\n",
              "      <td>1</td>\n",
              "    </tr>\n",
              "    <tr>\n",
              "      <th>22</th>\n",
              "      <td>Arab</td>\n",
              "      <td>1</td>\n",
              "    </tr>\n",
              "    <tr>\n",
              "      <th>23</th>\n",
              "      <td>Kuwait</td>\n",
              "      <td>1</td>\n",
              "    </tr>\n",
              "    <tr>\n",
              "      <th>24</th>\n",
              "      <td>Japan</td>\n",
              "      <td>1</td>\n",
              "    </tr>\n",
              "    <tr>\n",
              "      <th>25</th>\n",
              "      <td>Hong Kong</td>\n",
              "      <td>1</td>\n",
              "    </tr>\n",
              "    <tr>\n",
              "      <th>26</th>\n",
              "      <td>Greece</td>\n",
              "      <td>1</td>\n",
              "    </tr>\n",
              "    <tr>\n",
              "      <th>27</th>\n",
              "      <td>France</td>\n",
              "      <td>1</td>\n",
              "    </tr>\n",
              "    <tr>\n",
              "      <th>28</th>\n",
              "      <td>England</td>\n",
              "      <td>1</td>\n",
              "    </tr>\n",
              "    <tr>\n",
              "      <th>29</th>\n",
              "      <td>Brunei</td>\n",
              "      <td>1</td>\n",
              "    </tr>\n",
              "    <tr>\n",
              "      <th>30</th>\n",
              "      <td>Bangladesh</td>\n",
              "      <td>1</td>\n",
              "    </tr>\n",
              "    <tr>\n",
              "      <th>31</th>\n",
              "      <td>zimbabwe</td>\n",
              "      <td>1</td>\n",
              "    </tr>\n",
              "  </tbody>\n",
              "</table>\n",
              "</div>"
            ],
            "text/plain": [
              "         Country  MentionFrequency\n",
              "0          China                64\n",
              "1       Malaysia                49\n",
              "2          Kenya                23\n",
              "3      Indonesia                20\n",
              "4      Sri Lanka                 9\n",
              "5       Thailand                 7\n",
              "6        Somalia                 7\n",
              "7      Singapore                 5\n",
              "8         Taiwan                 3\n",
              "9          India                 3\n",
              "10        Canada                 2\n",
              "11   Philippines                 2\n",
              "12  Saudi Arabia                 1\n",
              "13       America                 1\n",
              "14      Tanzania                 1\n",
              "15       Ukraine                 1\n",
              "16      Viet Nam                 1\n",
              "17      Zimbabwe                 1\n",
              "18         Qatar                 1\n",
              "19      Maldives                 1\n",
              "20      Pakistan                 1\n",
              "21       Myanmar                 1\n",
              "22          Arab                 1\n",
              "23        Kuwait                 1\n",
              "24         Japan                 1\n",
              "25     Hong Kong                 1\n",
              "26        Greece                 1\n",
              "27        France                 1\n",
              "28       England                 1\n",
              "29        Brunei                 1\n",
              "30    Bangladesh                 1\n",
              "31      zimbabwe                 1"
            ]
          },
          "metadata": {
            "tags": []
          },
          "execution_count": 46
        }
      ]
    },
    {
      "cell_type": "code",
      "metadata": {
        "colab": {
          "base_uri": "https://localhost:8080/",
          "height": 512
        },
        "id": "L0LK1BQNSPgp",
        "outputId": "fee399d2-5854-4405-ca48-3a9545682c4e"
      },
      "source": [
        "dfTopTenCountries.plot(x='Country', y='MentionFrequency', kind='bar', figsize=(15, 7))\n",
        "plt.title(\"frequency of news articles published in respective countries\")\n",
        "plt.savefig(\"frequency of news articles published in respective countries\")"
      ],
      "execution_count": null,
      "outputs": [
        {
          "output_type": "display_data",
          "data": {
            "image/png": "[encoded data removed]",
            "text/plain": [
              "<Figure size 1080x504 with 1 Axes>"
            ]
          },
          "metadata": {
            "tags": [],
            "needs_background": "light"
          }
        }
      ]
    },
    {
      "cell_type": "markdown",
      "metadata": {
        "id": "wQRhJTjoSrvJ"
      },
      "source": [
        "### Conclusion: Most of the articles mentioning Zheng He are with particular countries clearly depicting targeted promotion."
      ]
    },
    {
      "cell_type": "code",
      "metadata": {
        "colab": {
          "base_uri": "https://localhost:8080/",
          "height": 277
        },
        "id": "iPfGrYejJmZ3",
        "outputId": "f5a6f407-28cb-4d01-f284-daa3f818bd7e"
      },
      "source": [
        "dfTopTenCountries.describe()"
      ],
      "execution_count": null,
      "outputs": [
        {
          "output_type": "execute_result",
          "data": {
            "text/html": [
              "<div>\n",
              "<style scoped>\n",
              "    .dataframe tbody tr th:only-of-type {\n",
              "        vertical-align: middle;\n",
              "    }\n",
              "\n",
              "    .dataframe tbody tr th {\n",
              "        vertical-align: top;\n",
              "    }\n",
              "\n",
              "    .dataframe thead th {\n",
              "        text-align: right;\n",
              "    }\n",
              "</style>\n",
              "<table border=\"1\" class=\"dataframe\">\n",
              "  <thead>\n",
              "    <tr style=\"text-align: right;\">\n",
              "      <th></th>\n",
              "      <th>MentionFrequency</th>\n",
              "    </tr>\n",
              "  </thead>\n",
              "  <tbody>\n",
              "    <tr>\n",
              "      <th>count</th>\n",
              "      <td>32.000000</td>\n",
              "    </tr>\n",
              "    <tr>\n",
              "      <th>mean</th>\n",
              "      <td>6.687500</td>\n",
              "    </tr>\n",
              "    <tr>\n",
              "      <th>std</th>\n",
              "      <td>14.193223</td>\n",
              "    </tr>\n",
              "    <tr>\n",
              "      <th>min</th>\n",
              "      <td>1.000000</td>\n",
              "    </tr>\n",
              "    <tr>\n",
              "      <th>25%</th>\n",
              "      <td>1.000000</td>\n",
              "    </tr>\n",
              "    <tr>\n",
              "      <th>50%</th>\n",
              "      <td>1.000000</td>\n",
              "    </tr>\n",
              "    <tr>\n",
              "      <th>75%</th>\n",
              "      <td>3.500000</td>\n",
              "    </tr>\n",
              "    <tr>\n",
              "      <th>max</th>\n",
              "      <td>64.000000</td>\n",
              "    </tr>\n",
              "  </tbody>\n",
              "</table>\n",
              "</div>"
            ],
            "text/plain": [
              "       MentionFrequency\n",
              "count         32.000000\n",
              "mean           6.687500\n",
              "std           14.193223\n",
              "min            1.000000\n",
              "25%            1.000000\n",
              "50%            1.000000\n",
              "75%            3.500000\n",
              "max           64.000000"
            ]
          },
          "metadata": {
            "tags": []
          },
          "execution_count": 53
        }
      ]
    },
    {
      "cell_type": "code",
      "metadata": {
        "id": "hlO0rV4kSHhm"
      },
      "source": [
        ""
      ],
      "execution_count": null,
      "outputs": []
    },
    {
      "cell_type": "code",
      "metadata": {
        "id": "FqSHMHGjGUJN"
      },
      "source": [
        "popularCountriesWithZheng = dfGroupedCountriesHypothesisOne.sort_values(\"Media type\", ascending= False).head(10).index.to_list()"
      ],
      "execution_count": null,
      "outputs": []
    },
    {
      "cell_type": "code",
      "metadata": {
        "colab": {
          "base_uri": "https://localhost:8080/"
        },
        "id": "hoo66CPQGUDJ",
        "outputId": "74263727-e929-482d-98d0-6d4691700d72"
      },
      "source": [
        "popularCountriesWithZheng"
      ],
      "execution_count": null,
      "outputs": [
        {
          "output_type": "execute_result",
          "data": {
            "text/plain": [
              "['China',\n",
              " 'Malaysia',\n",
              " 'Kenya',\n",
              " 'Indonesia',\n",
              " 'Sri Lanka',\n",
              " 'Thailand',\n",
              " 'Somalia',\n",
              " 'Singapore',\n",
              " 'Taiwan',\n",
              " 'India']"
            ]
          },
          "metadata": {
            "tags": []
          },
          "execution_count": 23
        }
      ]
    },
    {
      "cell_type": "markdown",
      "metadata": {
        "id": "H0souWTARCwh"
      },
      "source": [
        "Countries resisting BRI investments:\n",
        "\n",
        "source: https://www.cnbc.com/2019/01/18/countries-are-reducing-belt-and-road-investments-over-financing-fears.html\n",
        "\n",
        "Myanmar\n",
        "Sierra Leone\n",
        "Bangladesh\n",
        "\n",
        "Countries at high risks by \"debt trap\" as per studies:\n",
        "\n",
        "source: https://www.csis.org/npfp/its-debt-trap-managing-china-imf-cooperation-across-belt-and-road\n",
        "\n",
        "\n",
        "Djibouti, Kyrgyzstan, Laos, the Maldives, Mongolia, Montenegro, Pakistan, and Tajikistan.\n",
        "Malaysia cancelled two chinese funded projects.\n",
        "\n",
        "\n",
        "Protests in Kenya against BRI initiatives:\n",
        "source: https://www.orfonline.org/research/chinas-belt-and-road-initiative-implications-in-africa/\n",
        "\n",
        "\n",
        "BRI project reluctance amonst indonesian people:\n",
        "source: https://theasiadialogue.com/2019/10/04/belt-and-road-initiative-in-indonesia-and-relations-with-china/"
      ]
    },
    {
      "cell_type": "markdown",
      "metadata": {
        "id": "Nac8BR9fVyNw"
      },
      "source": [
        "### Hypothesis 2a has been verified, the data tells us the most popular countries where articles mentioning ZhengHe have been published.\n",
        "\n",
        "### These are the countries where anti BRI sentiments exists as per the media sources mentioned above."
      ]
    },
    {
      "cell_type": "markdown",
      "metadata": {
        "id": "8LZHyJJfXAco"
      },
      "source": [
        "source: https://www.britannica.com/biography/Zheng-He\n",
        "\n",
        "According to the article above.\n",
        "\n",
        "Zheng He visited the states of Southeast Asia, the coast of India, the Persian Gulf, the Red Sea, and the east coast of Africa. Zheng died in Calicut in the spring of 1433, and the fleet returned to China that summer.\n",
        "\n",
        "These geographic locations are the present day :\n",
        "\n",
        "Malaysia\n",
        "\n",
        "Kenya\n",
        "\n",
        "Indonesia\n",
        "\n",
        "Sri Lanka\n",
        "\n",
        "Thailand\n",
        "\n",
        "Somalia\n",
        "\n",
        "Singapore\n",
        "\n",
        "Taiwan\n",
        "\n",
        "India"
      ]
    },
    {
      "cell_type": "markdown",
      "metadata": {
        "id": "yFUNpaOFYDq2"
      },
      "source": [
        "### Hence the hypothesis 1b has been proved successfully, the sentiment analysis for the same has been done at the end of the notebook"
      ]
    },
    {
      "cell_type": "code",
      "metadata": {
        "id": "BoXOehoUhyEd"
      },
      "source": [
        ""
      ],
      "execution_count": null,
      "outputs": []
    },
    {
      "cell_type": "code",
      "metadata": {
        "id": "0UtqCpl1GT91"
      },
      "source": [
        "s = \"Afghanistan, Bhutan, India, Kazakhstan, North Korea, Kyrgyzstan, Laos, Mongolia, Myanmar, Nepal, Pakistan, Russia, Tajikistan, Viet nam\"\n",
        "s = s.lower()\n",
        "sL = s.split(\", \")"
      ],
      "execution_count": null,
      "outputs": []
    },
    {
      "cell_type": "code",
      "metadata": {
        "id": "jB6iSg_fGT3X",
        "colab": {
          "base_uri": "https://localhost:8080/"
        },
        "outputId": "c6d0c66f-26e9-4445-892f-7329e3eb958d"
      },
      "source": [
        "sL"
      ],
      "execution_count": null,
      "outputs": [
        {
          "output_type": "execute_result",
          "data": {
            "text/plain": [
              "['afghanistan',\n",
              " 'bhutan',\n",
              " 'india',\n",
              " 'kazakhstan',\n",
              " 'north korea',\n",
              " 'kyrgyzstan',\n",
              " 'laos',\n",
              " 'mongolia',\n",
              " 'myanmar',\n",
              " 'nepal',\n",
              " 'pakistan',\n",
              " 'russia',\n",
              " 'tajikistan',\n",
              " 'viet nam']"
            ]
          },
          "metadata": {
            "tags": []
          },
          "execution_count": 25
        }
      ]
    },
    {
      "cell_type": "code",
      "metadata": {
        "id": "qLHgwEnqGTyD"
      },
      "source": [
        "df[\"neighbouringCountries\"] = df[\"Country/Region\"].apply(lambda x: \"neighbouring\" if x.lower() in sL else \"not neighbouring\")"
      ],
      "execution_count": null,
      "outputs": []
    },
    {
      "cell_type": "code",
      "metadata": {
        "colab": {
          "base_uri": "https://localhost:8080/",
          "height": 191
        },
        "id": "iunKvK2mZ7Lh",
        "outputId": "631b2dba-681d-483a-d6b6-e42561a726dd"
      },
      "source": [
        "df.head()"
      ],
      "execution_count": null,
      "outputs": [
        {
          "output_type": "execute_result",
          "data": {
            "text/html": [
              "<div>\n",
              "<style scoped>\n",
              "    .dataframe tbody tr th:only-of-type {\n",
              "        vertical-align: middle;\n",
              "    }\n",
              "\n",
              "    .dataframe tbody tr th {\n",
              "        vertical-align: top;\n",
              "    }\n",
              "\n",
              "    .dataframe thead th {\n",
              "        text-align: right;\n",
              "    }\n",
              "</style>\n",
              "<table border=\"1\" class=\"dataframe\">\n",
              "  <thead>\n",
              "    <tr style=\"text-align: right;\">\n",
              "      <th></th>\n",
              "      <th>Title (translation)</th>\n",
              "      <th>Media type</th>\n",
              "      <th>Country/Region</th>\n",
              "      <th>Translation (values)</th>\n",
              "      <th>zhengFilter</th>\n",
              "      <th>neighbouringCountries</th>\n",
              "    </tr>\n",
              "  </thead>\n",
              "  <tbody>\n",
              "    <tr>\n",
              "      <th>0</th>\n",
              "      <td>Malaysia will team up large-scale TV series \"Z...</td>\n",
              "      <td>Newspaper</td>\n",
              "      <td>Malaysia</td>\n",
              "      <td>Malaysia co-production major historical drama ...</td>\n",
              "      <td>present</td>\n",
              "      <td>not neighbouring</td>\n",
              "    </tr>\n",
              "    <tr>\n",
              "      <th>1</th>\n",
              "      <td>\"Zheng 2019 International Forum\" held in Malaysia</td>\n",
              "      <td>Newspaper</td>\n",
              "      <td>Malaysia</td>\n",
              "      <td>\"2019 International Forum on Zheng He\" was hel...</td>\n",
              "      <td>present</td>\n",
              "      <td>not neighbouring</td>\n",
              "    </tr>\n",
              "    <tr>\n",
              "      <th>2</th>\n",
              "      <td>Jinning Zheng-world sailing Stamp Exhibition: ...</td>\n",
              "      <td>Newspaper</td>\n",
              "      <td>China</td>\n",
              "      <td>People often put a stamp called a \"national ca...</td>\n",
              "      <td>present</td>\n",
              "      <td>not neighbouring</td>\n",
              "    </tr>\n",
              "    <tr>\n",
              "      <th>3</th>\n",
              "      <td>With \"along the way\" exclusive memory \"Panda s...</td>\n",
              "      <td>Picture News</td>\n",
              "      <td>Maldives</td>\n",
              "      <td>August 22, Chengdu Radio and Television \"Panda...</td>\n",
              "      <td>present</td>\n",
              "      <td>not neighbouring</td>\n",
              "    </tr>\n",
              "    <tr>\n",
              "      <th>4</th>\n",
              "      <td>From Zheng He to this day, China has experienc...</td>\n",
              "      <td>Newspaper</td>\n",
              "      <td>China</td>\n",
              "      <td>Early in the 15th century, Zheng He led the wo...</td>\n",
              "      <td>present</td>\n",
              "      <td>not neighbouring</td>\n",
              "    </tr>\n",
              "  </tbody>\n",
              "</table>\n",
              "</div>"
            ],
            "text/plain": [
              "                                 Title (translation)  ... neighbouringCountries\n",
              "0  Malaysia will team up large-scale TV series \"Z...  ...      not neighbouring\n",
              "1  \"Zheng 2019 International Forum\" held in Malaysia  ...      not neighbouring\n",
              "2  Jinning Zheng-world sailing Stamp Exhibition: ...  ...      not neighbouring\n",
              "3  With \"along the way\" exclusive memory \"Panda s...  ...      not neighbouring\n",
              "4  From Zheng He to this day, China has experienc...  ...      not neighbouring\n",
              "\n",
              "[5 rows x 6 columns]"
            ]
          },
          "metadata": {
            "tags": []
          },
          "execution_count": 27
        }
      ]
    },
    {
      "cell_type": "code",
      "metadata": {
        "id": "tf4RD12hGTrd"
      },
      "source": [
        "df[\"peacefulMention\"] = df[\"Translation (values)\"].apply(lambda x: \"peacefull mentioned\" if \"peaceful\" in x.lower().split() else \"peacefull not mentioned\")"
      ],
      "execution_count": null,
      "outputs": []
    },
    {
      "cell_type": "code",
      "metadata": {
        "colab": {
          "base_uri": "https://localhost:8080/",
          "height": 272
        },
        "id": "QtjPHa4qkOhH",
        "outputId": "d4f8e6c2-6e71-40d4-eaba-872c84b7d4a5"
      },
      "source": [
        "df.head()"
      ],
      "execution_count": null,
      "outputs": [
        {
          "output_type": "execute_result",
          "data": {
            "text/html": [
              "<div>\n",
              "<style scoped>\n",
              "    .dataframe tbody tr th:only-of-type {\n",
              "        vertical-align: middle;\n",
              "    }\n",
              "\n",
              "    .dataframe tbody tr th {\n",
              "        vertical-align: top;\n",
              "    }\n",
              "\n",
              "    .dataframe thead th {\n",
              "        text-align: right;\n",
              "    }\n",
              "</style>\n",
              "<table border=\"1\" class=\"dataframe\">\n",
              "  <thead>\n",
              "    <tr style=\"text-align: right;\">\n",
              "      <th></th>\n",
              "      <th>Title (translation)</th>\n",
              "      <th>Media type</th>\n",
              "      <th>Country/Region</th>\n",
              "      <th>Translation (values)</th>\n",
              "      <th>zhengFilter</th>\n",
              "      <th>neighbouringCountries</th>\n",
              "      <th>peacefulMention</th>\n",
              "    </tr>\n",
              "  </thead>\n",
              "  <tbody>\n",
              "    <tr>\n",
              "      <th>0</th>\n",
              "      <td>Malaysia will team up large-scale TV series \"Z...</td>\n",
              "      <td>Newspaper</td>\n",
              "      <td>Malaysia</td>\n",
              "      <td>Malaysia co-production major historical drama ...</td>\n",
              "      <td>present</td>\n",
              "      <td>not neighbouring</td>\n",
              "      <td>peacefull not mentioned</td>\n",
              "    </tr>\n",
              "    <tr>\n",
              "      <th>1</th>\n",
              "      <td>\"Zheng 2019 International Forum\" held in Malaysia</td>\n",
              "      <td>Newspaper</td>\n",
              "      <td>Malaysia</td>\n",
              "      <td>\"2019 International Forum on Zheng He\" was hel...</td>\n",
              "      <td>present</td>\n",
              "      <td>not neighbouring</td>\n",
              "      <td>peacefull not mentioned</td>\n",
              "    </tr>\n",
              "    <tr>\n",
              "      <th>2</th>\n",
              "      <td>Jinning Zheng-world sailing Stamp Exhibition: ...</td>\n",
              "      <td>Newspaper</td>\n",
              "      <td>China</td>\n",
              "      <td>People often put a stamp called a \"national ca...</td>\n",
              "      <td>present</td>\n",
              "      <td>not neighbouring</td>\n",
              "      <td>peacefull not mentioned</td>\n",
              "    </tr>\n",
              "    <tr>\n",
              "      <th>3</th>\n",
              "      <td>With \"along the way\" exclusive memory \"Panda s...</td>\n",
              "      <td>Picture News</td>\n",
              "      <td>Maldives</td>\n",
              "      <td>August 22, Chengdu Radio and Television \"Panda...</td>\n",
              "      <td>present</td>\n",
              "      <td>not neighbouring</td>\n",
              "      <td>peacefull not mentioned</td>\n",
              "    </tr>\n",
              "    <tr>\n",
              "      <th>4</th>\n",
              "      <td>From Zheng He to this day, China has experienc...</td>\n",
              "      <td>Newspaper</td>\n",
              "      <td>China</td>\n",
              "      <td>Early in the 15th century, Zheng He led the wo...</td>\n",
              "      <td>present</td>\n",
              "      <td>not neighbouring</td>\n",
              "      <td>peacefull not mentioned</td>\n",
              "    </tr>\n",
              "  </tbody>\n",
              "</table>\n",
              "</div>"
            ],
            "text/plain": [
              "                                 Title (translation)  ...          peacefulMention\n",
              "0  Malaysia will team up large-scale TV series \"Z...  ...  peacefull not mentioned\n",
              "1  \"Zheng 2019 International Forum\" held in Malaysia  ...  peacefull not mentioned\n",
              "2  Jinning Zheng-world sailing Stamp Exhibition: ...  ...  peacefull not mentioned\n",
              "3  With \"along the way\" exclusive memory \"Panda s...  ...  peacefull not mentioned\n",
              "4  From Zheng He to this day, China has experienc...  ...  peacefull not mentioned\n",
              "\n",
              "[5 rows x 7 columns]"
            ]
          },
          "metadata": {
            "tags": []
          },
          "execution_count": 29
        }
      ]
    },
    {
      "cell_type": "code",
      "metadata": {
        "colab": {
          "base_uri": "https://localhost:8080/"
        },
        "id": "S5fSvZyOosGX",
        "outputId": "4e0128dc-9ff1-44fa-b409-c67312c584c7"
      },
      "source": [
        "df.peacefulMention.value_counts()"
      ],
      "execution_count": null,
      "outputs": [
        {
          "output_type": "execute_result",
          "data": {
            "text/plain": [
              "peacefull not mentioned    179\n",
              "peacefull mentioned         47\n",
              "Name: peacefulMention, dtype: int64"
            ]
          },
          "metadata": {
            "tags": []
          },
          "execution_count": 30
        }
      ]
    },
    {
      "cell_type": "code",
      "metadata": {
        "id": "MfJatrTDab9b"
      },
      "source": [
        "dfNeighbouringCountries = df[df.neighbouringCountries == \"neighbouring\"]"
      ],
      "execution_count": null,
      "outputs": []
    },
    {
      "cell_type": "code",
      "metadata": {
        "colab": {
          "base_uri": "https://localhost:8080/",
          "height": 333
        },
        "id": "yNCnu_EQab0J",
        "outputId": "43bceaa3-5339-4dc6-fbe0-9eb4761fd4ed"
      },
      "source": [
        "dfNeighbouringCountries"
      ],
      "execution_count": null,
      "outputs": [
        {
          "output_type": "execute_result",
          "data": {
            "text/html": [
              "<div>\n",
              "<style scoped>\n",
              "    .dataframe tbody tr th:only-of-type {\n",
              "        vertical-align: middle;\n",
              "    }\n",
              "\n",
              "    .dataframe tbody tr th {\n",
              "        vertical-align: top;\n",
              "    }\n",
              "\n",
              "    .dataframe thead th {\n",
              "        text-align: right;\n",
              "    }\n",
              "</style>\n",
              "<table border=\"1\" class=\"dataframe\">\n",
              "  <thead>\n",
              "    <tr style=\"text-align: right;\">\n",
              "      <th></th>\n",
              "      <th>Title (translation)</th>\n",
              "      <th>Media type</th>\n",
              "      <th>Country/Region</th>\n",
              "      <th>Translation (values)</th>\n",
              "      <th>zhengFilter</th>\n",
              "      <th>neighbouringCountries</th>\n",
              "      <th>peacefulMention</th>\n",
              "    </tr>\n",
              "  </thead>\n",
              "  <tbody>\n",
              "    <tr>\n",
              "      <th>36</th>\n",
              "      <td>In India, looking for Zheng He era</td>\n",
              "      <td>Newspaper</td>\n",
              "      <td>India</td>\n",
              "      <td>\"Squawks\", a burst of creaking, five in operat...</td>\n",
              "      <td>present</td>\n",
              "      <td>neighbouring</td>\n",
              "      <td>peacefull not mentioned</td>\n",
              "    </tr>\n",
              "    <tr>\n",
              "      <th>60</th>\n",
              "      <td>Chinese Embassy in Myanmar was held to commemo...</td>\n",
              "      <td>Newspaper</td>\n",
              "      <td>Myanmar</td>\n",
              "      <td>According to the Chinese Foreign Ministry, Jan...</td>\n",
              "      <td>present</td>\n",
              "      <td>neighbouring</td>\n",
              "      <td>peacefull not mentioned</td>\n",
              "    </tr>\n",
              "    <tr>\n",
              "      <th>79</th>\n",
              "      <td>India: Zheng He's fleet of large trade bilater...</td>\n",
              "      <td>Newspaper</td>\n",
              "      <td>India</td>\n",
              "      <td>During Zheng He's seven voyages, India, Kerala...</td>\n",
              "      <td>present</td>\n",
              "      <td>neighbouring</td>\n",
              "      <td>peacefull not mentioned</td>\n",
              "    </tr>\n",
              "    <tr>\n",
              "      <th>81</th>\n",
              "      <td>South Indian peninsula pursue Zheng</td>\n",
              "      <td>Newspaper</td>\n",
              "      <td>India</td>\n",
              "      <td>Zheng He's first voyage destination is Calicut...</td>\n",
              "      <td>present</td>\n",
              "      <td>neighbouring</td>\n",
              "      <td>peacefull not mentioned</td>\n",
              "    </tr>\n",
              "    <tr>\n",
              "      <th>138</th>\n",
              "      <td>Ho Chi Minh City write rapidly: Zheng funeral ...</td>\n",
              "      <td>Newspaper</td>\n",
              "      <td>Viet Nam</td>\n",
              "      <td>\"Curse of the motorcycle.\" This is the first i...</td>\n",
              "      <td>present</td>\n",
              "      <td>neighbouring</td>\n",
              "      <td>peacefull not mentioned</td>\n",
              "    </tr>\n",
              "    <tr>\n",
              "      <th>169</th>\n",
              "      <td>Historical Review of China and Pakistan</td>\n",
              "      <td>Newspaper</td>\n",
              "      <td>Pakistan</td>\n",
              "      <td>China and Pakistan will always be mutual neigh...</td>\n",
              "      <td>present</td>\n",
              "      <td>neighbouring</td>\n",
              "      <td>peacefull not mentioned</td>\n",
              "    </tr>\n",
              "  </tbody>\n",
              "</table>\n",
              "</div>"
            ],
            "text/plain": [
              "                                   Title (translation)  ...          peacefulMention\n",
              "36                  In India, looking for Zheng He era  ...  peacefull not mentioned\n",
              "60   Chinese Embassy in Myanmar was held to commemo...  ...  peacefull not mentioned\n",
              "79   India: Zheng He's fleet of large trade bilater...  ...  peacefull not mentioned\n",
              "81                 South Indian peninsula pursue Zheng  ...  peacefull not mentioned\n",
              "138  Ho Chi Minh City write rapidly: Zheng funeral ...  ...  peacefull not mentioned\n",
              "169            Historical Review of China and Pakistan  ...  peacefull not mentioned\n",
              "\n",
              "[6 rows x 7 columns]"
            ]
          },
          "metadata": {
            "tags": []
          },
          "execution_count": 32
        }
      ]
    },
    {
      "cell_type": "code",
      "metadata": {
        "colab": {
          "base_uri": "https://localhost:8080/"
        },
        "id": "TpE7GLvKablm",
        "outputId": "a050bcd6-e999-487f-adf3-4c60bc4f95a5"
      },
      "source": [
        "dfNeighbouringCountries.peacefulMention.value_counts()"
      ],
      "execution_count": null,
      "outputs": [
        {
          "output_type": "execute_result",
          "data": {
            "text/plain": [
              "peacefull not mentioned    6\n",
              "Name: peacefulMention, dtype: int64"
            ]
          },
          "metadata": {
            "tags": []
          },
          "execution_count": 33
        }
      ]
    },
    {
      "cell_type": "markdown",
      "metadata": {
        "id": "3DRqUSBrprxs"
      },
      "source": [
        "### Peaceful hasn't been explicitly mentioned in the news articles of the neighbouring countries. Hence the hypothesis 1a is rejected"
      ]
    },
    {
      "cell_type": "code",
      "metadata": {
        "id": "J5iwGXFKabgq"
      },
      "source": [
        ""
      ],
      "execution_count": null,
      "outputs": []
    },
    {
      "cell_type": "code",
      "metadata": {
        "id": "oIneJ6YDabbu"
      },
      "source": [
        ""
      ],
      "execution_count": null,
      "outputs": []
    },
    {
      "cell_type": "code",
      "metadata": {
        "id": "WAakIFNxabV7"
      },
      "source": [
        ""
      ],
      "execution_count": null,
      "outputs": []
    },
    {
      "cell_type": "code",
      "metadata": {
        "id": "jTqljm-xabOn"
      },
      "source": [
        ""
      ],
      "execution_count": null,
      "outputs": []
    },
    {
      "cell_type": "code",
      "metadata": {
        "id": "xZ3xBih2GTk3"
      },
      "source": [
        ""
      ],
      "execution_count": null,
      "outputs": []
    },
    {
      "cell_type": "code",
      "metadata": {
        "id": "sfd3dGe5GTdz"
      },
      "source": [
        ""
      ],
      "execution_count": null,
      "outputs": []
    },
    {
      "cell_type": "code",
      "metadata": {
        "id": "SQbdGkU-2vc7"
      },
      "source": [
        "# loading the model\n",
        "model = load_model(\"model.h5\")"
      ],
      "execution_count": null,
      "outputs": []
    },
    {
      "cell_type": "code",
      "metadata": {
        "id": "xJuosp9M2vaz"
      },
      "source": [
        "# loading the tokenizer\n",
        "\n",
        "import pickle\n",
        "with open('tokenizer.pickle', 'rb') as handle:\n",
        "    tokenizer = pickle.load(handle)"
      ],
      "execution_count": null,
      "outputs": []
    },
    {
      "cell_type": "code",
      "metadata": {
        "colab": {
          "base_uri": "https://localhost:8080/",
          "height": 76
        },
        "id": "KgqiLiJO9Bpp",
        "outputId": "aae683f5-370a-4c5a-c129-ebf10f242eca"
      },
      "source": [
        "dfNeighbouringCountries.head(1)"
      ],
      "execution_count": null,
      "outputs": [
        {
          "output_type": "execute_result",
          "data": {
            "text/html": [
              "<div>\n",
              "<style scoped>\n",
              "    .dataframe tbody tr th:only-of-type {\n",
              "        vertical-align: middle;\n",
              "    }\n",
              "\n",
              "    .dataframe tbody tr th {\n",
              "        vertical-align: top;\n",
              "    }\n",
              "\n",
              "    .dataframe thead th {\n",
              "        text-align: right;\n",
              "    }\n",
              "</style>\n",
              "<table border=\"1\" class=\"dataframe\">\n",
              "  <thead>\n",
              "    <tr style=\"text-align: right;\">\n",
              "      <th></th>\n",
              "      <th>Title (translation)</th>\n",
              "      <th>Media type</th>\n",
              "      <th>Country/Region</th>\n",
              "      <th>Translation (values)</th>\n",
              "      <th>zhengFilter</th>\n",
              "      <th>neighbouringCountries</th>\n",
              "      <th>peacefulMention</th>\n",
              "    </tr>\n",
              "  </thead>\n",
              "  <tbody>\n",
              "    <tr>\n",
              "      <th>36</th>\n",
              "      <td>In India, looking for Zheng He era</td>\n",
              "      <td>Newspaper</td>\n",
              "      <td>India</td>\n",
              "      <td>\"Squawks\", a burst of creaking, five in operat...</td>\n",
              "      <td>present</td>\n",
              "      <td>neighbouring</td>\n",
              "      <td>peacefull not mentioned</td>\n",
              "    </tr>\n",
              "  </tbody>\n",
              "</table>\n",
              "</div>"
            ],
            "text/plain": [
              "                   Title (translation)  ...          peacefulMention\n",
              "36  In India, looking for Zheng He era  ...  peacefull not mentioned\n",
              "\n",
              "[1 rows x 7 columns]"
            ]
          },
          "metadata": {
            "tags": []
          },
          "execution_count": 37
        }
      ]
    },
    {
      "cell_type": "code",
      "metadata": {
        "colab": {
          "base_uri": "https://localhost:8080/",
          "height": 333
        },
        "id": "C_09Fqo7nhln",
        "outputId": "a0d56f01-3112-4f49-b175-72f77b0a7fa9"
      },
      "source": [
        "dfNeighbouringCountries"
      ],
      "execution_count": null,
      "outputs": [
        {
          "output_type": "execute_result",
          "data": {
            "text/html": [
              "<div>\n",
              "<style scoped>\n",
              "    .dataframe tbody tr th:only-of-type {\n",
              "        vertical-align: middle;\n",
              "    }\n",
              "\n",
              "    .dataframe tbody tr th {\n",
              "        vertical-align: top;\n",
              "    }\n",
              "\n",
              "    .dataframe thead th {\n",
              "        text-align: right;\n",
              "    }\n",
              "</style>\n",
              "<table border=\"1\" class=\"dataframe\">\n",
              "  <thead>\n",
              "    <tr style=\"text-align: right;\">\n",
              "      <th></th>\n",
              "      <th>Title (translation)</th>\n",
              "      <th>Media type</th>\n",
              "      <th>Country/Region</th>\n",
              "      <th>Translation (values)</th>\n",
              "      <th>zhengFilter</th>\n",
              "      <th>neighbouringCountries</th>\n",
              "      <th>peacefulMention</th>\n",
              "    </tr>\n",
              "  </thead>\n",
              "  <tbody>\n",
              "    <tr>\n",
              "      <th>36</th>\n",
              "      <td>In India, looking for Zheng He era</td>\n",
              "      <td>Newspaper</td>\n",
              "      <td>India</td>\n",
              "      <td>\"Squawks\", a burst of creaking, five in operat...</td>\n",
              "      <td>present</td>\n",
              "      <td>neighbouring</td>\n",
              "      <td>peacefull not mentioned</td>\n",
              "    </tr>\n",
              "    <tr>\n",
              "      <th>60</th>\n",
              "      <td>Chinese Embassy in Myanmar was held to commemo...</td>\n",
              "      <td>Newspaper</td>\n",
              "      <td>Myanmar</td>\n",
              "      <td>According to the Chinese Foreign Ministry, Jan...</td>\n",
              "      <td>present</td>\n",
              "      <td>neighbouring</td>\n",
              "      <td>peacefull not mentioned</td>\n",
              "    </tr>\n",
              "    <tr>\n",
              "      <th>79</th>\n",
              "      <td>India: Zheng He's fleet of large trade bilater...</td>\n",
              "      <td>Newspaper</td>\n",
              "      <td>India</td>\n",
              "      <td>During Zheng He's seven voyages, India, Kerala...</td>\n",
              "      <td>present</td>\n",
              "      <td>neighbouring</td>\n",
              "      <td>peacefull not mentioned</td>\n",
              "    </tr>\n",
              "    <tr>\n",
              "      <th>81</th>\n",
              "      <td>South Indian peninsula pursue Zheng</td>\n",
              "      <td>Newspaper</td>\n",
              "      <td>India</td>\n",
              "      <td>Zheng He's first voyage destination is Calicut...</td>\n",
              "      <td>present</td>\n",
              "      <td>neighbouring</td>\n",
              "      <td>peacefull not mentioned</td>\n",
              "    </tr>\n",
              "    <tr>\n",
              "      <th>138</th>\n",
              "      <td>Ho Chi Minh City write rapidly: Zheng funeral ...</td>\n",
              "      <td>Newspaper</td>\n",
              "      <td>Viet Nam</td>\n",
              "      <td>\"Curse of the motorcycle.\" This is the first i...</td>\n",
              "      <td>present</td>\n",
              "      <td>neighbouring</td>\n",
              "      <td>peacefull not mentioned</td>\n",
              "    </tr>\n",
              "    <tr>\n",
              "      <th>169</th>\n",
              "      <td>Historical Review of China and Pakistan</td>\n",
              "      <td>Newspaper</td>\n",
              "      <td>Pakistan</td>\n",
              "      <td>China and Pakistan will always be mutual neigh...</td>\n",
              "      <td>present</td>\n",
              "      <td>neighbouring</td>\n",
              "      <td>peacefull not mentioned</td>\n",
              "    </tr>\n",
              "  </tbody>\n",
              "</table>\n",
              "</div>"
            ],
            "text/plain": [
              "                                   Title (translation)  ...          peacefulMention\n",
              "36                  In India, looking for Zheng He era  ...  peacefull not mentioned\n",
              "60   Chinese Embassy in Myanmar was held to commemo...  ...  peacefull not mentioned\n",
              "79   India: Zheng He's fleet of large trade bilater...  ...  peacefull not mentioned\n",
              "81                 South Indian peninsula pursue Zheng  ...  peacefull not mentioned\n",
              "138  Ho Chi Minh City write rapidly: Zheng funeral ...  ...  peacefull not mentioned\n",
              "169            Historical Review of China and Pakistan  ...  peacefull not mentioned\n",
              "\n",
              "[6 rows x 7 columns]"
            ]
          },
          "metadata": {
            "tags": []
          },
          "execution_count": 41
        }
      ]
    },
    {
      "cell_type": "code",
      "metadata": {
        "id": "mt3O2xXqn_uv"
      },
      "source": [
        ""
      ],
      "execution_count": null,
      "outputs": []
    },
    {
      "cell_type": "code",
      "metadata": {
        "id": "vuboiHlS2vYk",
        "colab": {
          "base_uri": "https://localhost:8080/"
        },
        "outputId": "23954145-cafc-4d06-95f5-08be4eda3650"
      },
      "source": [
        "negScore = []\n",
        "posScore = []\n",
        "predLabel = []\n",
        "import re\n",
        "for ind in range(len(dfNeighbouringCountries)):\n",
        "  l = []\n",
        "  # print(ind)\n",
        "  s = dfNeighbouringCountries.iloc[ind,3]\n",
        "  s = re.sub('[^A-Za-z]',\" \",s)\n",
        "  s = s.strip()\n",
        "  s = s.replace(\" +\",\" \")\n",
        "\n",
        "  l.append(s)\n",
        "  # print(l)\n",
        "  text = l\n",
        "  MAX_SEQUENCE_LENGTH= 200\n",
        "  seq = tokenizer.texts_to_sequences(text)\n",
        "  # print(seq)\n",
        "  padded = pad_sequences(seq, maxlen=MAX_SEQUENCE_LENGTH)\n",
        "  pred = model.predict(padded)\n",
        "  print(pred)\n",
        "  negScore.append(pred[0][0])\n",
        "  posScore.append(pred[0][1])\n",
        "  # print(Y)\n",
        "  # labels = dummies.columns\n",
        "  labels = [0, 4]\n",
        "  # print(\"labels: \",labels)\n",
        "  # print(pred, labels[np.argmax(pred)])\n",
        "\n",
        "  if labels[np.argmax(pred)] == 4:\n",
        "    predLabel.append(\"positive\")\n",
        "    print(\"sentiment: positive\")\n",
        "  else:\n",
        "    predLabel.append(\"negative\")\n",
        "    print(\"sentiment: negative\")\n",
        "  print(\"=\"*30)"
      ],
      "execution_count": null,
      "outputs": [
        {
          "output_type": "stream",
          "text": [
            "[[0.86319995 0.13680007]]\n",
            "sentiment: negative\n",
            "==============================\n",
            "[[0.12932196 0.870678  ]]\n",
            "sentiment: positive\n",
            "==============================\n",
            "[[0.55266863 0.4473313 ]]\n",
            "sentiment: negative\n",
            "==============================\n",
            "[[0.55299175 0.44700828]]\n",
            "sentiment: negative\n",
            "==============================\n",
            "[[0.436465 0.563535]]\n",
            "sentiment: positive\n",
            "==============================\n",
            "[[0.5701449 0.4298551]]\n",
            "sentiment: negative\n",
            "==============================\n"
          ],
          "name": "stdout"
        }
      ]
    },
    {
      "cell_type": "code",
      "metadata": {
        "colab": {
          "base_uri": "https://localhost:8080/",
          "height": 220
        },
        "id": "EZmC5zj2rH-I",
        "outputId": "8e467064-3bad-41bc-8caf-426f2ab3e9b7"
      },
      "source": [
        "pd.DataFrame({\n",
        "    \"positive confidnence Score\":posScore,\n",
        "    \"negative confidnence Score\":negScore,\n",
        "    \"Sentiment\":predLabel,\n",
        "})"
      ],
      "execution_count": null,
      "outputs": [
        {
          "output_type": "execute_result",
          "data": {
            "text/html": [
              "<div>\n",
              "<style scoped>\n",
              "    .dataframe tbody tr th:only-of-type {\n",
              "        vertical-align: middle;\n",
              "    }\n",
              "\n",
              "    .dataframe tbody tr th {\n",
              "        vertical-align: top;\n",
              "    }\n",
              "\n",
              "    .dataframe thead th {\n",
              "        text-align: right;\n",
              "    }\n",
              "</style>\n",
              "<table border=\"1\" class=\"dataframe\">\n",
              "  <thead>\n",
              "    <tr style=\"text-align: right;\">\n",
              "      <th></th>\n",
              "      <th>positive confidnence Score</th>\n",
              "      <th>negative confidnence Score</th>\n",
              "      <th>Sentiment</th>\n",
              "    </tr>\n",
              "  </thead>\n",
              "  <tbody>\n",
              "    <tr>\n",
              "      <th>0</th>\n",
              "      <td>0.136800</td>\n",
              "      <td>0.863200</td>\n",
              "      <td>negative</td>\n",
              "    </tr>\n",
              "    <tr>\n",
              "      <th>1</th>\n",
              "      <td>0.870678</td>\n",
              "      <td>0.129322</td>\n",
              "      <td>positive</td>\n",
              "    </tr>\n",
              "    <tr>\n",
              "      <th>2</th>\n",
              "      <td>0.447331</td>\n",
              "      <td>0.552669</td>\n",
              "      <td>negative</td>\n",
              "    </tr>\n",
              "    <tr>\n",
              "      <th>3</th>\n",
              "      <td>0.447008</td>\n",
              "      <td>0.552992</td>\n",
              "      <td>negative</td>\n",
              "    </tr>\n",
              "    <tr>\n",
              "      <th>4</th>\n",
              "      <td>0.563535</td>\n",
              "      <td>0.436465</td>\n",
              "      <td>positive</td>\n",
              "    </tr>\n",
              "    <tr>\n",
              "      <th>5</th>\n",
              "      <td>0.429855</td>\n",
              "      <td>0.570145</td>\n",
              "      <td>negative</td>\n",
              "    </tr>\n",
              "  </tbody>\n",
              "</table>\n",
              "</div>"
            ],
            "text/plain": [
              "   positive confidnence Score  negative confidnence Score Sentiment\n",
              "0                    0.136800                    0.863200  negative\n",
              "1                    0.870678                    0.129322  positive\n",
              "2                    0.447331                    0.552669  negative\n",
              "3                    0.447008                    0.552992  negative\n",
              "4                    0.563535                    0.436465  positive\n",
              "5                    0.429855                    0.570145  negative"
            ]
          },
          "metadata": {
            "tags": []
          },
          "execution_count": 47
        }
      ]
    },
    {
      "cell_type": "markdown",
      "metadata": {
        "id": "k4GFVCj5HhkL"
      },
      "source": [
        "### Hence hypothesis 1a has been rejected completely"
      ]
    },
    {
      "cell_type": "code",
      "metadata": {
        "id": "cvrXJI2PvvJ5"
      },
      "source": [
        ""
      ],
      "execution_count": null,
      "outputs": []
    },
    {
      "cell_type": "code",
      "metadata": {
        "id": "LXwTF9LqvvCk"
      },
      "source": [
        ""
      ],
      "execution_count": null,
      "outputs": []
    },
    {
      "cell_type": "code",
      "metadata": {
        "id": "-dfzEKNkgUDc"
      },
      "source": [
        ""
      ],
      "execution_count": null,
      "outputs": []
    }
  ]
}