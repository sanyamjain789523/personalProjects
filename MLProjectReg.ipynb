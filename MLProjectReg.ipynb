{
  "nbformat": 4,
  "nbformat_minor": 0,
  "metadata": {
    "kernelspec": {
      "display_name": "Python 3",
      "language": "python",
      "name": "python3"
    },
    "language_info": {
      "codemirror_mode": {
        "name": "ipython",
        "version": 3
      },
      "file_extension": ".py",
      "mimetype": "text/x-python",
      "name": "python",
      "nbconvert_exporter": "python",
      "pygments_lexer": "ipython3",
      "version": "3.7.1"
    },
    "colab": {
      "name": "MLProjectReg.ipynb",
      "provenance": [],
      "include_colab_link": true
    }
  },
  "cells": [
    {
      "cell_type": "markdown",
      "metadata": {
        "id": "view-in-github",
        "colab_type": "text"
      },
      "source": [
        "<a href=\"https://colab.research.google.com/github/sanyamjain789523/personalProjects/blob/main/MLProjectReg.ipynb\" target=\"_parent\"><img src=\"https://colab.research.google.com/assets/colab-badge.svg\" alt=\"Open In Colab\"/></a>"
      ]
    },
    {
      "cell_type": "code",
      "metadata": {
        "id": "GtOYzJzm1ENl"
      },
      "source": [
        "import pandas as pd\n",
        "import numpy as np\n",
        "import matplotlib.pyplot as plt"
      ],
      "execution_count": null,
      "outputs": []
    },
    {
      "cell_type": "code",
      "metadata": {
        "id": "bxcctWFO1EOf"
      },
      "source": [
        "df = pd.read_csv(r'\\house_national_forecast.csv')"
      ],
      "execution_count": null,
      "outputs": []
    },
    {
      "cell_type": "code",
      "metadata": {
        "id": "uW7JCCYi1EOj",
        "outputId": "7142d5e8-b850-4324-89ca-306b5615c3f5"
      },
      "source": [
        "df.head()"
      ],
      "execution_count": null,
      "outputs": [
        {
          "output_type": "execute_result",
          "data": {
            "text/html": [
              "<div>\n",
              "<style scoped>\n",
              "    .dataframe tbody tr th:only-of-type {\n",
              "        vertical-align: middle;\n",
              "    }\n",
              "\n",
              "    .dataframe tbody tr th {\n",
              "        vertical-align: top;\n",
              "    }\n",
              "\n",
              "    .dataframe thead th {\n",
              "        text-align: right;\n",
              "    }\n",
              "</style>\n",
              "<table border=\"1\" class=\"dataframe\">\n",
              "  <thead>\n",
              "    <tr style=\"text-align: right;\">\n",
              "      <th></th>\n",
              "      <th>forecastdate</th>\n",
              "      <th>state</th>\n",
              "      <th>party</th>\n",
              "      <th>model</th>\n",
              "      <th>win_probability</th>\n",
              "      <th>mean_seats</th>\n",
              "      <th>median_seats</th>\n",
              "      <th>p10_seats</th>\n",
              "      <th>p90_seats</th>\n",
              "      <th>margin</th>\n",
              "      <th>p10_margin</th>\n",
              "      <th>p90_margin</th>\n",
              "    </tr>\n",
              "  </thead>\n",
              "  <tbody>\n",
              "    <tr>\n",
              "      <th>0</th>\n",
              "      <td>2018-08-01</td>\n",
              "      <td>US</td>\n",
              "      <td>D</td>\n",
              "      <td>classic</td>\n",
              "      <td>0.7719</td>\n",
              "      <td>231.37</td>\n",
              "      <td>230.0</td>\n",
              "      <td>210.0</td>\n",
              "      <td>255.0</td>\n",
              "      <td>7.84</td>\n",
              "      <td>3.53</td>\n",
              "      <td>12.26</td>\n",
              "    </tr>\n",
              "    <tr>\n",
              "      <th>1</th>\n",
              "      <td>2018-08-01</td>\n",
              "      <td>US</td>\n",
              "      <td>R</td>\n",
              "      <td>classic</td>\n",
              "      <td>0.2281</td>\n",
              "      <td>203.63</td>\n",
              "      <td>205.0</td>\n",
              "      <td>180.0</td>\n",
              "      <td>225.0</td>\n",
              "      <td>-7.84</td>\n",
              "      <td>-3.53</td>\n",
              "      <td>-12.26</td>\n",
              "    </tr>\n",
              "    <tr>\n",
              "      <th>2</th>\n",
              "      <td>2018-08-02</td>\n",
              "      <td>US</td>\n",
              "      <td>D</td>\n",
              "      <td>classic</td>\n",
              "      <td>0.7431</td>\n",
              "      <td>229.86</td>\n",
              "      <td>228.0</td>\n",
              "      <td>209.0</td>\n",
              "      <td>254.0</td>\n",
              "      <td>7.51</td>\n",
              "      <td>3.24</td>\n",
              "      <td>12.01</td>\n",
              "    </tr>\n",
              "    <tr>\n",
              "      <th>3</th>\n",
              "      <td>2018-08-02</td>\n",
              "      <td>US</td>\n",
              "      <td>R</td>\n",
              "      <td>classic</td>\n",
              "      <td>0.2569</td>\n",
              "      <td>205.14</td>\n",
              "      <td>207.0</td>\n",
              "      <td>181.0</td>\n",
              "      <td>226.0</td>\n",
              "      <td>-7.51</td>\n",
              "      <td>-3.24</td>\n",
              "      <td>-12.01</td>\n",
              "    </tr>\n",
              "    <tr>\n",
              "      <th>4</th>\n",
              "      <td>2018-08-03</td>\n",
              "      <td>US</td>\n",
              "      <td>D</td>\n",
              "      <td>classic</td>\n",
              "      <td>0.7440</td>\n",
              "      <td>229.83</td>\n",
              "      <td>228.0</td>\n",
              "      <td>209.0</td>\n",
              "      <td>253.0</td>\n",
              "      <td>7.52</td>\n",
              "      <td>3.27</td>\n",
              "      <td>11.95</td>\n",
              "    </tr>\n",
              "  </tbody>\n",
              "</table>\n",
              "</div>"
            ],
            "text/plain": [
              "  forecastdate state party    model  win_probability  mean_seats  \\\n",
              "0   2018-08-01    US     D  classic           0.7719      231.37   \n",
              "1   2018-08-01    US     R  classic           0.2281      203.63   \n",
              "2   2018-08-02    US     D  classic           0.7431      229.86   \n",
              "3   2018-08-02    US     R  classic           0.2569      205.14   \n",
              "4   2018-08-03    US     D  classic           0.7440      229.83   \n",
              "\n",
              "   median_seats  p10_seats  p90_seats  margin  p10_margin  p90_margin  \n",
              "0         230.0      210.0      255.0    7.84        3.53       12.26  \n",
              "1         205.0      180.0      225.0   -7.84       -3.53      -12.26  \n",
              "2         228.0      209.0      254.0    7.51        3.24       12.01  \n",
              "3         207.0      181.0      226.0   -7.51       -3.24      -12.01  \n",
              "4         228.0      209.0      253.0    7.52        3.27       11.95  "
            ]
          },
          "metadata": {
            "tags": []
          },
          "execution_count": 25
        }
      ]
    },
    {
      "cell_type": "code",
      "metadata": {
        "id": "vLrd8ePt1EOq",
        "outputId": "85286976-ccb7-4eeb-94e7-cdf2d6ba493d"
      },
      "source": [
        "df.columns"
      ],
      "execution_count": null,
      "outputs": [
        {
          "output_type": "execute_result",
          "data": {
            "text/plain": [
              "Index(['forecastdate', 'state', 'party', 'model', 'win_probability',\n",
              "       'mean_seats', 'median_seats', 'p10_seats', 'p90_seats', 'margin',\n",
              "       'p10_margin', 'p90_margin'],\n",
              "      dtype='object')"
            ]
          },
          "metadata": {
            "tags": []
          },
          "execution_count": 26
        }
      ]
    },
    {
      "cell_type": "code",
      "metadata": {
        "id": "KJ2-mtT61EOs",
        "outputId": "9bcc36ae-bd1b-4404-9102-6cef0e7222b6"
      },
      "source": [
        "df.shape"
      ],
      "execution_count": null,
      "outputs": [
        {
          "output_type": "execute_result",
          "data": {
            "text/plain": [
              "(588, 12)"
            ]
          },
          "metadata": {
            "tags": []
          },
          "execution_count": 27
        }
      ]
    },
    {
      "cell_type": "code",
      "metadata": {
        "id": "HnR4QuJc1EOv",
        "outputId": "ff12f7bb-9a31-4b07-a1b0-dcefdc67e717"
      },
      "source": [
        "len(df.forecastdate.unique())"
      ],
      "execution_count": null,
      "outputs": [
        {
          "output_type": "execute_result",
          "data": {
            "text/plain": [
              "98"
            ]
          },
          "metadata": {
            "tags": []
          },
          "execution_count": 28
        }
      ]
    },
    {
      "cell_type": "code",
      "metadata": {
        "id": "XPqXiIA-1EOx",
        "outputId": "2569d856-78e6-4fb0-ad83-83c484143664"
      },
      "source": [
        "df.state.value_counts().plot.bar()"
      ],
      "execution_count": null,
      "outputs": [
        {
          "output_type": "execute_result",
          "data": {
            "text/plain": [
              "<matplotlib.axes._subplots.AxesSubplot at 0x20950aaaa90>"
            ]
          },
          "metadata": {
            "tags": []
          },
          "execution_count": 29
        },
        {
          "output_type": "display_data",
          "data": {
            "image/png": "[encoded data removed]",
            "text/plain": [
              "<Figure size 432x288 with 1 Axes>"
            ]
          },
          "metadata": {
            "tags": [],
            "needs_background": "light"
          }
        }
      ]
    },
    {
      "cell_type": "code",
      "metadata": {
        "id": "0lxOoO791EPA",
        "outputId": "004af5b6-9112-4698-c6bf-46e1e36dd7c2"
      },
      "source": [
        "df.party.value_counts().plot.bar()"
      ],
      "execution_count": null,
      "outputs": [
        {
          "output_type": "execute_result",
          "data": {
            "text/plain": [
              "<matplotlib.axes._subplots.AxesSubplot at 0x20950a869b0>"
            ]
          },
          "metadata": {
            "tags": []
          },
          "execution_count": 30
        },
        {
          "output_type": "display_data",
          "data": {
            "image/png": "[encoded data removed]",
            "text/plain": [
              "<Figure size 432x288 with 1 Axes>"
            ]
          },
          "metadata": {
            "tags": [],
            "needs_background": "light"
          }
        }
      ]
    },
    {
      "cell_type": "code",
      "metadata": {
        "id": "WAwUrHiW1EPC",
        "outputId": "f080a204-4946-43d2-ec1b-5c8b6b641b1b"
      },
      "source": [
        "df.model.value_counts().plot.bar()"
      ],
      "execution_count": null,
      "outputs": [
        {
          "output_type": "execute_result",
          "data": {
            "text/plain": [
              "<matplotlib.axes._subplots.AxesSubplot at 0x2094e8d0630>"
            ]
          },
          "metadata": {
            "tags": []
          },
          "execution_count": 31
        },
        {
          "output_type": "display_data",
          "data": {
            "image/png": "[encoded data removed]",
            "text/plain": [
              "<Figure size 432x288 with 1 Axes>"
            ]
          },
          "metadata": {
            "tags": [],
            "needs_background": "light"
          }
        }
      ]
    },
    {
      "cell_type": "code",
      "metadata": {
        "scrolled": true,
        "id": "EoXb9LPd1EPG",
        "outputId": "d8e2f14b-eabc-4786-f992-5fa7177c9756"
      },
      "source": [
        "df.describe()"
      ],
      "execution_count": null,
      "outputs": [
        {
          "output_type": "execute_result",
          "data": {
            "text/html": [
              "<div>\n",
              "<style scoped>\n",
              "    .dataframe tbody tr th:only-of-type {\n",
              "        vertical-align: middle;\n",
              "    }\n",
              "\n",
              "    .dataframe tbody tr th {\n",
              "        vertical-align: top;\n",
              "    }\n",
              "\n",
              "    .dataframe thead th {\n",
              "        text-align: right;\n",
              "    }\n",
              "</style>\n",
              "<table border=\"1\" class=\"dataframe\">\n",
              "  <thead>\n",
              "    <tr style=\"text-align: right;\">\n",
              "      <th></th>\n",
              "      <th>win_probability</th>\n",
              "      <th>mean_seats</th>\n",
              "      <th>median_seats</th>\n",
              "      <th>p10_seats</th>\n",
              "      <th>p90_seats</th>\n",
              "      <th>margin</th>\n",
              "      <th>p10_margin</th>\n",
              "      <th>p90_margin</th>\n",
              "    </tr>\n",
              "  </thead>\n",
              "  <tbody>\n",
              "    <tr>\n",
              "      <th>count</th>\n",
              "      <td>588.000000</td>\n",
              "      <td>588.000000</td>\n",
              "      <td>588.000000</td>\n",
              "      <td>588.000000</td>\n",
              "      <td>588.000000</td>\n",
              "      <td>588.000000</td>\n",
              "      <td>588.000000</td>\n",
              "      <td>588.000000</td>\n",
              "    </tr>\n",
              "    <tr>\n",
              "      <th>mean</th>\n",
              "      <td>0.500000</td>\n",
              "      <td>217.500034</td>\n",
              "      <td>217.500000</td>\n",
              "      <td>196.562925</td>\n",
              "      <td>238.437075</td>\n",
              "      <td>0.000000</td>\n",
              "      <td>0.000000</td>\n",
              "      <td>0.000000</td>\n",
              "    </tr>\n",
              "    <tr>\n",
              "      <th>std</th>\n",
              "      <td>0.256316</td>\n",
              "      <td>12.118312</td>\n",
              "      <td>10.552941</td>\n",
              "      <td>13.309715</td>\n",
              "      <td>13.309715</td>\n",
              "      <td>8.393721</td>\n",
              "      <td>4.325636</td>\n",
              "      <td>12.543046</td>\n",
              "    </tr>\n",
              "    <tr>\n",
              "      <th>min</th>\n",
              "      <td>0.120800</td>\n",
              "      <td>199.780000</td>\n",
              "      <td>201.000000</td>\n",
              "      <td>175.000000</td>\n",
              "      <td>219.000000</td>\n",
              "      <td>-10.210000</td>\n",
              "      <td>-6.270000</td>\n",
              "      <td>-14.280000</td>\n",
              "    </tr>\n",
              "    <tr>\n",
              "      <th>25%</th>\n",
              "      <td>0.246350</td>\n",
              "      <td>205.590000</td>\n",
              "      <td>207.000000</td>\n",
              "      <td>184.000000</td>\n",
              "      <td>225.000000</td>\n",
              "      <td>-8.297500</td>\n",
              "      <td>-4.202500</td>\n",
              "      <td>-12.330000</td>\n",
              "    </tr>\n",
              "    <tr>\n",
              "      <th>50%</th>\n",
              "      <td>0.500000</td>\n",
              "      <td>217.500000</td>\n",
              "      <td>217.500000</td>\n",
              "      <td>196.500000</td>\n",
              "      <td>238.500000</td>\n",
              "      <td>0.000000</td>\n",
              "      <td>0.000000</td>\n",
              "      <td>0.000000</td>\n",
              "    </tr>\n",
              "    <tr>\n",
              "      <th>75%</th>\n",
              "      <td>0.753650</td>\n",
              "      <td>229.410000</td>\n",
              "      <td>228.000000</td>\n",
              "      <td>210.000000</td>\n",
              "      <td>251.000000</td>\n",
              "      <td>8.297500</td>\n",
              "      <td>4.202500</td>\n",
              "      <td>12.330000</td>\n",
              "    </tr>\n",
              "    <tr>\n",
              "      <th>max</th>\n",
              "      <td>0.879200</td>\n",
              "      <td>235.220000</td>\n",
              "      <td>234.000000</td>\n",
              "      <td>216.000000</td>\n",
              "      <td>260.000000</td>\n",
              "      <td>10.210000</td>\n",
              "      <td>6.270000</td>\n",
              "      <td>14.280000</td>\n",
              "    </tr>\n",
              "  </tbody>\n",
              "</table>\n",
              "</div>"
            ],
            "text/plain": [
              "       win_probability  mean_seats  median_seats   p10_seats   p90_seats  \\\n",
              "count       588.000000  588.000000    588.000000  588.000000  588.000000   \n",
              "mean          0.500000  217.500034    217.500000  196.562925  238.437075   \n",
              "std           0.256316   12.118312     10.552941   13.309715   13.309715   \n",
              "min           0.120800  199.780000    201.000000  175.000000  219.000000   \n",
              "25%           0.246350  205.590000    207.000000  184.000000  225.000000   \n",
              "50%           0.500000  217.500000    217.500000  196.500000  238.500000   \n",
              "75%           0.753650  229.410000    228.000000  210.000000  251.000000   \n",
              "max           0.879200  235.220000    234.000000  216.000000  260.000000   \n",
              "\n",
              "           margin  p10_margin  p90_margin  \n",
              "count  588.000000  588.000000  588.000000  \n",
              "mean     0.000000    0.000000    0.000000  \n",
              "std      8.393721    4.325636   12.543046  \n",
              "min    -10.210000   -6.270000  -14.280000  \n",
              "25%     -8.297500   -4.202500  -12.330000  \n",
              "50%      0.000000    0.000000    0.000000  \n",
              "75%      8.297500    4.202500   12.330000  \n",
              "max     10.210000    6.270000   14.280000  "
            ]
          },
          "metadata": {
            "tags": []
          },
          "execution_count": 32
        }
      ]
    },
    {
      "cell_type": "code",
      "metadata": {
        "id": "EDYoJ3wo1EPJ"
      },
      "source": [
        "from sklearn.preprocessing import LabelEncoder\n",
        "le = LabelEncoder()\n",
        "\n",
        "df[\"party\"] = le.fit_transform(df[\"party\"])\n",
        "df[\"model\"] = le.fit_transform(df[\"model\"])\n"
      ],
      "execution_count": null,
      "outputs": []
    },
    {
      "cell_type": "code",
      "metadata": {
        "id": "ZTaHKG6s1EPL"
      },
      "source": [
        "df = df.drop(['forecastdate','state'], axis = 1)"
      ],
      "execution_count": null,
      "outputs": []
    },
    {
      "cell_type": "code",
      "metadata": {
        "id": "5CAhnJ5d1EPN",
        "outputId": "7e61f24e-853c-44d4-c3a5-6a10760ee047"
      },
      "source": [
        "df.info()"
      ],
      "execution_count": null,
      "outputs": [
        {
          "output_type": "stream",
          "text": [
            "<class 'pandas.core.frame.DataFrame'>\n",
            "RangeIndex: 588 entries, 0 to 587\n",
            "Data columns (total 10 columns):\n",
            "party              588 non-null int32\n",
            "model              588 non-null int32\n",
            "win_probability    588 non-null float64\n",
            "mean_seats         588 non-null float64\n",
            "median_seats       588 non-null float64\n",
            "p10_seats          588 non-null float64\n",
            "p90_seats          588 non-null float64\n",
            "margin             588 non-null float64\n",
            "p10_margin         588 non-null float64\n",
            "p90_margin         588 non-null float64\n",
            "dtypes: float64(8), int32(2)\n",
            "memory usage: 41.4 KB\n"
          ],
          "name": "stdout"
        }
      ]
    },
    {
      "cell_type": "code",
      "metadata": {
        "id": "_3-bXQea1EPP"
      },
      "source": [
        "# df[\"Percent\"]  = df[\"Percent\"].apply(lambda x: (float(str(x).replace(\"%\",\"\"))))"
      ],
      "execution_count": null,
      "outputs": []
    },
    {
      "cell_type": "code",
      "metadata": {
        "id": "IhsLvR_Y1EPR"
      },
      "source": [
        "# df = df.reset_index(drop = True)"
      ],
      "execution_count": null,
      "outputs": []
    },
    {
      "cell_type": "code",
      "metadata": {
        "id": "2T7lcOsW1EPS"
      },
      "source": [
        "x_less = df.drop([\"win_probability\"],axis = 1)\n",
        "y_less = df[\"win_probability\"]"
      ],
      "execution_count": null,
      "outputs": []
    },
    {
      "cell_type": "code",
      "metadata": {
        "id": "JtFXtkrn1EPT"
      },
      "source": [
        "from sklearn.linear_model import LinearRegression\n",
        "model = LinearRegression()\n",
        "\n",
        "# Fit with less data and plot\n",
        "model.fit(x_less, y_less)\n",
        "predicted_less = model.predict(x_less)\n",
        "# plot(x_less, y_less, predicted_less)"
      ],
      "execution_count": null,
      "outputs": []
    },
    {
      "cell_type": "code",
      "metadata": {
        "id": "ooneKUVH1EPW",
        "outputId": "8a4a51e4-c666-464c-d01a-fdfa337f2d93"
      },
      "source": [
        "model.score(x_less, y_less)"
      ],
      "execution_count": null,
      "outputs": [
        {
          "output_type": "execute_result",
          "data": {
            "text/plain": [
              "0.9979070829006365"
            ]
          },
          "metadata": {
            "tags": []
          },
          "execution_count": 41
        }
      ]
    },
    {
      "cell_type": "code",
      "metadata": {
        "id": "YVKxtLA11EPY",
        "outputId": "5ba9ad35-5ea3-41f6-b97a-6cf576356d7f"
      },
      "source": [
        "model.predict([x_less.iloc[0,:]])"
      ],
      "execution_count": null,
      "outputs": [
        {
          "output_type": "execute_result",
          "data": {
            "text/plain": [
              "array([0.77276034])"
            ]
          },
          "metadata": {
            "tags": []
          },
          "execution_count": 42
        }
      ]
    },
    {
      "cell_type": "code",
      "metadata": {
        "id": "nP2LRUyT1EPa"
      },
      "source": [
        ""
      ],
      "execution_count": null,
      "outputs": []
    },
    {
      "cell_type": "code",
      "metadata": {
        "id": "RzLUlNVn1EPc"
      },
      "source": [
        ""
      ],
      "execution_count": null,
      "outputs": []
    }
  ]
}