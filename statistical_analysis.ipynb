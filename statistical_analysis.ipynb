{
  "nbformat": 4,
  "nbformat_minor": 0,
  "metadata": {
    "colab": {
      "name": "statistical analysis.ipynb",
      "provenance": [],
      "collapsed_sections": [],
      "toc_visible": true,
      "mount_file_id": "1BumwPUWUkGr_rUa1gGvn4kWdOGJmm70q",
      "authorship_tag": "ABX9TyPgPFpsMyjLTmQgYZIQADPt",
      "include_colab_link": true
    },
    "kernelspec": {
      "name": "python3",
      "display_name": "Python 3"
    },
    "language_info": {
      "name": "python"
    }
  },
  "cells": [
    {
      "cell_type": "markdown",
      "metadata": {
        "id": "view-in-github",
        "colab_type": "text"
      },
      "source": [
        "<a href=\"https://colab.research.google.com/github/sanyamjain789523/personalProjects/blob/main/statistical_analysis.ipynb\" target=\"_parent\"><img src=\"https://colab.research.google.com/assets/colab-badge.svg\" alt=\"Open In Colab\"/></a>"
      ]
    },
    {
      "cell_type": "code",
      "metadata": {
        "id": "BixKHQWMNb3T"
      },
      "source": [
        "import seaborn as sns\n",
        "import pandas as pd\n",
        "import pandas_profiling\n",
        "from pandas_profiling import ProfileReport\n",
        "import matplotlib.pyplot as plt\n",
        "from scipy import stats\n",
        "# from pandas_profiling.utils.cache import cache_file"
      ],
      "execution_count": null,
      "outputs": []
    },
    {
      "cell_type": "code",
      "metadata": {
        "colab": {
          "base_uri": "https://localhost:8080/",
          "height": 162
        },
        "id": "Eq2WRS9bgKkB",
        "outputId": "8b2aae3e-6fbe-46e8-cc1e-9a1892f2b276"
      },
      "source": [
        "df = pd.read_excel(\"/content/ALLDATA.xlsx\")\n",
        "df.head(2)"
      ],
      "execution_count": null,
      "outputs": [
        {
          "output_type": "execute_result",
          "data": {
            "text/html": [
              "<div>\n",
              "<style scoped>\n",
              "    .dataframe tbody tr th:only-of-type {\n",
              "        vertical-align: middle;\n",
              "    }\n",
              "\n",
              "    .dataframe tbody tr th {\n",
              "        vertical-align: top;\n",
              "    }\n",
              "\n",
              "    .dataframe thead th {\n",
              "        text-align: right;\n",
              "    }\n",
              "</style>\n",
              "<table border=\"1\" class=\"dataframe\">\n",
              "  <thead>\n",
              "    <tr style=\"text-align: right;\">\n",
              "      <th></th>\n",
              "      <th>Date</th>\n",
              "      <th>State</th>\n",
              "      <th>City</th>\n",
              "      <th>Narrative</th>\n",
              "      <th>UAS Proximity (ft)</th>\n",
              "      <th>Airport Proximity (miles)</th>\n",
              "      <th>Pilot's Action</th>\n",
              "      <th>Classification</th>\n",
              "      <th>Comments</th>\n",
              "    </tr>\n",
              "  </thead>\n",
              "  <tbody>\n",
              "    <tr>\n",
              "      <th>0</th>\n",
              "      <td>10/1/2020</td>\n",
              "      <td>NEW YORK</td>\n",
              "      <td>WESTHAMPTON BEACH</td>\n",
              "      <td>PRELIM INFO FROM FAA OPS: WESTHAMPTON BEACH, N...</td>\n",
              "      <td>NaN</td>\n",
              "      <td>NaN</td>\n",
              "      <td>0.0</td>\n",
              "      <td>Minimal</td>\n",
              "      <td>NaN</td>\n",
              "    </tr>\n",
              "    <tr>\n",
              "      <th>1</th>\n",
              "      <td>10/1/2020</td>\n",
              "      <td>COLORADO</td>\n",
              "      <td>COLORADO SPRINGS</td>\n",
              "      <td>PRELIM INFO FROM FAA OPS: COLORADO SPRINGS, CO...</td>\n",
              "      <td>100.0</td>\n",
              "      <td>1.0</td>\n",
              "      <td>0.0</td>\n",
              "      <td>Catastrophic</td>\n",
              "      <td>NaN</td>\n",
              "    </tr>\n",
              "  </tbody>\n",
              "</table>\n",
              "</div>"
            ],
            "text/plain": [
              "        Date     State  ... Classification Comments\n",
              "0  10/1/2020  NEW YORK  ...        Minimal      NaN\n",
              "1  10/1/2020  COLORADO  ...   Catastrophic      NaN\n",
              "\n",
              "[2 rows x 9 columns]"
            ]
          },
          "metadata": {
            "tags": []
          },
          "execution_count": 18
        }
      ]
    },
    {
      "cell_type": "markdown",
      "metadata": {
        "id": "3ouhKb1KwvvJ"
      },
      "source": [
        "# Hypothesis one "
      ]
    },
    {
      "cell_type": "code",
      "metadata": {
        "id": "YhjGSNMIwvg3"
      },
      "source": [
        "dfHOne = df[df[\"UAS Proximity (ft)\"] <= 500]\n",
        "# dfHOne.head(2)"
      ],
      "execution_count": null,
      "outputs": []
    },
    {
      "cell_type": "code",
      "metadata": {
        "colab": {
          "base_uri": "https://localhost:8080/"
        },
        "id": "-bVIL2xHxaTI",
        "outputId": "f7c8158c-b9c9-4c33-a7fc-80f65b809578"
      },
      "source": [
        "df.Classification.unique()\n",
        "classDict = {'Minimal': 0, 'Catastrophic': 1, 'Hazardous':2, 'Minor':3}\n",
        "dfHOne[\"ClassificationLabel\"] = dfHOne[\"Classification\"].apply(lambda x: classDict[x])"
      ],
      "execution_count": null,
      "outputs": [
        {
          "output_type": "stream",
          "text": [
            "/usr/local/lib/python3.7/dist-packages/ipykernel_launcher.py:3: SettingWithCopyWarning: \n",
            "A value is trying to be set on a copy of a slice from a DataFrame.\n",
            "Try using .loc[row_indexer,col_indexer] = value instead\n",
            "\n",
            "See the caveats in the documentation: https://pandas.pydata.org/pandas-docs/stable/user_guide/indexing.html#returning-a-view-versus-a-copy\n",
            "  This is separate from the ipykernel package so we can avoid doing imports until\n"
          ],
          "name": "stderr"
        }
      ]
    },
    {
      "cell_type": "markdown",
      "metadata": {
        "id": "64HKZ7oe9r38"
      },
      "source": [
        "### KStest (Two sample test)"
      ]
    },
    {
      "cell_type": "code",
      "metadata": {
        "colab": {
          "base_uri": "https://localhost:8080/"
        },
        "id": "umZGNfwa4r-x",
        "outputId": "d1e4e356-1f93-497d-8270-943b56d69238"
      },
      "source": [
        "from scipy.stats import ks_2samp\n",
        "import numpy as np\n",
        "\n",
        "np.random.seed(12345678)\n",
        "x = np.random.normal(0, 1, 1000)\n",
        "y = np.random.normal(0, 1, 1000)\n",
        "z = np.random.normal(1.1, 0.9, 1000)\n",
        "\n",
        "ks_2samp(dfHOne[\"UAS Proximity (ft)\"].to_list(),dfHOne[\"Pilot's Action\"].to_list())\n"
      ],
      "execution_count": null,
      "outputs": [
        {
          "output_type": "execute_result",
          "data": {
            "text/plain": [
              "Ks_2sampResult(statistic=0.9989878542510121, pvalue=0.0)"
            ]
          },
          "metadata": {
            "tags": []
          },
          "execution_count": 21
        }
      ]
    },
    {
      "cell_type": "markdown",
      "metadata": {
        "id": "Xa6fAhu6ETAc"
      },
      "source": [
        "The zero p value clearly states that the two distributions are totally different\n",
        "\n"
      ]
    },
    {
      "cell_type": "markdown",
      "metadata": {
        "id": "mdrwFF28_CvH"
      },
      "source": [
        "## Skewness and kurtosis test"
      ]
    },
    {
      "cell_type": "code",
      "metadata": {
        "colab": {
          "base_uri": "https://localhost:8080/"
        },
        "id": "ZnucQPF3wvTy",
        "outputId": "89f9a896-4991-459e-fe08-13e42112d7d3"
      },
      "source": [
        "import numpy as np\n",
        "from scipy.stats import kurtosis, skew\n",
        "\n",
        "print( 'kurtosis of UAS Proximity (ft) distribution -1.95 to 1.95: {}'.format( kurtosis(dfHOne[\"UAS Proximity (ft)\"].to_list()) ))\n",
        "print( 'skewness of UAS Proximity (ft) distribution -1 to 1: {}'.format( skew(dfHOne[\"UAS Proximity (ft)\"].to_list()) ))\n",
        "print()\n",
        "print( 'kurtosis of Pilots Action distribution -1.95 to 1.95: {}'.format( kurtosis(dfHOne[\"Pilot's Action\"].to_list()) ))\n",
        "print( 'skewness of Pilots Action distribution -1 to 1: {}'.format( skew(dfHOne[\"Pilot's Action\"].to_list()) ))\n",
        "\n",
        "# Hence the data is not normally distributed"
      ],
      "execution_count": null,
      "outputs": [
        {
          "output_type": "stream",
          "text": [
            "kurtosis of UAS Proximity (ft) distribution -1.95 to 1.95: -1.1795575299051217\n",
            "skewness of UAS Proximity (ft) distribution -1 to 1: 0.44314116012061044\n",
            "\n",
            "kurtosis of Pilots Action distribution -1.95 to 1.95: 460.5650308939254\n",
            "skewness of Pilots Action distribution -1 to 1: 18.968274175574724\n"
          ],
          "name": "stdout"
        }
      ]
    },
    {
      "cell_type": "markdown",
      "metadata": {
        "id": "v5YLmTH6_Gb7"
      },
      "source": [
        "The above test clearly states that UAS proximity is relatively distributed while Pilot's action is not."
      ]
    },
    {
      "cell_type": "markdown",
      "metadata": {
        "id": "7E0qpm2I__4M"
      },
      "source": [
        "## Levene's test "
      ]
    },
    {
      "cell_type": "code",
      "metadata": {
        "colab": {
          "base_uri": "https://localhost:8080/"
        },
        "id": "CZDzBFZ-2hIn",
        "outputId": "3809db01-4e75-4bd4-e7a7-90ed0734735e"
      },
      "source": [
        "from scipy.stats import levene\n",
        "stat, p = levene(dfHOne[\"UAS Proximity (ft)\"].to_list(),dfHOne[\"Pilot's Action\"].to_list())\n",
        "p\n",
        "\n"
      ],
      "execution_count": null,
      "outputs": [
        {
          "output_type": "execute_result",
          "data": {
            "text/plain": [
              "5.095252544169525e-254"
            ]
          },
          "metadata": {
            "tags": []
          },
          "execution_count": 23
        }
      ]
    },
    {
      "cell_type": "markdown",
      "metadata": {
        "id": "Fvo1xtBoAJFl"
      },
      "source": [
        "The small p-value clearly state that the populations do not have equal variances."
      ]
    },
    {
      "cell_type": "markdown",
      "metadata": {
        "id": "d3hs_O0jARgj"
      },
      "source": [
        "## Hence as per the above tests, it's fairly clear that Pearson correlation will give weak correlation, let's verify that "
      ]
    },
    {
      "cell_type": "code",
      "metadata": {
        "colab": {
          "base_uri": "https://localhost:8080/",
          "height": 450
        },
        "id": "goKC9agawvdY",
        "outputId": "8fba67e2-e13b-446d-ac9f-19fd99dd717f"
      },
      "source": [
        "plt.figure(figsize = (10,7))\n",
        "sns.heatmap(dfHOne.corr(), annot= True)"
      ],
      "execution_count": null,
      "outputs": [
        {
          "output_type": "execute_result",
          "data": {
            "text/plain": [
              "<matplotlib.axes._subplots.AxesSubplot at 0x7f6a209a4890>"
            ]
          },
          "metadata": {
            "tags": []
          },
          "execution_count": 24
        },
        {
          "output_type": "display_data",
          "data": {
            "image/png": "[encoded data removed]",
            "text/plain": [
              "<Figure size 720x504 with 2 Axes>"
            ]
          },
          "metadata": {
            "tags": [],
            "needs_background": "light"
          }
        }
      ]
    },
    {
      "cell_type": "code",
      "metadata": {
        "colab": {
          "base_uri": "https://localhost:8080/"
        },
        "id": "5Zl_ddURwvaQ",
        "outputId": "50d613eb-e665-42ec-9fe6-059a593134ee"
      },
      "source": [
        "from pydoc import help\n",
        "from scipy.stats.stats import pearsonr\n",
        "# help(pearsonr)\n",
        "print(\"Value of Pearson correlation: \",pearsonr(dfHOne[\"UAS Proximity (ft)\"].to_list(),dfHOne[\"Pilot's Action\"].to_list()))\n",
        "from scipy import stats\n",
        "res = stats.ttest_ind(dfHOne[\"UAS Proximity (ft)\"],dfHOne[\"Pilot's Action\"])\n",
        "print(res)\n",
        "print(res[1])"
      ],
      "execution_count": null,
      "outputs": [
        {
          "output_type": "stream",
          "text": [
            "Value of Pearson correlation:  (-0.05424141839843625, 0.0883740161946693)\n",
            "Ttest_indResult(statistic=46.978420353474064, pvalue=0.0)\n",
            "0.0\n"
          ],
          "name": "stdout"
        }
      ]
    },
    {
      "cell_type": "markdown",
      "metadata": {
        "id": "9sLqTekG4sir"
      },
      "source": [
        "Hence there's a no correlation, and however the p-value obtained is 1.1272110065737868e-272"
      ]
    },
    {
      "cell_type": "markdown",
      "metadata": {
        "id": "6e3QhFOQCJ2Y"
      },
      "source": [
        "# Conclusion\n",
        "\n",
        "UAS proximity less tha 500 has no relation with Pilot's action, hence the Null hypothesis is rejected and the alternate hypothesis that is Pilot's evasive Action is independent of UAS proximity is accepted"
      ]
    },
    {
      "cell_type": "markdown",
      "metadata": {
        "id": "m4q5-9vTLtaQ"
      },
      "source": [
        "## Hypothesis two"
      ]
    },
    {
      "cell_type": "code",
      "metadata": {
        "id": "2uR7fQZBGEgl"
      },
      "source": [
        "dfUAS_with_PA = df[df[\"Pilot's Action\"]==1].groupby([\"UAS Proximity (ft)\"])[\"Pilot's Action\"].sum().reset_index()\n",
        "dfUAS_with_PA.columns = [\"UAS Proximity (ft)\", \"Pilot's Action Count\"]"
      ],
      "execution_count": null,
      "outputs": []
    },
    {
      "cell_type": "code",
      "metadata": {
        "colab": {
          "base_uri": "https://localhost:8080/",
          "height": 639
        },
        "id": "MkRpNlqYI1QA",
        "outputId": "583d04d0-a351-4629-e639-0b79d96d7d71"
      },
      "source": [
        "plt.figure(figsize=(10,10))\n",
        "sns.barplot(x = dfUAS_with_PA['UAS Proximity (ft)'], y = dfUAS_with_PA[\"Pilot's Action Count\"])\n",
        "plt.title(\"plot depicting relation between UAS Proximity and Pilot's Action Count with evasive pilot's action\")"
      ],
      "execution_count": null,
      "outputs": [
        {
          "output_type": "execute_result",
          "data": {
            "text/plain": [
              "Text(0.5, 1.0, \"plot depicting relation between UAS Proximity and Pilot's Action Count with evasive pilot's action\")"
            ]
          },
          "metadata": {
            "tags": []
          },
          "execution_count": 27
        },
        {
          "output_type": "display_data",
          "data": {
            "image/png": "[encoded data removed]",
            "text/plain": [
              "<Figure size 720x720 with 1 Axes>"
            ]
          },
          "metadata": {
            "tags": [],
            "needs_background": "light"
          }
        }
      ]
    },
    {
      "cell_type": "code",
      "metadata": {
        "id": "6Q4oy6sNII5e"
      },
      "source": [
        "dfUAS_without_PA = df[df[\"Pilot's Action\"]==0].groupby([\"UAS Proximity (ft)\"])[\"Pilot's Action\"].count().reset_index()\n",
        "dfUAS_without_PA.columns = [\"UAS Proximity (ft)\", \"Pilot's Action Count\"]"
      ],
      "execution_count": null,
      "outputs": []
    },
    {
      "cell_type": "code",
      "metadata": {
        "colab": {
          "base_uri": "https://localhost:8080/",
          "height": 723
        },
        "id": "0SqQIwgNJ-bx",
        "outputId": "9a1db2e6-3193-4a58-db04-f694790fb367"
      },
      "source": [
        "plt.figure(figsize=(20,10))\n",
        "p = sns.barplot(x = dfUAS_without_PA['UAS Proximity (ft)'], y = dfUAS_without_PA[\"Pilot's Action Count\"])\n",
        "p.axes.set_title(\"plot depicting relation between UAS Proximity and Pilot's Action Count with pilot's action being non evasive\",fontsize=20, pad=20)\n",
        "plt.xticks(rotation=90)\n",
        "p.tick_params(labelsize=20)\n",
        "p.set_xlabel(\"UAS Proximity\",fontsize=20)\n",
        "p.set_ylabel(\"Pilot's Action Count\",fontsize=20)\n",
        "plt.show()"
      ],
      "execution_count": null,
      "outputs": [
        {
          "output_type": "display_data",
          "data": {
            "image/png": "[encoded data removed]",
            "text/plain": [
              "<Figure size 1440x720 with 1 Axes>"
            ]
          },
          "metadata": {
            "tags": [],
            "needs_background": "light"
          }
        }
      ]
    },
    {
      "cell_type": "code",
      "metadata": {
        "colab": {
          "base_uri": "https://localhost:8080/"
        },
        "id": "e5KlIov1g2Gh",
        "outputId": "4e51a0f3-c02e-45da-f7ad-d8632f2de324"
      },
      "source": [
        "percentage = (dfUAS_with_PA[\"Pilot's Action Count\"].sum()/(dfUAS_with_PA[\"Pilot's Action Count\"].sum()+dfUAS_without_PA[\"Pilot's Action Count\"].sum()))\n",
        "print(\"percentage of UAS sightings result in pilot's evasive action: \", percentage*100, \"%\")"
      ],
      "execution_count": null,
      "outputs": [
        {
          "output_type": "stream",
          "text": [
            "percentage of UAS sightings result in pilot's evasive action:  1.4657980456026058 %\n"
          ],
          "name": "stdout"
        }
      ]
    },
    {
      "cell_type": "markdown",
      "metadata": {
        "id": "u0xg-vsrLFLY"
      },
      "source": [
        "The above two graphs and the percentage calculated clearly show that \n",
        "\n",
        "First, less than half of UAS sightings have resulted in Pilot's evasive actions.\n",
        "\n",
        "Second, Pilot's evasive actions are totally independent of the proximity level"
      ]
    },
    {
      "cell_type": "markdown",
      "metadata": {
        "id": "V2GAjOUCLfen"
      },
      "source": [
        "## Conclusion: Hence the null hypothesis is accepted"
      ]
    },
    {
      "cell_type": "code",
      "metadata": {
        "id": "EM_eDvrJLEqA"
      },
      "source": [
        ""
      ],
      "execution_count": null,
      "outputs": []
    },
    {
      "cell_type": "code",
      "metadata": {
        "id": "swZovrHsgKYU"
      },
      "source": [
        ""
      ],
      "execution_count": null,
      "outputs": []
    },
    {
      "cell_type": "code",
      "metadata": {
        "id": "NfewiJoygKVt"
      },
      "source": [
        ""
      ],
      "execution_count": null,
      "outputs": []
    },
    {
      "cell_type": "code",
      "metadata": {
        "id": "9j9Z2xgIgGdP"
      },
      "source": [
        ""
      ],
      "execution_count": null,
      "outputs": []
    }
  ]
}