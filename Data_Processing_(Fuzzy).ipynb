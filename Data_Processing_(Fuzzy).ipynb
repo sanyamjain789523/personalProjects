{
  "nbformat": 4,
  "nbformat_minor": 0,
  "metadata": {
    "colab": {
      "name": "Data Processing (Fuzzy).ipynb",
      "provenance": [],
      "collapsed_sections": [],
      "toc_visible": true,
      "mount_file_id": "1fyIVegOt8ksVaXViW1Y2Yb93vmeuQO_t",
      "authorship_tag": "ABX9TyPEYdjKk9k+ZV+D1Or2praZ",
      "include_colab_link": true
    },
    "kernelspec": {
      "display_name": "Python 3",
      "name": "python3"
    },
    "language_info": {
      "name": "python"
    }
  },
  "cells": [
    {
      "cell_type": "markdown",
      "metadata": {
        "id": "view-in-github",
        "colab_type": "text"
      },
      "source": [
        "<a href=\"https://colab.research.google.com/github/sanyamjain789523/personalProjects/blob/main/Data_Processing_(Fuzzy).ipynb\" target=\"_parent\"><img src=\"https://colab.research.google.com/assets/colab-badge.svg\" alt=\"Open In Colab\"/></a>"
      ]
    },
    {
      "cell_type": "code",
      "metadata": {
        "colab": {
          "background_save": true
        },
        "id": "YUry9UN9dhbx"
      },
      "source": [
        "import pandas as pd\n",
        "import glob\n",
        "import os"
      ],
      "execution_count": null,
      "outputs": []
    },
    {
      "cell_type": "code",
      "metadata": {
        "id": "5gL3DMAofgCJ"
      },
      "source": [
        "# # codeblock to convert DILRMP_Data directory to a single dataframe\n",
        "\n",
        "# path = r'DILRMP_Data'\n",
        "# dL = []\n",
        "# for filefolder in os.listdir(path):\n",
        "#   if filefolder not in [\".DS_Store\"]:\n",
        "#     path2 = path + \"/\" + filefolder\n",
        "#     print(os.listdir(path2))\n",
        "#     for file in os.listdir(path2):\n",
        "#       # print(\"filefolder: \",filefolder)\n",
        "#       # print(\"file: \",file)\n",
        "#       # print(file)\n",
        "#       path3 = path2 +\"/\"+ file\n",
        "#       # print(path3)\n",
        "#       df = pd.read_csv(path3)\n",
        "#       if \"]\" in filefolder:\n",
        "#         df[\"state\"] = filefolder[:-1]\n",
        "#         df[\"district\"] = file[:-4]\n",
        "#       else:\n",
        "#         df[\"state\"] = filefolder\n",
        "#         df[\"district\"] = file[:-4]\n",
        "#       df_from_each_file = dL.append(df)\n",
        "\n",
        "#     # break\n",
        "# df\n",
        "# concatenated_df   = pd.concat(dL, ignore_index=True)\n",
        "\n",
        "#     # print(os.listdir(path2))\n",
        "#     # all_files = glob.glob(os.path.join(path,\"/\",filefolder, \"/*.csv\")) \n",
        "#     # print(filefolder)\n",
        "#     # print(os.path.join(path,\"/\",filefolder, \"*.csv\"))\n",
        "#     # df_from_each_file = (pd.read_csv(f) for f in all_files)\n",
        "#     # concatenated_df   = pd.concat(df_from_each_file, ignore_index=True)\n",
        "\n",
        "# # concatenated_df"
      ],
      "execution_count": null,
      "outputs": []
    },
    {
      "cell_type": "code",
      "metadata": {
        "id": "ARJ0HyM7svVW"
      },
      "source": [
        "# concatenated_df.to_csv(\"DILRMP_Data1.csv\")"
      ],
      "execution_count": null,
      "outputs": []
    },
    {
      "cell_type": "code",
      "metadata": {
        "id": "4gVn3iE5tLVL"
      },
      "source": [
        "# path = r'PMGSY_Data'\n",
        "\n",
        "# print(os.listdir(path))\n"
      ],
      "execution_count": null,
      "outputs": []
    },
    {
      "cell_type": "code",
      "metadata": {
        "id": "n8x1f91_xABw"
      },
      "source": [
        "# concatenated_df"
      ],
      "execution_count": null,
      "outputs": []
    },
    {
      "cell_type": "code",
      "metadata": {
        "id": "B0TXzTT_zO9n"
      },
      "source": [
        "import tqdm"
      ],
      "execution_count": null,
      "outputs": []
    },
    {
      "cell_type": "code",
      "metadata": {
        "id": "V6P8KHERouKS"
      },
      "source": [
        "# # codeblock to convert PMGSY_Data directory to a single dataframe\n",
        "\n",
        "# path = r'PMGSY_Data'\n",
        "# dL = []\n",
        "# for filefolder in os.listdir(path):\n",
        "#   print(filefolder)\n",
        "#   if filefolder not in [\".DS_Store\"]:\n",
        "#     path2 = path + \"/\" + filefolder\n",
        "#     for folder in os.listdir(path2):\n",
        "#       if folder not in [\".DS_Store\"]:\n",
        "#         # print(folder)\n",
        "#         path3 = path2 + \"/\" + folder\n",
        "#         for file in os.listdir(path3):\n",
        "#           # print(file)\n",
        "#           path4 = path3 +\"/\"+ file\n",
        "#           # print(path4)\n",
        "#           # print(\"filefolder: \",filefolder)\n",
        "#           # print(\"folder: \",folder)\n",
        "#           # print(\"file: \",file,file[:-4])\n",
        "#           # print(df_from_each_file1)\n",
        "#           df = pd.read_csv(path4)\n",
        "#           df[\"state\"] = filefolder\n",
        "#           # df[\"districtCustom\"] = folder\n",
        "#           df[\"subdistrict\"] = file[:-4]\n",
        "#           dL.append(df)\n",
        "#     # break \n",
        "# # df\n",
        "# concatenated_df1   = pd.concat(dL, ignore_index=True)\n",
        "# # concatenated_df1\n",
        "\n",
        "#     # print(os.listdir(path2))\n",
        "#     # all_files = glob.glob(os.path.join(path,\"/\",filefolder, \"/*.csv\")) \n",
        "#     # print(filefolder)\n",
        "#     # print(os.path.join(path,\"/\",filefolder, \"*.csv\"))\n",
        "#     # df_from_each_file = (pd.read_csv(f) for f in all_files)\n",
        "#     # concatenated_df   = pd.concat(df_from_each_file, ignore_index=True)\n",
        "# # concatenated_df1.to_csv(\"PMGSY_Data1.csv\")\n",
        "# concatenated_df1.head()"
      ],
      "execution_count": null,
      "outputs": []
    },
    {
      "cell_type": "code",
      "metadata": {
        "id": "eLedW_hZM74Y"
      },
      "source": [
        "import pandas as pd"
      ],
      "execution_count": null,
      "outputs": []
    },
    {
      "cell_type": "code",
      "metadata": {
        "colab": {
          "base_uri": "https://localhost:8080/"
        },
        "id": "Dhlw1vGB-Gi_",
        "outputId": "e5ae2a3b-c854-4df4-91f5-f658644578b8"
      },
      "source": [
        "# reading the obtained datasets\n",
        "shrug_df = pd.read_csv(\"shrug_names.csv\")\n",
        "PMGSY_df = pd.read_csv(\"PMGSY_Data1.csv\")\n",
        "DILRMP_df = pd.read_csv(\"DILRMP_Data.csv\")\n"
      ],
      "execution_count": null,
      "outputs": [
        {
          "output_type": "stream",
          "text": [
            "/usr/local/lib/python3.7/dist-packages/IPython/core/interactiveshell.py:2718: DtypeWarning: Columns (21,30,45,49,53) have mixed types.Specify dtype option on import or set low_memory=False.\n",
            "  interactivity=interactivity, compiler=compiler, result=result)\n",
            "/usr/local/lib/python3.7/dist-packages/IPython/core/interactiveshell.py:2718: DtypeWarning: Columns (2,4,5) have mixed types.Specify dtype option on import or set low_memory=False.\n",
            "  interactivity=interactivity, compiler=compiler, result=result)\n"
          ],
          "name": "stderr"
        }
      ]
    },
    {
      "cell_type": "code",
      "metadata": {
        "id": "y1gg_davFqT-"
      },
      "source": [
        "PMGSY_df = PMGSY_df.fillna(\"\")"
      ],
      "execution_count": null,
      "outputs": []
    },
    {
      "cell_type": "code",
      "metadata": {
        "colab": {
          "background_save": true
        },
        "id": "osDzmLE2KbQS"
      },
      "source": [
        "from tqdm import tqdm"
      ],
      "execution_count": null,
      "outputs": []
    },
    {
      "cell_type": "code",
      "metadata": {
        "colab": {
          "background_save": true
        },
        "id": "XcjiYJ7CFJd_"
      },
      "source": [
        "# lRoad = []\n",
        "# lDist = []\n",
        "# lState = []\n",
        "# lStateDist = []\n",
        "# LhabOut = []\n",
        "# i = 0\n",
        "# for road in tqdm(PMGSY_df.road_name.to_list()):\n",
        "#   if i <= 5 :\n",
        "#     lHab = []\n",
        "\n",
        "#     lRoad.append(road)\n",
        "#     lDist.append(list(set(PMGSY_df[PMGSY_df[\"road_name\"] == road][\"district\"].to_list())))\n",
        "#     lState.append(list(set(PMGSY_df[PMGSY_df[\"road_name\"] == road][\"state\"].to_list())))\n",
        "#     lStateDist.append(list(set(PMGSY_df[PMGSY_df[\"road_name\"] == road][\"subdistrict\"].to_list())))\n",
        "\n",
        "#     lH = ['habit1',\n",
        "#         'habit2', 'habit3', 'habit4', 'habit5', 'habit6',\n",
        "#         'habit7', 'habit8', 'habit9', 'habit10']\n",
        "#     for habitat in lH:\n",
        "#       lHab.extend(PMGSY_df[PMGSY_df[\"road_name\"] == road][habitat].to_list())\n",
        "#     # print(lHab)\n",
        "#     # break\n",
        "#     LhabOut.append(lHab)\n",
        "#     i+=1\n",
        "  \n",
        "#   # break\n",
        "\n",
        "# # lHab,lRoad,lDist,lState,lStateDist,LhabOut"
      ],
      "execution_count": null,
      "outputs": []
    },
    {
      "cell_type": "code",
      "metadata": {
        "colab": {
          "background_save": true
        },
        "id": "S5UMoXupO4IZ"
      },
      "source": [
        "# d = {\n",
        "#     \"lRoad\" : lRoad,\"lDist\":lDist,\"lState\":lState,\"lStateDist\":lStateDist,\"LhabOut\":LhabOut\n",
        "# }\n",
        "\n",
        "# PMG_df2 = pd.DataFrame(d)\n",
        "# PMG_df2\n",
        "# # PMG_df2.to_csv(\"PMG_df2.csv\")"
      ],
      "execution_count": null,
      "outputs": []
    },
    {
      "cell_type": "markdown",
      "metadata": {
        "id": "zDTi0YJ970tF"
      },
      "source": [
        "## Below code is for PMGSY_df procesing"
      ]
    },
    {
      "cell_type": "code",
      "metadata": {
        "colab": {
          "background_save": true
        },
        "id": "V7bZgfic70KN"
      },
      "source": [
        ""
      ],
      "execution_count": null,
      "outputs": []
    },
    {
      "cell_type": "code",
      "metadata": {
        "colab": {
          "background_save": true,
          "base_uri": "https://localhost:8080/"
        },
        "id": "iOY7wrj5-uK6",
        "outputId": "68447af3-249e-4793-957f-a8a5c89a702e"
      },
      "source": [
        "PMGSY_Groupeddf = PMGSY_df.groupby([\"road_name\",\"district\",\"state\",\"subdistrict\"])[\"road_name\",\"district\",\"state\",\"subdistrict\",'habit1',\n",
        "        'habit2', 'habit3', 'habit4', 'habit5', 'habit6',\n",
        "        'habit7', 'habit8', 'habit9', 'habit10'].head()"
      ],
      "execution_count": null,
      "outputs": [
        {
          "output_type": "stream",
          "text": [
            "/usr/local/lib/python3.7/dist-packages/ipykernel_launcher.py:1: FutureWarning: Indexing with multiple keys (implicitly converted to a tuple of keys) will be deprecated, use a list instead.\n",
            "  \"\"\"Entry point for launching an IPython kernel.\n"
          ],
          "name": "stderr"
        }
      ]
    },
    {
      "cell_type": "code",
      "metadata": {
        "colab": {
          "background_save": true
        },
        "id": "aW2QIENX-t2v"
      },
      "source": [
        "PMGSY_Groupeddf[\"comb\"] = PMGSY_Groupeddf['habit1']+\", \"+PMGSY_Groupeddf['habit2']+\", \"+ PMGSY_Groupeddf['habit3']+\", \"+ PMGSY_Groupeddf['habit4']+\", \"+ PMGSY_Groupeddf['habit5']+\", \"+ PMGSY_Groupeddf['habit6']+\", \"+PMGSY_Groupeddf ['habit7']+\", \"+ PMGSY_Groupeddf['habit8']+\", \"+ PMGSY_Groupeddf['habit9']+\", \"+ PMGSY_Groupeddf['habit10']"
      ],
      "execution_count": null,
      "outputs": []
    },
    {
      "cell_type": "code",
      "metadata": {
        "colab": {
          "background_save": true,
          "base_uri": "https://localhost:8080/",
          "height": 501
        },
        "id": "o1N-QaEA-tui",
        "outputId": "0230ed7b-d511-4445-f19a-0a90bd019bcf"
      },
      "source": [
        "PMGSY_Groupeddf.head()"
      ],
      "execution_count": null,
      "outputs": [
        {
          "output_type": "execute_result",
          "data": {
            "text/html": [
              "<div>\n",
              "<style scoped>\n",
              "    .dataframe tbody tr th:only-of-type {\n",
              "        vertical-align: middle;\n",
              "    }\n",
              "\n",
              "    .dataframe tbody tr th {\n",
              "        vertical-align: top;\n",
              "    }\n",
              "\n",
              "    .dataframe thead th {\n",
              "        text-align: right;\n",
              "    }\n",
              "</style>\n",
              "<table border=\"1\" class=\"dataframe\">\n",
              "  <thead>\n",
              "    <tr style=\"text-align: right;\">\n",
              "      <th></th>\n",
              "      <th>road_name</th>\n",
              "      <th>district</th>\n",
              "      <th>state</th>\n",
              "      <th>subdistrict</th>\n",
              "      <th>habit1</th>\n",
              "      <th>habit2</th>\n",
              "      <th>habit3</th>\n",
              "      <th>habit4</th>\n",
              "      <th>habit5</th>\n",
              "      <th>habit6</th>\n",
              "      <th>habit7</th>\n",
              "      <th>habit8</th>\n",
              "      <th>habit9</th>\n",
              "      <th>habit10</th>\n",
              "      <th>comb</th>\n",
              "    </tr>\n",
              "  </thead>\n",
              "  <tbody>\n",
              "    <tr>\n",
              "      <th>0</th>\n",
              "      <td>Bajpur Baria Daulat Road</td>\n",
              "      <td>Udham Singh Nagar</td>\n",
              "      <td>Uttarakhand</td>\n",
              "      <td>Bazpur</td>\n",
              "      <td></td>\n",
              "      <td></td>\n",
              "      <td></td>\n",
              "      <td></td>\n",
              "      <td></td>\n",
              "      <td></td>\n",
              "      <td></td>\n",
              "      <td></td>\n",
              "      <td></td>\n",
              "      <td></td>\n",
              "      <td>, , , , , , , , ,</td>\n",
              "    </tr>\n",
              "    <tr>\n",
              "      <th>1</th>\n",
              "      <td>Maleria Road</td>\n",
              "      <td>Udham Singh Nagar</td>\n",
              "      <td>Uttarakhand</td>\n",
              "      <td>Bazpur</td>\n",
              "      <td></td>\n",
              "      <td></td>\n",
              "      <td></td>\n",
              "      <td></td>\n",
              "      <td></td>\n",
              "      <td></td>\n",
              "      <td></td>\n",
              "      <td></td>\n",
              "      <td></td>\n",
              "      <td></td>\n",
              "      <td>, , , , , , , , ,</td>\n",
              "    </tr>\n",
              "    <tr>\n",
              "      <th>2</th>\n",
              "      <td>Sitargunj Nakulia KM 6 - Lauka Bhithora</td>\n",
              "      <td>Udham Singh Nagar</td>\n",
              "      <td>Uttarakhand</td>\n",
              "      <td>Bazpur</td>\n",
              "      <td>Bandwari</td>\n",
              "      <td>Banskheri</td>\n",
              "      <td>Gangapur</td>\n",
              "      <td>Hulsanganj</td>\n",
              "      <td>Katila Bonjh</td>\n",
              "      <td>Maholi Jangal</td>\n",
              "      <td>Maholichain</td>\n",
              "      <td>Tanda Ratibhan</td>\n",
              "      <td>Thapak Nagla</td>\n",
              "      <td></td>\n",
              "      <td>Bandwari , Banskheri , Gangapur , Hulsanganj ,...</td>\n",
              "    </tr>\n",
              "    <tr>\n",
              "      <th>3</th>\n",
              "      <td>Tehri Moradabad to Basai Road</td>\n",
              "      <td>Udham Singh Nagar</td>\n",
              "      <td>Uttarakhand</td>\n",
              "      <td>Jaspur</td>\n",
              "      <td>Nawalpur</td>\n",
              "      <td></td>\n",
              "      <td></td>\n",
              "      <td></td>\n",
              "      <td></td>\n",
              "      <td></td>\n",
              "      <td></td>\n",
              "      <td></td>\n",
              "      <td></td>\n",
              "      <td></td>\n",
              "      <td>Nawalpur , , , , , , , , ,</td>\n",
              "    </tr>\n",
              "    <tr>\n",
              "      <th>4</th>\n",
              "      <td>Fazalpur - New Abadi Sipka Motor Road</td>\n",
              "      <td>Udham Singh Nagar</td>\n",
              "      <td>Uttarakhand</td>\n",
              "      <td>Jaspur</td>\n",
              "      <td>Milak Sipka</td>\n",
              "      <td>Nai Abadi Sipla</td>\n",
              "      <td>Sipka</td>\n",
              "      <td></td>\n",
              "      <td></td>\n",
              "      <td></td>\n",
              "      <td></td>\n",
              "      <td></td>\n",
              "      <td></td>\n",
              "      <td></td>\n",
              "      <td>Milak Sipka , Nai Abadi Sipla , Sipka , , , , ...</td>\n",
              "    </tr>\n",
              "  </tbody>\n",
              "</table>\n",
              "</div>"
            ],
            "text/plain": [
              "                                 road_name  ...                                               comb\n",
              "0                 Bajpur Baria Daulat Road  ...                                 , , , , , , , , , \n",
              "1                             Maleria Road  ...                                 , , , , , , , , , \n",
              "2  Sitargunj Nakulia KM 6 - Lauka Bhithora  ...  Bandwari , Banskheri , Gangapur , Hulsanganj ,...\n",
              "3            Tehri Moradabad to Basai Road  ...                        Nawalpur , , , , , , , , , \n",
              "4    Fazalpur - New Abadi Sipka Motor Road  ...  Milak Sipka , Nai Abadi Sipla , Sipka , , , , ...\n",
              "\n",
              "[5 rows x 15 columns]"
            ]
          },
          "metadata": {
            "tags": []
          },
          "execution_count": 0
        }
      ]
    },
    {
      "cell_type": "code",
      "metadata": {
        "colab": {
          "background_save": true
        },
        "id": "s7CCJ0G6-tmG"
      },
      "source": [
        "import numpy as np\n"
      ],
      "execution_count": null,
      "outputs": []
    },
    {
      "cell_type": "code",
      "metadata": {
        "colab": {
          "background_save": true
        },
        "id": "SQr5k56Z-tf4"
      },
      "source": [
        "def cleanEmptyList(x):\n",
        "  if x in [\", , , , , , , , , \"]:\n",
        "    return \"\"\n",
        "  else:\n",
        "    return list(x.strip(\", \").split(', '))"
      ],
      "execution_count": null,
      "outputs": []
    },
    {
      "cell_type": "code",
      "metadata": {
        "colab": {
          "background_save": true
        },
        "id": "KU7P1LWu-tZq"
      },
      "source": [
        "PMGSY_Groupeddf[\"combCleaned\"] = PMGSY_Groupeddf.comb.apply(cleanEmptyList)"
      ],
      "execution_count": null,
      "outputs": []
    },
    {
      "cell_type": "code",
      "metadata": {
        "colab": {
          "background_save": true
        },
        "id": "Q7gEmrybw5wa"
      },
      "source": [
        "pd.set_option(\"display.max_rows\",1000)"
      ],
      "execution_count": null,
      "outputs": []
    },
    {
      "cell_type": "code",
      "metadata": {
        "colab": {
          "background_save": true,
          "base_uri": "https://localhost:8080/",
          "height": 406
        },
        "id": "TCOAfPyu-tTd",
        "outputId": "c109a2fd-8576-4263-cf53-0c51d943b60e"
      },
      "source": [
        "PMGSY_Villagesdf = PMGSY_Groupeddf.apply(lambda x: pd.Series(x.combCleaned), axis=1).stack().reset_index(level=1, drop=1).to_frame('combCleaned').join(PMGSY_Groupeddf[[\"road_name\",\t\"district\",\t\"state\",\t\"subdistrict\"]])\n",
        "PMGSY_Villagesdf"
      ],
      "execution_count": null,
      "outputs": [
        {
          "output_type": "execute_result",
          "data": {
            "text/html": [
              "<div>\n",
              "<style scoped>\n",
              "    .dataframe tbody tr th:only-of-type {\n",
              "        vertical-align: middle;\n",
              "    }\n",
              "\n",
              "    .dataframe tbody tr th {\n",
              "        vertical-align: top;\n",
              "    }\n",
              "\n",
              "    .dataframe thead th {\n",
              "        text-align: right;\n",
              "    }\n",
              "</style>\n",
              "<table border=\"1\" class=\"dataframe\">\n",
              "  <thead>\n",
              "    <tr style=\"text-align: right;\">\n",
              "      <th></th>\n",
              "      <th>combCleaned</th>\n",
              "      <th>road_name</th>\n",
              "      <th>district</th>\n",
              "      <th>state</th>\n",
              "      <th>subdistrict</th>\n",
              "    </tr>\n",
              "  </thead>\n",
              "  <tbody>\n",
              "    <tr>\n",
              "      <th>0</th>\n",
              "      <td></td>\n",
              "      <td>Bajpur Baria Daulat Road</td>\n",
              "      <td>Udham Singh Nagar</td>\n",
              "      <td>Uttarakhand</td>\n",
              "      <td>Bazpur</td>\n",
              "    </tr>\n",
              "    <tr>\n",
              "      <th>1</th>\n",
              "      <td></td>\n",
              "      <td>Maleria Road</td>\n",
              "      <td>Udham Singh Nagar</td>\n",
              "      <td>Uttarakhand</td>\n",
              "      <td>Bazpur</td>\n",
              "    </tr>\n",
              "    <tr>\n",
              "      <th>2</th>\n",
              "      <td>Bandwari</td>\n",
              "      <td>Sitargunj Nakulia KM 6 - Lauka Bhithora</td>\n",
              "      <td>Udham Singh Nagar</td>\n",
              "      <td>Uttarakhand</td>\n",
              "      <td>Bazpur</td>\n",
              "    </tr>\n",
              "    <tr>\n",
              "      <th>2</th>\n",
              "      <td>Banskheri</td>\n",
              "      <td>Sitargunj Nakulia KM 6 - Lauka Bhithora</td>\n",
              "      <td>Udham Singh Nagar</td>\n",
              "      <td>Uttarakhand</td>\n",
              "      <td>Bazpur</td>\n",
              "    </tr>\n",
              "    <tr>\n",
              "      <th>2</th>\n",
              "      <td>Gangapur</td>\n",
              "      <td>Sitargunj Nakulia KM 6 - Lauka Bhithora</td>\n",
              "      <td>Udham Singh Nagar</td>\n",
              "      <td>Uttarakhand</td>\n",
              "      <td>Bazpur</td>\n",
              "    </tr>\n",
              "    <tr>\n",
              "      <th>...</th>\n",
              "      <td>...</td>\n",
              "      <td>...</td>\n",
              "      <td>...</td>\n",
              "      <td>...</td>\n",
              "      <td>...</td>\n",
              "    </tr>\n",
              "    <tr>\n",
              "      <th>172123</th>\n",
              "      <td>Rabindra Nagar Ward No. 8</td>\n",
              "      <td>L034-Rabindra Nagar VR</td>\n",
              "      <td>South Andaman</td>\n",
              "      <td>Andaman And Nicobar Islands (UT)</td>\n",
              "      <td>Little Andaman</td>\n",
              "    </tr>\n",
              "    <tr>\n",
              "      <th>172124</th>\n",
              "      <td>Ward No 1 Vivekanandapur</td>\n",
              "      <td>L022-V.K. Pur Village Road</td>\n",
              "      <td>South Andaman</td>\n",
              "      <td>Andaman And Nicobar Islands (UT)</td>\n",
              "      <td>Little Andaman</td>\n",
              "    </tr>\n",
              "    <tr>\n",
              "      <th>172124</th>\n",
              "      <td>Ward No 2 Vivekanandapur</td>\n",
              "      <td>L022-V.K. Pur Village Road</td>\n",
              "      <td>South Andaman</td>\n",
              "      <td>Andaman And Nicobar Islands (UT)</td>\n",
              "      <td>Little Andaman</td>\n",
              "    </tr>\n",
              "    <tr>\n",
              "      <th>172124</th>\n",
              "      <td>Ward No 3 Vivekanandapur</td>\n",
              "      <td>L022-V.K. Pur Village Road</td>\n",
              "      <td>South Andaman</td>\n",
              "      <td>Andaman And Nicobar Islands (UT)</td>\n",
              "      <td>Little Andaman</td>\n",
              "    </tr>\n",
              "    <tr>\n",
              "      <th>172124</th>\n",
              "      <td>Ward No 4 Vivekanandapur</td>\n",
              "      <td>L022-V.K. Pur Village Road</td>\n",
              "      <td>South Andaman</td>\n",
              "      <td>Andaman And Nicobar Islands (UT)</td>\n",
              "      <td>Little Andaman</td>\n",
              "    </tr>\n",
              "  </tbody>\n",
              "</table>\n",
              "<p>437974 rows × 5 columns</p>\n",
              "</div>"
            ],
            "text/plain": [
              "                      combCleaned  ...     subdistrict\n",
              "0                                  ...          Bazpur\n",
              "1                                  ...          Bazpur\n",
              "2                       Bandwari   ...          Bazpur\n",
              "2                      Banskheri   ...          Bazpur\n",
              "2                       Gangapur   ...          Bazpur\n",
              "...                           ...  ...             ...\n",
              "172123  Rabindra Nagar Ward No. 8  ...  Little Andaman\n",
              "172124  Ward No 1 Vivekanandapur   ...  Little Andaman\n",
              "172124  Ward No 2 Vivekanandapur   ...  Little Andaman\n",
              "172124  Ward No 3 Vivekanandapur   ...  Little Andaman\n",
              "172124   Ward No 4 Vivekanandapur  ...  Little Andaman\n",
              "\n",
              "[437974 rows x 5 columns]"
            ]
          },
          "metadata": {
            "tags": []
          },
          "execution_count": 0
        }
      ]
    },
    {
      "cell_type": "code",
      "metadata": {
        "colab": {
          "background_save": true
        },
        "id": "BXfNo4jQ-tJU"
      },
      "source": [
        "def cleanText(text):\n",
        "  text = text.lower()\n",
        "  killpunctuation = str.maketrans('', '', r\"-()\\\"#/@;:][<>{}-=~|.?,\")\n",
        "  return text.translate(killpunctuation)"
      ],
      "execution_count": null,
      "outputs": []
    },
    {
      "cell_type": "code",
      "metadata": {
        "colab": {
          "background_save": true,
          "base_uri": "https://localhost:8080/",
          "height": 35
        },
        "id": "DcVV6w9r-tDl",
        "outputId": "9476a71e-f598-4940-b89c-be72314efdcb"
      },
      "source": [
        "cleanText(\"wcu24fO9wicn[=qwc-rq9wcn\")"
      ],
      "execution_count": null,
      "outputs": [
        {
          "output_type": "execute_result",
          "data": {
            "application/vnd.google.colaboratory.intrinsic+json": {
              "type": "string"
            },
            "text/plain": [
              "'wcu24fo9wicnqwcrq9wcn'"
            ]
          },
          "metadata": {
            "tags": []
          },
          "execution_count": 0
        }
      ]
    },
    {
      "cell_type": "code",
      "metadata": {
        "colab": {
          "background_save": true
        },
        "id": "WtVZL3Qz-s9P"
      },
      "source": [
        "for column in PMGSY_Villagesdf.columns:\n",
        "  PMGSY_Villagesdf[column+\"Cleaned\"] = PMGSY_Villagesdf[column].apply(cleanText)"
      ],
      "execution_count": null,
      "outputs": []
    },
    {
      "cell_type": "code",
      "metadata": {
        "colab": {
          "background_save": true
        },
        "id": "VyQSEWLh373D"
      },
      "source": [
        "PMGSY_Villagesdf.columns = ['combCleaned_PMGSY', 'road_name_PMGSY', 'district_PMGSY', 'state_PMGSY', 'subdistrict_PMGSY',\n",
        "       'villages_PMGSY', 'road_nameCleaned_PMGSY', 'districtCleaned_PMGSY',\n",
        "       'stateCleaned_PMGSY', 'subdistrictCleaned_PMGSY']"
      ],
      "execution_count": null,
      "outputs": []
    },
    {
      "cell_type": "markdown",
      "metadata": {
        "id": "MeWF2zsE8beQ"
      },
      "source": [
        "## Below code for shrug_df processing"
      ]
    },
    {
      "cell_type": "code",
      "metadata": {
        "colab": {
          "background_save": true
        },
        "id": "tt0FPGOS06qh",
        "outputId": "49b325c6-6cbe-4d27-f9c3-90ab562be40b"
      },
      "source": [
        "shrug_df.columns"
      ],
      "execution_count": null,
      "outputs": [
        {
          "output_type": "execute_result",
          "data": {
            "text/plain": [
              "Index(['state_name', 'district_name', 'subdistrict_name', 'place_name',\n",
              "       'shrid'],\n",
              "      dtype='object')"
            ]
          },
          "metadata": {
            "tags": []
          },
          "execution_count": 0
        }
      ]
    },
    {
      "cell_type": "code",
      "metadata": {
        "colab": {
          "background_save": true
        },
        "id": "PQIo1FSQ1UZ2",
        "outputId": "ca802138-5851-4417-cce1-01c4b695a9ee"
      },
      "source": [
        "shrug_df.head()"
      ],
      "execution_count": null,
      "outputs": [
        {
          "output_type": "execute_result",
          "data": {
            "text/html": [
              "<div>\n",
              "<style scoped>\n",
              "    .dataframe tbody tr th:only-of-type {\n",
              "        vertical-align: middle;\n",
              "    }\n",
              "\n",
              "    .dataframe tbody tr th {\n",
              "        vertical-align: top;\n",
              "    }\n",
              "\n",
              "    .dataframe thead th {\n",
              "        text-align: right;\n",
              "    }\n",
              "</style>\n",
              "<table border=\"1\" class=\"dataframe\">\n",
              "  <thead>\n",
              "    <tr style=\"text-align: right;\">\n",
              "      <th></th>\n",
              "      <th>state_name</th>\n",
              "      <th>district_name</th>\n",
              "      <th>subdistrict_name</th>\n",
              "      <th>place_name</th>\n",
              "      <th>shrid</th>\n",
              "    </tr>\n",
              "  </thead>\n",
              "  <tbody>\n",
              "    <tr>\n",
              "      <th>0</th>\n",
              "      <td>manipur</td>\n",
              "      <td>churachandpur</td>\n",
              "      <td>churachandpur</td>\n",
              "      <td>B. Kholmun</td>\n",
              "      <td>11-14-269529</td>\n",
              "    </tr>\n",
              "    <tr>\n",
              "      <th>1</th>\n",
              "      <td>jammu kashmir</td>\n",
              "      <td>baramula</td>\n",
              "      <td>tangmarg</td>\n",
              "      <td>Ati Pora Zikar</td>\n",
              "      <td>11-01-002621</td>\n",
              "    </tr>\n",
              "    <tr>\n",
              "      <th>2</th>\n",
              "      <td>jammu kashmir</td>\n",
              "      <td>jammu</td>\n",
              "      <td>akhnoor</td>\n",
              "      <td>Batal</td>\n",
              "      <td>11-01-005491</td>\n",
              "    </tr>\n",
              "    <tr>\n",
              "      <th>3</th>\n",
              "      <td>jammu kashmir</td>\n",
              "      <td>kupwara</td>\n",
              "      <td>kupwara</td>\n",
              "      <td>Dedi Koot</td>\n",
              "      <td>11-01-000103</td>\n",
              "    </tr>\n",
              "    <tr>\n",
              "      <th>4</th>\n",
              "      <td>jammu kashmir</td>\n",
              "      <td>rajouri</td>\n",
              "      <td>thanamandi</td>\n",
              "      <td>Hasploot</td>\n",
              "      <td>11-01-001272</td>\n",
              "    </tr>\n",
              "  </tbody>\n",
              "</table>\n",
              "</div>"
            ],
            "text/plain": [
              "      state_name  district_name subdistrict_name      place_name         shrid\n",
              "0        manipur  churachandpur    churachandpur      B. Kholmun  11-14-269529\n",
              "1  jammu kashmir       baramula         tangmarg  Ati Pora Zikar  11-01-002621\n",
              "2  jammu kashmir          jammu          akhnoor           Batal  11-01-005491\n",
              "3  jammu kashmir        kupwara          kupwara       Dedi Koot  11-01-000103\n",
              "4  jammu kashmir        rajouri       thanamandi        Hasploot  11-01-001272"
            ]
          },
          "metadata": {
            "tags": []
          },
          "execution_count": 0
        }
      ]
    },
    {
      "cell_type": "code",
      "metadata": {
        "colab": {
          "background_save": true
        },
        "id": "omh0UUo_1YiW"
      },
      "source": [
        "shrug_df = shrug_df.fillna(\"\")"
      ],
      "execution_count": null,
      "outputs": []
    },
    {
      "cell_type": "code",
      "metadata": {
        "colab": {
          "background_save": true
        },
        "id": "jMXnCakf-sxl"
      },
      "source": [
        "for column in ['state_name', 'district_name', 'subdistrict_name', 'place_name']:\n",
        "  shrug_df[column+\"CleanedSHRUG\"] = shrug_df[column].apply(cleanText)"
      ],
      "execution_count": null,
      "outputs": []
    },
    {
      "cell_type": "code",
      "metadata": {
        "colab": {
          "background_save": true
        },
        "id": "e1ONEreU1uwp"
      },
      "source": [
        "shrug_df.columns = ['state_name_SHRUG', 'district_name_SHRUG', 'subdistrict_name_SHRUG', 'place_name_SHRUG',\n",
        "       'shrid_SHRUG', 'state_nameCleaned_SHRUG', 'district_nameCleaned_SHRUG',\n",
        "       'subdistrict_nameCleaned_SHRUG', 'villages_SHRUG']"
      ],
      "execution_count": null,
      "outputs": []
    },
    {
      "cell_type": "code",
      "metadata": {
        "colab": {
          "background_save": true
        },
        "id": "jI3oCzc9-s3S",
        "outputId": "6009fd68-7aae-4692-ecdf-3ef51d249c47"
      },
      "source": [
        "PMGSY_Villagesdf.head()"
      ],
      "execution_count": null,
      "outputs": [
        {
          "output_type": "execute_result",
          "data": {
            "text/html": [
              "<div>\n",
              "<style scoped>\n",
              "    .dataframe tbody tr th:only-of-type {\n",
              "        vertical-align: middle;\n",
              "    }\n",
              "\n",
              "    .dataframe tbody tr th {\n",
              "        vertical-align: top;\n",
              "    }\n",
              "\n",
              "    .dataframe thead th {\n",
              "        text-align: right;\n",
              "    }\n",
              "</style>\n",
              "<table border=\"1\" class=\"dataframe\">\n",
              "  <thead>\n",
              "    <tr style=\"text-align: right;\">\n",
              "      <th></th>\n",
              "      <th>combCleaned_PMGSY</th>\n",
              "      <th>road_name_PMGSY</th>\n",
              "      <th>district_PMGSY</th>\n",
              "      <th>state_PMGSY</th>\n",
              "      <th>subdistrict_PMGSY</th>\n",
              "      <th>villages_PMGSY</th>\n",
              "      <th>road_nameCleaned_PMGSY</th>\n",
              "      <th>districtCleaned_PMGSY</th>\n",
              "      <th>stateCleaned_PMGSY</th>\n",
              "      <th>subdistrictCleaned_PMGSY</th>\n",
              "    </tr>\n",
              "  </thead>\n",
              "  <tbody>\n",
              "    <tr>\n",
              "      <th>0</th>\n",
              "      <td></td>\n",
              "      <td>Bajpur Baria Daulat Road</td>\n",
              "      <td>Udham Singh Nagar</td>\n",
              "      <td>Uttarakhand</td>\n",
              "      <td>Bazpur</td>\n",
              "      <td></td>\n",
              "      <td>bajpur baria daulat road</td>\n",
              "      <td>udham singh nagar</td>\n",
              "      <td>uttarakhand</td>\n",
              "      <td>bazpur</td>\n",
              "    </tr>\n",
              "    <tr>\n",
              "      <th>1</th>\n",
              "      <td></td>\n",
              "      <td>Maleria Road</td>\n",
              "      <td>Udham Singh Nagar</td>\n",
              "      <td>Uttarakhand</td>\n",
              "      <td>Bazpur</td>\n",
              "      <td></td>\n",
              "      <td>maleria road</td>\n",
              "      <td>udham singh nagar</td>\n",
              "      <td>uttarakhand</td>\n",
              "      <td>bazpur</td>\n",
              "    </tr>\n",
              "    <tr>\n",
              "      <th>2</th>\n",
              "      <td>Bandwari</td>\n",
              "      <td>Sitargunj Nakulia KM 6 - Lauka Bhithora</td>\n",
              "      <td>Udham Singh Nagar</td>\n",
              "      <td>Uttarakhand</td>\n",
              "      <td>Bazpur</td>\n",
              "      <td>bandwari</td>\n",
              "      <td>sitargunj nakulia km 6  lauka bhithora</td>\n",
              "      <td>udham singh nagar</td>\n",
              "      <td>uttarakhand</td>\n",
              "      <td>bazpur</td>\n",
              "    </tr>\n",
              "    <tr>\n",
              "      <th>2</th>\n",
              "      <td>Banskheri</td>\n",
              "      <td>Sitargunj Nakulia KM 6 - Lauka Bhithora</td>\n",
              "      <td>Udham Singh Nagar</td>\n",
              "      <td>Uttarakhand</td>\n",
              "      <td>Bazpur</td>\n",
              "      <td>banskheri</td>\n",
              "      <td>sitargunj nakulia km 6  lauka bhithora</td>\n",
              "      <td>udham singh nagar</td>\n",
              "      <td>uttarakhand</td>\n",
              "      <td>bazpur</td>\n",
              "    </tr>\n",
              "    <tr>\n",
              "      <th>2</th>\n",
              "      <td>Gangapur</td>\n",
              "      <td>Sitargunj Nakulia KM 6 - Lauka Bhithora</td>\n",
              "      <td>Udham Singh Nagar</td>\n",
              "      <td>Uttarakhand</td>\n",
              "      <td>Bazpur</td>\n",
              "      <td>gangapur</td>\n",
              "      <td>sitargunj nakulia km 6  lauka bhithora</td>\n",
              "      <td>udham singh nagar</td>\n",
              "      <td>uttarakhand</td>\n",
              "      <td>bazpur</td>\n",
              "    </tr>\n",
              "  </tbody>\n",
              "</table>\n",
              "</div>"
            ],
            "text/plain": [
              "  combCleaned_PMGSY  ... subdistrictCleaned_PMGSY\n",
              "0                    ...                   bazpur\n",
              "1                    ...                   bazpur\n",
              "2         Bandwari   ...                   bazpur\n",
              "2        Banskheri   ...                   bazpur\n",
              "2         Gangapur   ...                   bazpur\n",
              "\n",
              "[5 rows x 10 columns]"
            ]
          },
          "metadata": {
            "tags": []
          },
          "execution_count": 0
        }
      ]
    },
    {
      "cell_type": "code",
      "metadata": {
        "colab": {
          "background_save": true
        },
        "id": "6Kh72VeSQxje",
        "outputId": "69f07e90-4b7e-4512-f2a9-a83dde58b392"
      },
      "source": [
        "PMGSY_Villagesdf.head(2)"
      ],
      "execution_count": null,
      "outputs": [
        {
          "output_type": "execute_result",
          "data": {
            "text/html": [
              "<div>\n",
              "<style scoped>\n",
              "    .dataframe tbody tr th:only-of-type {\n",
              "        vertical-align: middle;\n",
              "    }\n",
              "\n",
              "    .dataframe tbody tr th {\n",
              "        vertical-align: top;\n",
              "    }\n",
              "\n",
              "    .dataframe thead th {\n",
              "        text-align: right;\n",
              "    }\n",
              "</style>\n",
              "<table border=\"1\" class=\"dataframe\">\n",
              "  <thead>\n",
              "    <tr style=\"text-align: right;\">\n",
              "      <th></th>\n",
              "      <th>combCleaned_PMGSY</th>\n",
              "      <th>road_name_PMGSY</th>\n",
              "      <th>district_PMGSY</th>\n",
              "      <th>state_PMGSY</th>\n",
              "      <th>subdistrict_PMGSY</th>\n",
              "      <th>villages_PMGSY</th>\n",
              "      <th>road_nameCleaned_PMGSY</th>\n",
              "      <th>districtCleaned_PMGSY</th>\n",
              "      <th>stateCleaned_PMGSY</th>\n",
              "      <th>subdistrictCleaned_PMGSY</th>\n",
              "    </tr>\n",
              "  </thead>\n",
              "  <tbody>\n",
              "    <tr>\n",
              "      <th>0</th>\n",
              "      <td></td>\n",
              "      <td>Bajpur Baria Daulat Road</td>\n",
              "      <td>Udham Singh Nagar</td>\n",
              "      <td>Uttarakhand</td>\n",
              "      <td>Bazpur</td>\n",
              "      <td></td>\n",
              "      <td>bajpur baria daulat road</td>\n",
              "      <td>udham singh nagar</td>\n",
              "      <td>uttarakhand</td>\n",
              "      <td>bazpur</td>\n",
              "    </tr>\n",
              "    <tr>\n",
              "      <th>1</th>\n",
              "      <td></td>\n",
              "      <td>Maleria Road</td>\n",
              "      <td>Udham Singh Nagar</td>\n",
              "      <td>Uttarakhand</td>\n",
              "      <td>Bazpur</td>\n",
              "      <td></td>\n",
              "      <td>maleria road</td>\n",
              "      <td>udham singh nagar</td>\n",
              "      <td>uttarakhand</td>\n",
              "      <td>bazpur</td>\n",
              "    </tr>\n",
              "  </tbody>\n",
              "</table>\n",
              "</div>"
            ],
            "text/plain": [
              "  combCleaned_PMGSY  ... subdistrictCleaned_PMGSY\n",
              "0                    ...                   bazpur\n",
              "1                    ...                   bazpur\n",
              "\n",
              "[2 rows x 10 columns]"
            ]
          },
          "metadata": {
            "tags": []
          },
          "execution_count": 0
        }
      ]
    },
    {
      "cell_type": "code",
      "metadata": {
        "colab": {
          "background_save": true
        },
        "id": "wcIf0sSiRf7J"
      },
      "source": [
        "shrug_df['k0'],shrug_df['k1'],shrug_df['k2'],shrug_df['k3'] = shrug_df['state_nameCleaned_SHRUG'],shrug_df['district_nameCleaned_SHRUG'],shrug_df['subdistrict_nameCleaned_SHRUG'],shrug_df['villages_SHRUG']\n",
        "PMGSY_Villagesdf['k0'],PMGSY_Villagesdf['k1'],PMGSY_Villagesdf['k2'],PMGSY_Villagesdf['k3'] = PMGSY_Villagesdf['stateCleaned_PMGSY'],PMGSY_Villagesdf['districtCleaned_PMGSY'],PMGSY_Villagesdf['subdistrictCleaned_PMGSY'],PMGSY_Villagesdf['villages_PMGSY']\n"
      ],
      "execution_count": null,
      "outputs": []
    },
    {
      "cell_type": "code",
      "metadata": {
        "colab": {
          "background_save": true
        },
        "id": "aA7al6AO1_x3"
      },
      "source": [
        "# this merge if for inferential purposes only\n",
        "shrugPMGSY_df = pd.merge(shrug_df, PMGSY_Villagesdf, how=\"inner\", on=[\"k0\",\"k1\", \"k2\",\"k3\"])"
      ],
      "execution_count": null,
      "outputs": []
    },
    {
      "cell_type": "code",
      "metadata": {
        "colab": {
          "background_save": true
        },
        "id": "g2f1NuswSRi4"
      },
      "source": [
        "shrugPMGSY_df.to_csv(\"shrugPMGSY_df_hard.csv\")"
      ],
      "execution_count": null,
      "outputs": []
    },
    {
      "cell_type": "code",
      "metadata": {
        "colab": {
          "background_save": true
        },
        "id": "dJFUO4D3TTj8",
        "outputId": "746a2066-68df-4da3-9569-9703040e9a88"
      },
      "source": [
        "shrugPMGSY_df.shape"
      ],
      "execution_count": null,
      "outputs": [
        {
          "output_type": "execute_result",
          "data": {
            "text/plain": [
              "(29869, 23)"
            ]
          },
          "metadata": {
            "tags": []
          },
          "execution_count": 0
        }
      ]
    },
    {
      "cell_type": "markdown",
      "metadata": {
        "id": "M0D9nhlFOxDE"
      },
      "source": [
        "### 1) Reshapes the PMGSY dataset to be at the village-level and then uses fuzzy string matching to match PMGSY villages to SHRUG"
      ]
    },
    {
      "cell_type": "code",
      "metadata": {
        "colab": {
          "background_save": true
        },
        "id": "G8-UueW5PHoQ"
      },
      "source": [
        "# combining villages and subdistrict to avoid merging of duplicate villages\n",
        "\n",
        "# PMGSY_Villagesdf[\"villageKey\"] = PMGSY_Villagesdf[\"villages\"]+\"_\"+PMGSY_Villagesdf[\"subdistrictCleaned_PMGSY\"]\n",
        "# shrug_df[\"villageKey\"] = shrug_df[\"villages\"]+\"_\"+shrug_df[\"subdistrict_nameCleaned_SHRUG\"]\n"
      ],
      "execution_count": null,
      "outputs": []
    },
    {
      "cell_type": "code",
      "metadata": {
        "colab": {
          "background_save": true
        },
        "id": "NsxAB8gPWdOr",
        "outputId": "62e44acf-c2ca-44a6-c9a7-caf5b79b272a"
      },
      "source": [
        "shrug_df.head()"
      ],
      "execution_count": null,
      "outputs": [
        {
          "output_type": "execute_result",
          "data": {
            "text/html": [
              "<div>\n",
              "<style scoped>\n",
              "    .dataframe tbody tr th:only-of-type {\n",
              "        vertical-align: middle;\n",
              "    }\n",
              "\n",
              "    .dataframe tbody tr th {\n",
              "        vertical-align: top;\n",
              "    }\n",
              "\n",
              "    .dataframe thead th {\n",
              "        text-align: right;\n",
              "    }\n",
              "</style>\n",
              "<table border=\"1\" class=\"dataframe\">\n",
              "  <thead>\n",
              "    <tr style=\"text-align: right;\">\n",
              "      <th></th>\n",
              "      <th>state_name_SHRUG</th>\n",
              "      <th>district_name_SHRUG</th>\n",
              "      <th>subdistrict_name_SHRUG</th>\n",
              "      <th>place_name_SHRUG</th>\n",
              "      <th>shrid_SHRUG</th>\n",
              "      <th>state_nameCleaned_SHRUG</th>\n",
              "      <th>district_nameCleaned_SHRUG</th>\n",
              "      <th>subdistrict_nameCleaned_SHRUG</th>\n",
              "      <th>villages_SHRUG</th>\n",
              "      <th>k0</th>\n",
              "      <th>k1</th>\n",
              "      <th>k2</th>\n",
              "      <th>k3</th>\n",
              "    </tr>\n",
              "  </thead>\n",
              "  <tbody>\n",
              "    <tr>\n",
              "      <th>0</th>\n",
              "      <td>manipur</td>\n",
              "      <td>churachandpur</td>\n",
              "      <td>churachandpur</td>\n",
              "      <td>B. Kholmun</td>\n",
              "      <td>11-14-269529</td>\n",
              "      <td>manipur</td>\n",
              "      <td>churachandpur</td>\n",
              "      <td>churachandpur</td>\n",
              "      <td>b kholmun</td>\n",
              "      <td>manipur</td>\n",
              "      <td>churachandpur</td>\n",
              "      <td>churachandpur</td>\n",
              "      <td>b kholmun</td>\n",
              "    </tr>\n",
              "    <tr>\n",
              "      <th>1</th>\n",
              "      <td>jammu kashmir</td>\n",
              "      <td>baramula</td>\n",
              "      <td>tangmarg</td>\n",
              "      <td>Ati Pora Zikar</td>\n",
              "      <td>11-01-002621</td>\n",
              "      <td>jammu kashmir</td>\n",
              "      <td>baramula</td>\n",
              "      <td>tangmarg</td>\n",
              "      <td>ati pora zikar</td>\n",
              "      <td>jammu kashmir</td>\n",
              "      <td>baramula</td>\n",
              "      <td>tangmarg</td>\n",
              "      <td>ati pora zikar</td>\n",
              "    </tr>\n",
              "    <tr>\n",
              "      <th>2</th>\n",
              "      <td>jammu kashmir</td>\n",
              "      <td>jammu</td>\n",
              "      <td>akhnoor</td>\n",
              "      <td>Batal</td>\n",
              "      <td>11-01-005491</td>\n",
              "      <td>jammu kashmir</td>\n",
              "      <td>jammu</td>\n",
              "      <td>akhnoor</td>\n",
              "      <td>batal</td>\n",
              "      <td>jammu kashmir</td>\n",
              "      <td>jammu</td>\n",
              "      <td>akhnoor</td>\n",
              "      <td>batal</td>\n",
              "    </tr>\n",
              "    <tr>\n",
              "      <th>3</th>\n",
              "      <td>jammu kashmir</td>\n",
              "      <td>kupwara</td>\n",
              "      <td>kupwara</td>\n",
              "      <td>Dedi Koot</td>\n",
              "      <td>11-01-000103</td>\n",
              "      <td>jammu kashmir</td>\n",
              "      <td>kupwara</td>\n",
              "      <td>kupwara</td>\n",
              "      <td>dedi koot</td>\n",
              "      <td>jammu kashmir</td>\n",
              "      <td>kupwara</td>\n",
              "      <td>kupwara</td>\n",
              "      <td>dedi koot</td>\n",
              "    </tr>\n",
              "    <tr>\n",
              "      <th>4</th>\n",
              "      <td>jammu kashmir</td>\n",
              "      <td>rajouri</td>\n",
              "      <td>thanamandi</td>\n",
              "      <td>Hasploot</td>\n",
              "      <td>11-01-001272</td>\n",
              "      <td>jammu kashmir</td>\n",
              "      <td>rajouri</td>\n",
              "      <td>thanamandi</td>\n",
              "      <td>hasploot</td>\n",
              "      <td>jammu kashmir</td>\n",
              "      <td>rajouri</td>\n",
              "      <td>thanamandi</td>\n",
              "      <td>hasploot</td>\n",
              "    </tr>\n",
              "  </tbody>\n",
              "</table>\n",
              "</div>"
            ],
            "text/plain": [
              "  state_name_SHRUG district_name_SHRUG  ...             k2              k3\n",
              "0          manipur       churachandpur  ...  churachandpur       b kholmun\n",
              "1    jammu kashmir            baramula  ...       tangmarg  ati pora zikar\n",
              "2    jammu kashmir               jammu  ...        akhnoor           batal\n",
              "3    jammu kashmir             kupwara  ...        kupwara       dedi koot\n",
              "4    jammu kashmir             rajouri  ...     thanamandi        hasploot\n",
              "\n",
              "[5 rows x 13 columns]"
            ]
          },
          "metadata": {
            "tags": []
          },
          "execution_count": 0
        }
      ]
    },
    {
      "cell_type": "code",
      "metadata": {
        "colab": {
          "background_save": true
        },
        "id": "QRpGB5G_T5GM"
      },
      "source": [
        "# !pip install fuzzymatcher"
      ],
      "execution_count": null,
      "outputs": []
    },
    {
      "cell_type": "code",
      "metadata": {
        "colab": {
          "background_save": true
        },
        "id": "tbfU010RbMRF",
        "outputId": "06ebe922-e217-43fe-dbb2-ef840102bd65"
      },
      "source": [
        "PMGSY_Villagesdf.head(2)"
      ],
      "execution_count": null,
      "outputs": [
        {
          "output_type": "execute_result",
          "data": {
            "text/html": [
              "<div>\n",
              "<style scoped>\n",
              "    .dataframe tbody tr th:only-of-type {\n",
              "        vertical-align: middle;\n",
              "    }\n",
              "\n",
              "    .dataframe tbody tr th {\n",
              "        vertical-align: top;\n",
              "    }\n",
              "\n",
              "    .dataframe thead th {\n",
              "        text-align: right;\n",
              "    }\n",
              "</style>\n",
              "<table border=\"1\" class=\"dataframe\">\n",
              "  <thead>\n",
              "    <tr style=\"text-align: right;\">\n",
              "      <th></th>\n",
              "      <th>combCleaned_PMGSY</th>\n",
              "      <th>road_name_PMGSY</th>\n",
              "      <th>district_PMGSY</th>\n",
              "      <th>state_PMGSY</th>\n",
              "      <th>subdistrict_PMGSY</th>\n",
              "      <th>villages_PMGSY</th>\n",
              "      <th>road_nameCleaned_PMGSY</th>\n",
              "      <th>districtCleaned_PMGSY</th>\n",
              "      <th>stateCleaned_PMGSY</th>\n",
              "      <th>subdistrictCleaned_PMGSY</th>\n",
              "      <th>k0</th>\n",
              "      <th>k1</th>\n",
              "      <th>k2</th>\n",
              "      <th>k3</th>\n",
              "    </tr>\n",
              "  </thead>\n",
              "  <tbody>\n",
              "    <tr>\n",
              "      <th>0</th>\n",
              "      <td></td>\n",
              "      <td>Bajpur Baria Daulat Road</td>\n",
              "      <td>Udham Singh Nagar</td>\n",
              "      <td>Uttarakhand</td>\n",
              "      <td>Bazpur</td>\n",
              "      <td></td>\n",
              "      <td>bajpur baria daulat road</td>\n",
              "      <td>udham singh nagar</td>\n",
              "      <td>uttarakhand</td>\n",
              "      <td>bazpur</td>\n",
              "      <td>uttarakhand</td>\n",
              "      <td>udham singh nagar</td>\n",
              "      <td>bazpur</td>\n",
              "      <td></td>\n",
              "    </tr>\n",
              "    <tr>\n",
              "      <th>1</th>\n",
              "      <td></td>\n",
              "      <td>Maleria Road</td>\n",
              "      <td>Udham Singh Nagar</td>\n",
              "      <td>Uttarakhand</td>\n",
              "      <td>Bazpur</td>\n",
              "      <td></td>\n",
              "      <td>maleria road</td>\n",
              "      <td>udham singh nagar</td>\n",
              "      <td>uttarakhand</td>\n",
              "      <td>bazpur</td>\n",
              "      <td>uttarakhand</td>\n",
              "      <td>udham singh nagar</td>\n",
              "      <td>bazpur</td>\n",
              "      <td></td>\n",
              "    </tr>\n",
              "  </tbody>\n",
              "</table>\n",
              "</div>"
            ],
            "text/plain": [
              "  combCleaned_PMGSY           road_name_PMGSY  ...      k2 k3\n",
              "0                    Bajpur Baria Daulat Road  ...  bazpur   \n",
              "1                                Maleria Road  ...  bazpur   \n",
              "\n",
              "[2 rows x 14 columns]"
            ]
          },
          "metadata": {
            "tags": []
          },
          "execution_count": 0
        }
      ]
    },
    {
      "cell_type": "code",
      "metadata": {
        "colab": {
          "background_save": true
        },
        "id": "ccx8VCriqxAM"
      },
      "source": [
        "# PMGSY_Villagesdf.districtCleaned_PMGSY.value_counts()"
      ],
      "execution_count": null,
      "outputs": []
    },
    {
      "cell_type": "code",
      "metadata": {
        "colab": {
          "background_save": true
        },
        "id": "YmhIgcBFqOJh"
      },
      "source": [
        "# PMGSY_Villagesdf[PMGSY_Villagesdf[\"stateCleaned_PMGSY\"]==\"uttarakhand\",PMGSY_Villagesdf[\"udham singh nagar\"]]"
      ],
      "execution_count": null,
      "outputs": []
    },
    {
      "cell_type": "code",
      "metadata": {
        "colab": {
          "background_save": true
        },
        "id": "CV06e4jbcBEi",
        "outputId": "3452cf8c-bc01-4d7e-eb44-f2de2f4793a2"
      },
      "source": [
        "shrug_df.shape"
      ],
      "execution_count": null,
      "outputs": [
        {
          "output_type": "execute_result",
          "data": {
            "text/plain": [
              "(642049, 13)"
            ]
          },
          "metadata": {
            "tags": []
          },
          "execution_count": 0
        }
      ]
    },
    {
      "cell_type": "code",
      "metadata": {
        "colab": {
          "background_save": true
        },
        "id": "mBf4g69LbI5D"
      },
      "source": [
        "left_on = [\"state_nameCleaned_SHRUG\",\"district_nameCleaned_SHRUG\", \"subdistrict_nameCleaned_SHRUG\", \"villages_SHRUG\"]\n",
        "\n",
        "right_on = [\n",
        "    \"stateCleaned_PMGSY\",\"districtCleaned_PMGSY\", \"subdistrictCleaned_PMGSY\", \"villages_PMGSY\"\n",
        "]"
      ],
      "execution_count": null,
      "outputs": []
    },
    {
      "cell_type": "markdown",
      "metadata": {
        "id": "0HMyjCKb9N4S"
      },
      "source": [
        "## Make sure to install fuzzymatcher using below code"
      ]
    },
    {
      "cell_type": "code",
      "metadata": {
        "colab": {
          "background_save": true
        },
        "id": "smWD5P2dM_3q"
      },
      "source": [
        "# !pip install fuzzymatcher"
      ],
      "execution_count": null,
      "outputs": []
    },
    {
      "cell_type": "code",
      "metadata": {
        "colab": {
          "background_save": true
        },
        "id": "iiyeu_up9V6h",
        "outputId": "02be0b22-e4c5-4a08-aad0-2c9b8ff401d1"
      },
      "source": [
        "PMGSY_Villagesdf.stateCleaned_PMGSY.unique(),len(PMGSY_Villagesdf.stateCleaned_PMGSY.unique())"
      ],
      "execution_count": null,
      "outputs": [
        {
          "output_type": "execute_result",
          "data": {
            "text/plain": [
              "(array(['uttarakhand', 'sikkim', 'tamilnadu', 'tripura', 'telangana',\n",
              "        'uttar pradesh', 'rajasthan', 'west bengal', 'kerala', 'meghalaya',\n",
              "        'odisha', 'mizoram', 'ladakh ut', 'nagaland', 'maharashtra',\n",
              "        'manipur', 'punjab', 'madhya pradesh', 'jharkhand', 'assam',\n",
              "        'jammu and kashmir', 'goa', 'gujarat', 'karnataka', 'bihar',\n",
              "        'himachal pradesh', 'haryana', 'chhattisgarh', 'arunachal pradesh',\n",
              "        'andhra pradesh', 'andaman and nicobar islands ut'], dtype=object), 31)"
            ]
          },
          "metadata": {
            "tags": []
          },
          "execution_count": 0
        }
      ]
    },
    {
      "cell_type": "code",
      "metadata": {
        "colab": {
          "background_save": true
        },
        "id": "1IBWsiOG6QyQ",
        "outputId": "3d095d9a-8c3f-48a6-c83b-40ed5bfd24e5"
      },
      "source": [
        "shrug_df.state_nameCleaned_SHRUG.unique(),len(shrug_df.state_nameCleaned_SHRUG.unique())"
      ],
      "execution_count": null,
      "outputs": [
        {
          "output_type": "execute_result",
          "data": {
            "text/plain": [
              "(array(['manipur', 'jammu kashmir', 'himachal pradesh', 'uttarakhand',\n",
              "        'arunachal pradesh', 'assam', 'madhya pradesh', 'rajasthan',\n",
              "        'maharashtra', 'uttar pradesh', 'odisha', 'tamil nadu', 'gujarat',\n",
              "        'west bengal', 'andhra pradesh', 'karnataka', 'meghalaya',\n",
              "        'nagaland', 'chhattisgarh', 'bihar', 'jharkhand', 'punjab',\n",
              "        'tripura', 'kerala', 'haryana', 'mizoram', 'puducherry',\n",
              "        'dadra nagar haveli', 'andaman nicobar islands', '', 'sikkim',\n",
              "        'orissa', 'goa', 'daman diu', 'lakshadweep', 'pondicherry',\n",
              "        'chandigarh', 'nct of delhi'], dtype=object), 38)"
            ]
          },
          "metadata": {
            "tags": []
          },
          "execution_count": 0
        }
      ]
    },
    {
      "cell_type": "code",
      "metadata": {
        "colab": {
          "background_save": true
        },
        "id": "9aeD5hk87pA4"
      },
      "source": [
        "def replacement(x, word, replacement):\n",
        "  if x == word:\n",
        "    return replacement\n",
        "  return x"
      ],
      "execution_count": null,
      "outputs": []
    },
    {
      "cell_type": "code",
      "metadata": {
        "id": "GxaIlsam7DeN"
      },
      "source": [
        "PMGSY_Villagesdf[\"stateCleaned_PMGSY\"] = PMGSY_Villagesdf.stateCleaned_PMGSY.apply(lambda x : replacement(x,\"tamilnadu\", \"tamil nadu\"))\n",
        "PMGSY_Villagesdf[\"stateCleaned_PMGSY\"] = PMGSY_Villagesdf.stateCleaned_PMGSY.apply(lambda x : replacement(x,\"telangana\", \"andhra pradesh\"))\n",
        "PMGSY_Villagesdf[\"stateCleaned_PMGSY\"] = PMGSY_Villagesdf.stateCleaned_PMGSY.apply(lambda x : replacement(x,\"ladakh ut\", \"jammu kashmir\"))\n",
        "PMGSY_Villagesdf[\"stateCleaned_PMGSY\"] = PMGSY_Villagesdf.stateCleaned_PMGSY.apply(lambda x : replacement(x,\"jammu and kashmir\", \"jammu kashmir\"))\n",
        "PMGSY_Villagesdf[\"stateCleaned_PMGSY\"] = PMGSY_Villagesdf.stateCleaned_PMGSY.apply(lambda x : replacement(x,\"andaman and nicobar islands ut\", \"andaman nicobar islands\"))\n"
      ],
      "execution_count": null,
      "outputs": []
    },
    {
      "cell_type": "code",
      "metadata": {
        "id": "Wpm7qiqNI6YL"
      },
      "source": [
        "from time import sleep"
      ],
      "execution_count": null,
      "outputs": []
    },
    {
      "cell_type": "code",
      "metadata": {
        "id": "b3wDjAk_6vRz"
      },
      "source": [
        "for item in PMGSY_Villagesdf.stateCleaned_PMGSY.unique():\n",
        "  if item not in shrug_df.state_nameCleaned_SHRUG.unique().tolist():\n",
        "    print(item)"
      ],
      "execution_count": null,
      "outputs": []
    },
    {
      "cell_type": "code",
      "metadata": {
        "id": "drrkIA579Uww"
      },
      "source": [
        "import fuzzymatcher\n",
        "def fuzzy(leftDF, rightDF,leftStateColumn, rightStateColumn, stateName):\n",
        "\n",
        "  leftDF = leftDF[leftDF[str(leftStateColumn)] == stateName]\n",
        "  rightDF = rightDF[rightDF[str(rightStateColumn)] == stateName]\n",
        "\n",
        "  Df = fuzzymatcher.fuzzy_left_join(leftDF,\n",
        "                                              rightDF,\n",
        "                                              left_on,\n",
        "                                              right_on)\n",
        "\n",
        "  return Df\n",
        "\n",
        "# shrugFuzzyPmgsyDf.to_csv(\"shrugPmgsyDfFuzzyMatcher.csv\")                                        "
      ],
      "execution_count": null,
      "outputs": []
    },
    {
      "cell_type": "code",
      "metadata": {
        "id": "LKmfQ9LOA_6c"
      },
      "source": [
        "import tqdm"
      ],
      "execution_count": null,
      "outputs": []
    },
    {
      "cell_type": "code",
      "metadata": {
        "colab": {
          "base_uri": "https://localhost:8080/"
        },
        "id": "jnM82cTV-PR0",
        "outputId": "3bcd3f58-959f-4897-9185-27a263f2500c"
      },
      "source": [
        "dfD = {}\n",
        "for state in tqdm.tqdm(PMGSY_Villagesdf.stateCleaned_PMGSY.unique().tolist()):\n",
        "  dfR = fuzzy(shrug_df, PMGSY_Villagesdf, \"state_nameCleaned_SHRUG\", \"stateCleaned_PMGSY\", state)\n",
        "  dfKey = \"dfR\" + state\n",
        "  dfD[dfKey] = dfR\n",
        "  # break\n",
        "  sleep(5)"
      ],
      "execution_count": null,
      "outputs": [
        {
          "output_type": "stream",
          "text": [
            " 17%|█▋        | 5/29 [06:25<35:32, 88.85s/it]"
          ],
          "name": "stderr"
        }
      ]
    },
    {
      "cell_type": "code",
      "metadata": {
        "id": "sU9yH28qCdYX"
      },
      "source": [
        "# dfD[\"dfRuttarakhand\"].sort_values(\"best_match_score\", ascending = False)"
      ],
      "execution_count": null,
      "outputs": []
    },
    {
      "cell_type": "code",
      "metadata": {
        "id": "fkRogVny_SeM"
      },
      "source": [
        "# dfR.sort_values(\"best_match_score\", ascending = False)"
      ],
      "execution_count": null,
      "outputs": []
    },
    {
      "cell_type": "markdown",
      "metadata": {
        "id": "7lQNYWO69XS-"
      },
      "source": [
        "# fuzzy operation on shrug and pmgsy data"
      ]
    },
    {
      "cell_type": "code",
      "metadata": {
        "id": "ba-3is4Tbtam"
      },
      "source": [
        "import fuzzymatcher\n",
        "shrugFuzzyPmgsyDf = fuzzymatcher.fuzzy_left_join(shrug_df,\n",
        "                                            PMGSY_Villagesdf,\n",
        "                                            left_on,\n",
        "                                            right_on)\n",
        "\n",
        "\n",
        "\n",
        "shrugFuzzyPmgsyDf.to_csv(\"shrugPmgsyDfFuzzyMatcher.csv\")                                        "
      ],
      "execution_count": null,
      "outputs": []
    },
    {
      "cell_type": "code",
      "metadata": {
        "id": "6OiJhHsZiP1E"
      },
      "source": [
        "# obtaining final dataset with unique identifiers\n",
        "\n",
        "shrugFuzzyPmgsyDfColL = []\n",
        "for column in shrugFuzzyPmgsyDf.columns:\n",
        "  # if \"Cleaned\" in column or \"shrid\" in column or \"village\" in column:\n",
        "  shrugFuzzyPmgsyDfColL.append(column)\n",
        "\n",
        "shrugFuzzyPmgsyDfOut = shrugFuzzyPmgsyDf[shrugFuzzyPmgsyDfColL]\n",
        "shrugFuzzyPmgsyDfOutDict = {val: index for index, val in enumerate(shrugFuzzyPmgsyDfOut.villages_SHRUG.unique())}\n",
        "shrugFuzzyPmgsyDfOut[\"identifier\"] = shrugFuzzyPmgsyDfOut.villages_SHRUG.map(shrugFuzzyPmgsyDfOutDict)\n",
        "\n",
        "shrugFuzzyPmgsyDfOut.to_csv(\"shrugPmgsyDfFuzzyMatcherOUT.csv\")                                        "
      ],
      "execution_count": null,
      "outputs": []
    },
    {
      "cell_type": "code",
      "metadata": {
        "id": "O56pQqu5bTRC"
      },
      "source": [
        "# some DILRMP_df data processing\n",
        "\n",
        "for column in DILRMP_df.columns:\n",
        "  DILRMP_df[column] = DILRMP_df[column].astype(str)\n",
        "  DILRMP_df[column+\"_Cleaned_DILRMP\"] = DILRMP_df[column].apply(cleanText)"
      ],
      "execution_count": null,
      "outputs": []
    },
    {
      "cell_type": "code",
      "metadata": {
        "colab": {
          "base_uri": "https://localhost:8080/",
          "height": 165
        },
        "id": "Appx8YUwiq2u",
        "outputId": "b16da81f-b109-4f80-e4e4-bc1c51e1bd5b"
      },
      "source": [
        "shrug_df.head(2)"
      ],
      "execution_count": null,
      "outputs": [
        {
          "output_type": "execute_result",
          "data": {
            "text/html": [
              "<div>\n",
              "<style scoped>\n",
              "    .dataframe tbody tr th:only-of-type {\n",
              "        vertical-align: middle;\n",
              "    }\n",
              "\n",
              "    .dataframe tbody tr th {\n",
              "        vertical-align: top;\n",
              "    }\n",
              "\n",
              "    .dataframe thead th {\n",
              "        text-align: right;\n",
              "    }\n",
              "</style>\n",
              "<table border=\"1\" class=\"dataframe\">\n",
              "  <thead>\n",
              "    <tr style=\"text-align: right;\">\n",
              "      <th></th>\n",
              "      <th>state_name_SHRUG</th>\n",
              "      <th>district_name_SHRUG</th>\n",
              "      <th>subdistrict_name_SHRUG</th>\n",
              "      <th>place_name_SHRUG</th>\n",
              "      <th>shrid_SHRUG</th>\n",
              "      <th>state_nameCleaned_SHRUG</th>\n",
              "      <th>district_nameCleaned_SHRUG</th>\n",
              "      <th>subdistrict_nameCleaned_SHRUG</th>\n",
              "      <th>villages_SHRUG</th>\n",
              "      <th>k0</th>\n",
              "      <th>k1</th>\n",
              "      <th>k2</th>\n",
              "      <th>k3</th>\n",
              "    </tr>\n",
              "  </thead>\n",
              "  <tbody>\n",
              "    <tr>\n",
              "      <th>0</th>\n",
              "      <td>manipur</td>\n",
              "      <td>churachandpur</td>\n",
              "      <td>churachandpur</td>\n",
              "      <td>B. Kholmun</td>\n",
              "      <td>11-14-269529</td>\n",
              "      <td>manipur</td>\n",
              "      <td>churachandpur</td>\n",
              "      <td>churachandpur</td>\n",
              "      <td>b kholmun</td>\n",
              "      <td>manipur</td>\n",
              "      <td>churachandpur</td>\n",
              "      <td>churachandpur</td>\n",
              "      <td>b kholmun</td>\n",
              "    </tr>\n",
              "    <tr>\n",
              "      <th>1</th>\n",
              "      <td>jammu kashmir</td>\n",
              "      <td>baramula</td>\n",
              "      <td>tangmarg</td>\n",
              "      <td>Ati Pora Zikar</td>\n",
              "      <td>11-01-002621</td>\n",
              "      <td>jammu kashmir</td>\n",
              "      <td>baramula</td>\n",
              "      <td>tangmarg</td>\n",
              "      <td>ati pora zikar</td>\n",
              "      <td>jammu kashmir</td>\n",
              "      <td>baramula</td>\n",
              "      <td>tangmarg</td>\n",
              "      <td>ati pora zikar</td>\n",
              "    </tr>\n",
              "  </tbody>\n",
              "</table>\n",
              "</div>"
            ],
            "text/plain": [
              "  state_name_SHRUG district_name_SHRUG  ...             k2              k3\n",
              "0          manipur       churachandpur  ...  churachandpur       b kholmun\n",
              "1    jammu kashmir            baramula  ...       tangmarg  ati pora zikar\n",
              "\n",
              "[2 rows x 13 columns]"
            ]
          },
          "metadata": {
            "tags": []
          },
          "execution_count": 44
        }
      ]
    },
    {
      "cell_type": "code",
      "metadata": {
        "id": "nI_ASAockqDi"
      },
      "source": [
        ""
      ],
      "execution_count": null,
      "outputs": []
    },
    {
      "cell_type": "code",
      "metadata": {
        "id": "KvbMfFtjkqth"
      },
      "source": [
        "# shrug_df['k1'],shrug_df['k2'],shrug_df['k3'] = shrug_df['district_nameCleaned_SHRUG'],shrug_df['subdistrict_nameCleaned_SHRUG'],shrug_df['villages_SHRUG']\n",
        "DILRMP_df['k0'],DILRMP_df['k1'],DILRMP_df['k2'],DILRMP_df['k3'] = DILRMP_df['state_Cleaned_DILRMP'], DILRMP_df['district_Cleaned_DILRMP'],DILRMP_df['tehsil_Cleaned_DILRMP'],DILRMP_df['village_Cleaned_DILRMP']\n"
      ],
      "execution_count": null,
      "outputs": []
    },
    {
      "cell_type": "code",
      "metadata": {
        "id": "U47-awe8kqtk"
      },
      "source": [
        "# again for inferential purposes\n",
        "shrugDILRMP_df = pd.merge(shrug_df, DILRMP_df, how=\"inner\", on=[\"k0\",\"k1\", \"k2\",\"k3\"])"
      ],
      "execution_count": null,
      "outputs": []
    },
    {
      "cell_type": "code",
      "metadata": {
        "id": "ocOycQ4Ekqtl"
      },
      "source": [
        "shrugDILRMP_df.to_csv(\"shrugDILRMP_df_hard.csv\")"
      ],
      "execution_count": null,
      "outputs": []
    },
    {
      "cell_type": "code",
      "metadata": {
        "id": "EzuB_NU6sYtb"
      },
      "source": [
        "DILRMP_dfSample = DILRMP_df[DILRMP_df[\"district_Cleaned_DILRMP\"]==\"barmer\"]"
      ],
      "execution_count": null,
      "outputs": []
    },
    {
      "cell_type": "code",
      "metadata": {
        "id": "N7CXdQ3zi_oW"
      },
      "source": [
        "left_on = [\"state_nameCleaned_SHRUG\",\"district_nameCleaned_SHRUG\", \"subdistrict_nameCleaned_SHRUG\", \"villages_SHRUG\"]\n",
        "\n",
        "right_on = [\n",
        "    \"state_Cleaned_DILRMP\",\"district_Cleaned_DILRMP\", \"tehsil_Cleaned_DILRMP\", \"village_Cleaned_DILRMP\"\n",
        "]"
      ],
      "execution_count": null,
      "outputs": []
    },
    {
      "cell_type": "markdown",
      "metadata": {
        "id": "WVtugqgl-Dp3"
      },
      "source": [
        "# fuzzy operation on shrug and DILRMP data"
      ]
    },
    {
      "cell_type": "code",
      "metadata": {
        "id": "-skgfP4Ui_pC"
      },
      "source": [
        "import fuzzymatcher\n",
        "shrugFuzzyDILRMP_df = fuzzymatcher.fuzzy_left_join(shrug_df,\n",
        "                                            DILRMP_df,\n",
        "                                            left_on,\n",
        "                                            right_on)\n",
        "\n",
        "\n",
        "\n",
        "shrugFuzzyDILRMP_df.to_csv(\"shrugDILRMPDfFuzzyMatcher.csv\")                                        "
      ],
      "execution_count": null,
      "outputs": []
    },
    {
      "cell_type": "code",
      "metadata": {
        "id": "rvFOD2fti_pG"
      },
      "source": [
        "shrugFuzzyDILRMPDfColL = []\n",
        "for column in shrugFuzzyDILRMP_df.columns:\n",
        "  # if \"Cleaned\" in column or \"shrid\" in column or \"village\" in column:\n",
        "  shrugFuzzyDILRMPDfColL.append(column)\n",
        "\n",
        "shrugFuzzyDILRMPDfOut = shrugFuzzyDILRMP_df[shrugFuzzyDILRMPDfColL]\n",
        "shrugFuzzyDILRMPDfOutDict = {val: index for index, val in enumerate(shrugFuzzyDILRMPDfOut.villages_SHRUG.unique())}\n",
        "shrugFuzzyDILRMPDfOut[\"identifier\"] = shrugFuzzyDILRMPDfOut.villages_SHRUG.map(shrugFuzzyDILRMPDfOutDict)\n",
        "\n",
        "shrugFuzzyDILRMPDfOut.to_csv(\"shrugDILRMPDfFuzzyMatcherOUT.csv\")                                        "
      ],
      "execution_count": null,
      "outputs": []
    },
    {
      "cell_type": "code",
      "metadata": {
        "id": "QOaYu5kMiqgW"
      },
      "source": [
        ""
      ],
      "execution_count": null,
      "outputs": []
    },
    {
      "cell_type": "code",
      "metadata": {
        "id": "IptFgPI1iqXc"
      },
      "source": [
        ""
      ],
      "execution_count": null,
      "outputs": []
    },
    {
      "cell_type": "code",
      "metadata": {
        "id": "cOWeQTYtiqNs"
      },
      "source": [
        ""
      ],
      "execution_count": null,
      "outputs": []
    },
    {
      "cell_type": "code",
      "metadata": {
        "id": "qYFwqtgTLK1M"
      },
      "source": [
        ""
      ],
      "execution_count": null,
      "outputs": []
    },
    {
      "cell_type": "code",
      "metadata": {
        "id": "VHsR6jsqLKsf"
      },
      "source": [
        ""
      ],
      "execution_count": null,
      "outputs": []
    },
    {
      "cell_type": "code",
      "metadata": {
        "id": "Fe6zmVATLKhW"
      },
      "source": [
        ""
      ],
      "execution_count": null,
      "outputs": []
    },
    {
      "cell_type": "code",
      "metadata": {
        "id": "unvHKynj-rim"
      },
      "source": [
        ""
      ],
      "execution_count": null,
      "outputs": []
    },
    {
      "cell_type": "code",
      "metadata": {
        "id": "G2Uz6JPy-ra9"
      },
      "source": [
        ""
      ],
      "execution_count": null,
      "outputs": []
    },
    {
      "cell_type": "code",
      "metadata": {
        "id": "kTus38ij-rUT"
      },
      "source": [
        ""
      ],
      "execution_count": null,
      "outputs": []
    },
    {
      "cell_type": "code",
      "metadata": {
        "id": "I7G4vkpV-rNu"
      },
      "source": [
        ""
      ],
      "execution_count": null,
      "outputs": []
    },
    {
      "cell_type": "code",
      "metadata": {
        "id": "n9bKJ95E-pzj"
      },
      "source": [
        ""
      ],
      "execution_count": null,
      "outputs": []
    }
  ]
}