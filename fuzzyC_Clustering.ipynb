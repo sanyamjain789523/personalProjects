{
  "nbformat": 4,
  "nbformat_minor": 0,
  "metadata": {
    "colab": {
      "name": "fuzzyC Clustering.ipynb",
      "provenance": [],
      "mount_file_id": "1q-RTxZcrlk4_AonG46lCB1Fkp5NynJAF",
      "authorship_tag": "ABX9TyMfGbxSUIuWz6PsY7MnL6h5",
      "include_colab_link": true
    },
    "kernelspec": {
      "name": "python3",
      "display_name": "Python 3"
    },
    "language_info": {
      "name": "python"
    }
  },
  "cells": [
    {
      "cell_type": "markdown",
      "metadata": {
        "id": "view-in-github",
        "colab_type": "text"
      },
      "source": [
        "<a href=\"https://colab.research.google.com/github/sanyamjain789523/personalProjects/blob/main/fuzzyC_Clustering.ipynb\" target=\"_parent\"><img src=\"https://colab.research.google.com/assets/colab-badge.svg\" alt=\"Open In Colab\"/></a>"
      ]
    },
    {
      "cell_type": "code",
      "metadata": {
        "id": "_uC_XrCISy7V"
      },
      "source": [
        ""
      ],
      "execution_count": null,
      "outputs": []
    },
    {
      "cell_type": "code",
      "metadata": {
        "id": "HjzoBEBayTmI",
        "colab": {
          "base_uri": "https://localhost:8080/"
        },
        "outputId": "35255ec8-2695-4a90-f5ec-dee61b7bcaa5"
      },
      "source": [
        "import numpy as np\n",
        "import pandas as pd\n",
        "import re\n",
        "from sklearn.cluster import MeanShift\n",
        "from sklearn.datasets.samples_generator import make_blobs\n",
        "from matplotlib import pyplot as plt\n",
        "from mpl_toolkits.mplot3d import Axes3D"
      ],
      "execution_count": null,
      "outputs": [
        {
          "output_type": "stream",
          "text": [
            "/usr/local/lib/python3.7/dist-packages/sklearn/utils/deprecation.py:144: FutureWarning: The sklearn.datasets.samples_generator module is  deprecated in version 0.22 and will be removed in version 0.24. The corresponding classes / functions should instead be imported from sklearn.datasets. Anything that cannot be imported from sklearn.datasets is now part of the private API.\n",
            "  warnings.warn(message, FutureWarning)\n"
          ],
          "name": "stderr"
        }
      ]
    },
    {
      "cell_type": "code",
      "metadata": {
        "id": "C71fjMWVycV2"
      },
      "source": [
        "# clusters = [[1,1,1],[5,5,5],[3,10,10]]\n",
        "# X, _ = make_blobs(n_samples = 150, centers = clusters, cluster_std = 0.60)"
      ],
      "execution_count": null,
      "outputs": []
    },
    {
      "cell_type": "code",
      "metadata": {
        "colab": {
          "base_uri": "https://localhost:8080/",
          "height": 240
        },
        "id": "LrSduJ-00Xfh",
        "outputId": "e355826a-0cab-46c1-9204-5b6146d7c4fb"
      },
      "source": [
        "dataPositif = pd.read_csv(\"/data positif.csv\", sep = \";\")\n",
        "print(dataPositif.shape)\n",
        "dataNetral = pd.read_csv(\"/data netral.csv\", sep = \";\")\n",
        "print(dataNetral.shape)\n",
        "dataNegatif = pd.read_csv(\"/data negatif.csv\", sep = \";\")\n",
        "print(dataNegatif.shape)\n",
        "\n",
        "df = pd.concat([dataPositif,dataNetral,dataNegatif])\n",
        "df.head()"
      ],
      "execution_count": null,
      "outputs": [
        {
          "output_type": "stream",
          "text": [
            "(714, 2)\n",
            "(703, 2)\n",
            "(700, 2)\n"
          ],
          "name": "stdout"
        },
        {
          "output_type": "execute_result",
          "data": {
            "text/html": [
              "<div>\n",
              "<style scoped>\n",
              "    .dataframe tbody tr th:only-of-type {\n",
              "        vertical-align: middle;\n",
              "    }\n",
              "\n",
              "    .dataframe tbody tr th {\n",
              "        vertical-align: top;\n",
              "    }\n",
              "\n",
              "    .dataframe thead th {\n",
              "        text-align: right;\n",
              "    }\n",
              "</style>\n",
              "<table border=\"1\" class=\"dataframe\">\n",
              "  <thead>\n",
              "    <tr style=\"text-align: right;\">\n",
              "      <th></th>\n",
              "      <th>Text</th>\n",
              "      <th>Sentiment</th>\n",
              "    </tr>\n",
              "  </thead>\n",
              "  <tbody>\n",
              "    <tr>\n",
              "      <th>0</th>\n",
              "      <td>masyarakat mudah pelayanan mata fasilitas kese...</td>\n",
              "      <td>Positif</td>\n",
              "    </tr>\n",
              "    <tr>\n",
              "      <th>1</th>\n",
              "      <td>bpjs kesehatan ketenagakerjaan manfaatnya bagus</td>\n",
              "      <td>Positif</td>\n",
              "    </tr>\n",
              "    <tr>\n",
              "      <th>2</th>\n",
              "      <td>alhamdulillah bpjs kesehatan bener membantu wa...</td>\n",
              "      <td>Positif</td>\n",
              "    </tr>\n",
              "    <tr>\n",
              "      <th>3</th>\n",
              "      <td>bpjs iurannya dibandingkan premi asuransi kese...</td>\n",
              "      <td>Positif</td>\n",
              "    </tr>\n",
              "    <tr>\n",
              "      <th>4</th>\n",
              "      <td>naiknya iuran org berpenghasilan minim bpjs su...</td>\n",
              "      <td>Positif</td>\n",
              "    </tr>\n",
              "  </tbody>\n",
              "</table>\n",
              "</div>"
            ],
            "text/plain": [
              "                                                Text Sentiment\n",
              "0  masyarakat mudah pelayanan mata fasilitas kese...   Positif\n",
              "1    bpjs kesehatan ketenagakerjaan manfaatnya bagus   Positif\n",
              "2  alhamdulillah bpjs kesehatan bener membantu wa...   Positif\n",
              "3  bpjs iurannya dibandingkan premi asuransi kese...   Positif\n",
              "4  naiknya iuran org berpenghasilan minim bpjs su...   Positif"
            ]
          },
          "metadata": {
            "tags": []
          },
          "execution_count": 3
        }
      ]
    },
    {
      "cell_type": "code",
      "metadata": {
        "colab": {
          "base_uri": "https://localhost:8080/"
        },
        "id": "ROVaBHWWqgtj",
        "outputId": "61d63393-2f87-420c-cda9-5f63f977869b"
      },
      "source": [
        "df.shape"
      ],
      "execution_count": null,
      "outputs": [
        {
          "output_type": "execute_result",
          "data": {
            "text/plain": [
              "(2117, 2)"
            ]
          },
          "metadata": {
            "tags": []
          },
          "execution_count": 4
        }
      ]
    },
    {
      "cell_type": "code",
      "metadata": {
        "id": "0RN4O1Np0f1d"
      },
      "source": [
        "# new_str = re.sub('[^a-zA-Z0-9}{:\"\",\\n\\.]', ' ', string)\n",
        "cleanedStringL = []\n",
        "for string in df.Text.to_list():\n",
        "  new_str = re.sub('[^a-zA-Z]', ' ', string)\n",
        "  cleanedStringL.append(new_str)"
      ],
      "execution_count": null,
      "outputs": []
    },
    {
      "cell_type": "code",
      "metadata": {
        "id": "RsuW9-GW1KF4"
      },
      "source": [
        "df[\"cleanedString\"] = cleanedStringL"
      ],
      "execution_count": null,
      "outputs": []
    },
    {
      "cell_type": "code",
      "metadata": {
        "id": "EEuFi_uk99HX"
      },
      "source": [
        "# vocab = {}\n",
        "# count = 0\n",
        "# for item in dataPositif[\"cleanedString\"].to_list():\n",
        "#   for word in item.split():\n",
        "#     if word not in list(vocab.keys()):\n",
        "#         vocab[word] = count\n",
        "#         count+=1"
      ],
      "execution_count": null,
      "outputs": []
    },
    {
      "cell_type": "code",
      "metadata": {
        "id": "5tBAuc8NQZgB"
      },
      "source": [
        "# len(vocab.keys())"
      ],
      "execution_count": null,
      "outputs": []
    },
    {
      "cell_type": "code",
      "metadata": {
        "id": "mKlev4br_yhW"
      },
      "source": [
        "# np.array([[1, 2], [3, 4]]) "
      ],
      "execution_count": null,
      "outputs": []
    },
    {
      "cell_type": "code",
      "metadata": {
        "id": "KUiHIq4c-sFV"
      },
      "source": [
        "# inpArray = []\n",
        "# for item in dataPositif[\"cleanedString\"].to_list():\n",
        "#   l = []\n",
        "#   for word in item.split():\n",
        "#     l.append(vocab[word])\n",
        "#   inpArray.append(l)"
      ],
      "execution_count": null,
      "outputs": []
    },
    {
      "cell_type": "code",
      "metadata": {
        "id": "zGvKhHYh_VOL"
      },
      "source": [
        "# np.asarray(inpArray)"
      ],
      "execution_count": null,
      "outputs": []
    },
    {
      "cell_type": "code",
      "metadata": {
        "id": "Afn2Zh4jXV96"
      },
      "source": [
        ""
      ],
      "execution_count": null,
      "outputs": []
    },
    {
      "cell_type": "code",
      "metadata": {
        "colab": {
          "base_uri": "https://localhost:8080/"
        },
        "id": "XTiHBEF-1J_Z",
        "outputId": "7d62ccbb-8fc1-49dc-a888-4776d81e8b89"
      },
      "source": [
        "from sklearn.feature_extraction.text import TfidfVectorizer\n",
        "tfidf_vect = TfidfVectorizer(min_df=40, max_df=0.4, max_features=20000, ngram_range=(1,1),use_idf=False,norm=None)\n",
        "tfidf = tfidf_vect.fit_transform(df['cleanedString'].values.astype(\"U\"))\n",
        "tfidf.shape"
      ],
      "execution_count": null,
      "outputs": [
        {
          "output_type": "execute_result",
          "data": {
            "text/plain": [
              "(2117, 77)"
            ]
          },
          "metadata": {
            "tags": []
          },
          "execution_count": 12
        }
      ]
    },
    {
      "cell_type": "code",
      "metadata": {
        "colab": {
          "base_uri": "https://localhost:8080/"
        },
        "id": "A-7ehczzz5NH",
        "outputId": "a9500576-e03e-490f-c489-9baa2b4e995d"
      },
      "source": [
        "tfidf.toarray()[0]"
      ],
      "execution_count": null,
      "outputs": [
        {
          "output_type": "execute_result",
          "data": {
            "text/plain": [
              "array([0., 0., 0., 0., 0., 0., 0., 0., 0., 0., 0., 0., 0., 0., 0., 1., 0.,\n",
              "       0., 0., 0., 0., 0., 0., 0., 0., 0., 0., 0., 0., 0., 0., 0., 0., 0.,\n",
              "       0., 0., 1., 0., 0., 0., 0., 0., 0., 0., 0., 0., 0., 0., 0., 0., 0.,\n",
              "       1., 0., 0., 0., 0., 0., 0., 0., 0., 0., 0., 0., 0., 0., 0., 0., 0.,\n",
              "       0., 0., 0., 0., 0., 0., 0., 0., 0.])"
            ]
          },
          "metadata": {
            "tags": []
          },
          "execution_count": 13
        }
      ]
    },
    {
      "cell_type": "code",
      "metadata": {
        "id": "WZv4arUerHmJ"
      },
      "source": [
        "from sklearn.decomposition import PCA\n",
        "X = tfidf.toarray()\n",
        "pca = PCA(n_components=3)\n",
        "principalComponents = pca.fit_transform(X)"
      ],
      "execution_count": null,
      "outputs": []
    },
    {
      "cell_type": "code",
      "metadata": {
        "colab": {
          "base_uri": "https://localhost:8080/"
        },
        "id": "lBRCHXxZrSw2",
        "outputId": "ed1fd9d1-12fb-4163-e5fa-06dd5323ab69"
      },
      "source": [
        "principalComponents"
      ],
      "execution_count": null,
      "outputs": [
        {
          "output_type": "execute_result",
          "data": {
            "text/plain": [
              "array([[-0.11027254, -0.02317874, -0.28702374],\n",
              "       [-0.18684622,  0.15402377, -0.38181544],\n",
              "       [-0.09314758,  0.11781538, -0.30450904],\n",
              "       ...,\n",
              "       [ 0.19849306,  0.27351466, -0.79717956],\n",
              "       [ 0.54837578,  0.36284587, -0.71873572],\n",
              "       [ 0.77582003, -0.0655041 ,  0.36997377]])"
            ]
          },
          "metadata": {
            "tags": []
          },
          "execution_count": 15
        }
      ]
    },
    {
      "cell_type": "code",
      "metadata": {
        "id": "PC9GAM7L1Jzw",
        "colab": {
          "base_uri": "https://localhost:8080/"
        },
        "outputId": "1dfa9b5a-7405-4bc8-ac55-0ca6f2771b41"
      },
      "source": [
        "X = tfidf.toarray()\n",
        "\n",
        "ms = MeanShift()\n",
        "ms.fit(principalComponents)\n",
        "labels = ms.labels_\n",
        "print(labels)\n",
        "clusterCentres = ms.cluster_centers_\n",
        "print(clusterCentres)\n",
        "n_clusters_ = len(np.unique(labels))\n",
        "print(\"number of estimated clusters: \",n_clusters_)"
      ],
      "execution_count": null,
      "outputs": [
        {
          "output_type": "stream",
          "text": [
            "[0 0 0 ... 0 0 0]\n",
            "[[-0.11919634  0.08870654 -0.34545401]\n",
            " [-0.99118815  1.17887101  0.92528408]\n",
            " [-1.32840185  1.7762527   1.44509833]\n",
            " [ 1.58791681 -1.00362297  1.66833722]\n",
            " [ 0.06391971  1.10895351  1.47571909]\n",
            " [ 3.10954154  0.24212682  1.13437244]\n",
            " [-0.74657771 -0.83897825  1.35660029]]\n",
            "number of estimated clusters:  7\n"
          ],
          "name": "stdout"
        }
      ]
    },
    {
      "cell_type": "code",
      "metadata": {
        "colab": {
          "base_uri": "https://localhost:8080/"
        },
        "id": "t1yRlEBU0NcV",
        "outputId": "6a87ae5a-ef60-4674-f86d-b50106e7e906"
      },
      "source": [
        "len(labels),len(df.Text.values)"
      ],
      "execution_count": null,
      "outputs": [
        {
          "output_type": "execute_result",
          "data": {
            "text/plain": [
              "(2117, 2117)"
            ]
          },
          "metadata": {
            "tags": []
          },
          "execution_count": 17
        }
      ]
    },
    {
      "cell_type": "code",
      "metadata": {
        "colab": {
          "base_uri": "https://localhost:8080/",
          "height": 1000
        },
        "id": "Q2blgnUQ0jWL",
        "outputId": "16792cef-a9c3-491a-f42b-c908082e20ed"
      },
      "source": [
        "pd.set_option(\"display.max_rows\",500)\n",
        "\n",
        "df[\"labels1\"] = labels\n",
        "dfF = df[['Text',\"labels1\"]]\n",
        "dfF.head(200)"
      ],
      "execution_count": null,
      "outputs": [
        {
          "output_type": "execute_result",
          "data": {
            "text/html": [
              "<div>\n",
              "<style scoped>\n",
              "    .dataframe tbody tr th:only-of-type {\n",
              "        vertical-align: middle;\n",
              "    }\n",
              "\n",
              "    .dataframe tbody tr th {\n",
              "        vertical-align: top;\n",
              "    }\n",
              "\n",
              "    .dataframe thead th {\n",
              "        text-align: right;\n",
              "    }\n",
              "</style>\n",
              "<table border=\"1\" class=\"dataframe\">\n",
              "  <thead>\n",
              "    <tr style=\"text-align: right;\">\n",
              "      <th></th>\n",
              "      <th>Text</th>\n",
              "      <th>labels1</th>\n",
              "    </tr>\n",
              "  </thead>\n",
              "  <tbody>\n",
              "    <tr>\n",
              "      <th>0</th>\n",
              "      <td>masyarakat mudah pelayanan mata fasilitas kese...</td>\n",
              "      <td>0</td>\n",
              "    </tr>\n",
              "    <tr>\n",
              "      <th>1</th>\n",
              "      <td>bpjs kesehatan ketenagakerjaan manfaatnya bagus</td>\n",
              "      <td>0</td>\n",
              "    </tr>\n",
              "    <tr>\n",
              "      <th>2</th>\n",
              "      <td>alhamdulillah bpjs kesehatan bener membantu wa...</td>\n",
              "      <td>0</td>\n",
              "    </tr>\n",
              "    <tr>\n",
              "      <th>3</th>\n",
              "      <td>bpjs iurannya dibandingkan premi asuransi kese...</td>\n",
              "      <td>0</td>\n",
              "    </tr>\n",
              "    <tr>\n",
              "      <th>4</th>\n",
              "      <td>naiknya iuran org berpenghasilan minim bpjs su...</td>\n",
              "      <td>0</td>\n",
              "    </tr>\n",
              "    <tr>\n",
              "      <th>5</th>\n",
              "      <td>bermanfaat berkat jkn kis peserta bpjs kesehat...</td>\n",
              "      <td>6</td>\n",
              "    </tr>\n",
              "    <tr>\n",
              "      <th>6</th>\n",
              "      <td>terimakasih bpjs karna menanggung pengobatan b...</td>\n",
              "      <td>0</td>\n",
              "    </tr>\n",
              "    <tr>\n",
              "      <th>7</th>\n",
              "      <td>jkn kis harisomawati salah peserta bpjs keseha...</td>\n",
              "      <td>6</td>\n",
              "    </tr>\n",
              "    <tr>\n",
              "      <th>8</th>\n",
              "      <td>salah fasilitas bpjs kesehatan menjalani cuci ...</td>\n",
              "      <td>0</td>\n",
              "    </tr>\n",
              "    <tr>\n",
              "      <th>9</th>\n",
              "      <td>harisomawari salah peserta jkn kis lancar menj...</td>\n",
              "      <td>6</td>\n",
              "    </tr>\n",
              "    <tr>\n",
              "      <th>10</th>\n",
              "      <td>syukurlah masyarakat terbantu banget jkn kis p...</td>\n",
              "      <td>6</td>\n",
              "    </tr>\n",
              "    <tr>\n",
              "      <th>11</th>\n",
              "      <td>bpjs kesehatan membantu warga pandemi</td>\n",
              "      <td>0</td>\n",
              "    </tr>\n",
              "    <tr>\n",
              "      <th>12</th>\n",
              "      <td>konsul kesehatan mental pake bpjs bermanfaat</td>\n",
              "      <td>0</td>\n",
              "    </tr>\n",
              "    <tr>\n",
              "      <th>13</th>\n",
              "      <td>kenaikan iuran bpjs biar bpjs hidup kebayang b...</td>\n",
              "      <td>0</td>\n",
              "    </tr>\n",
              "    <tr>\n",
              "      <th>14</th>\n",
              "      <td>bpjs diwajibkan kesehatan ketenagakerjaan kete...</td>\n",
              "      <td>0</td>\n",
              "    </tr>\n",
              "    <tr>\n",
              "      <th>15</th>\n",
              "      <td>alhamdulillah terima kasih melunasi tunggakan ...</td>\n",
              "      <td>1</td>\n",
              "    </tr>\n",
              "    <tr>\n",
              "      <th>16</th>\n",
              "      <td>pengalaman nunggu ortu hemodialisis pembersiha...</td>\n",
              "      <td>0</td>\n",
              "    </tr>\n",
              "    <tr>\n",
              "      <th>17</th>\n",
              "      <td>iuran bpjs dinaikan keberlangsungan kesehatan ...</td>\n",
              "      <td>0</td>\n",
              "    </tr>\n",
              "    <tr>\n",
              "      <th>18</th>\n",
              "      <td>antrian pagi bpjs kesehatan samsat bulak kapal...</td>\n",
              "      <td>0</td>\n",
              "    </tr>\n",
              "    <tr>\n",
              "      <th>19</th>\n",
              "      <td>kenaikan iuran keberlangsungan bpjs kesehatan ...</td>\n",
              "      <td>0</td>\n",
              "    </tr>\n",
              "    <tr>\n",
              "      <th>20</th>\n",
              "      <td>kehadiran program jkn kis membuka akses pelaya...</td>\n",
              "      <td>0</td>\n",
              "    </tr>\n",
              "    <tr>\n",
              "      <th>21</th>\n",
              "      <td>wabah corona bpjs melayani sepenuh hati terbar...</td>\n",
              "      <td>0</td>\n",
              "    </tr>\n",
              "    <tr>\n",
              "      <th>22</th>\n",
              "      <td>penggunaan vika chika bermanfaat salah satunya...</td>\n",
              "      <td>0</td>\n",
              "    </tr>\n",
              "    <tr>\n",
              "      <th>23</th>\n",
              "      <td>inovasi bagus ditengah wabah corona dkeluarkan...</td>\n",
              "      <td>6</td>\n",
              "    </tr>\n",
              "    <tr>\n",
              "      <th>24</th>\n",
              "      <td>suka balas cepat cepat balasan chat doi</td>\n",
              "      <td>0</td>\n",
              "    </tr>\n",
              "    <tr>\n",
              "      <th>25</th>\n",
              "      <td>layanan vika chika bpjs kesehatan ri mempermud...</td>\n",
              "      <td>0</td>\n",
              "    </tr>\n",
              "    <tr>\n",
              "      <th>26</th>\n",
              "      <td>mengecek status tagihan kepesertaan jkn kis bp...</td>\n",
              "      <td>0</td>\n",
              "    </tr>\n",
              "    <tr>\n",
              "      <th>27</th>\n",
              "      <td>bpjs kesehatan membantu masyarakat pelayanan i...</td>\n",
              "      <td>0</td>\n",
              "    </tr>\n",
              "    <tr>\n",
              "      <th>28</th>\n",
              "      <td>bangga support bpjs kesehatan dukung layanan  ...</td>\n",
              "      <td>0</td>\n",
              "    </tr>\n",
              "    <tr>\n",
              "      <th>29</th>\n",
              "      <td>senang banget bpjs kesehatan lengkap pelayanan...</td>\n",
              "      <td>0</td>\n",
              "    </tr>\n",
              "    <tr>\n",
              "      <th>30</th>\n",
              "      <td>tau nih layanan aplikasi mobile jkn aplikasi m...</td>\n",
              "      <td>0</td>\n",
              "    </tr>\n",
              "    <tr>\n",
              "      <th>31</th>\n",
              "      <td>bpjs kesehatan pelayanan terbaik pandemi covid</td>\n",
              "      <td>0</td>\n",
              "    </tr>\n",
              "    <tr>\n",
              "      <th>32</th>\n",
              "      <td>bpjs kesehatan cuci darah mudah</td>\n",
              "      <td>0</td>\n",
              "    </tr>\n",
              "    <tr>\n",
              "      <th>33</th>\n",
              "      <td>sadar informasinya banget teliti alasan iuran</td>\n",
              "      <td>0</td>\n",
              "    </tr>\n",
              "    <tr>\n",
              "      <th>34</th>\n",
              "      <td>kelas kelas negara hadir bantu masyarakat</td>\n",
              "      <td>0</td>\n",
              "    </tr>\n",
              "    <tr>\n",
              "      <th>35</th>\n",
              "      <td>kali dangkal informasi riuh dibaca biar paham ...</td>\n",
              "      <td>0</td>\n",
              "    </tr>\n",
              "    <tr>\n",
              "      <th>36</th>\n",
              "      <td>gotong royong kebaikan iuran bpjs kesehatan</td>\n",
              "      <td>0</td>\n",
              "    </tr>\n",
              "    <tr>\n",
              "      <th>37</th>\n",
              "      <td>menaikkan tarif iuran bpjs opsi sulit keberlan...</td>\n",
              "      <td>0</td>\n",
              "    </tr>\n",
              "    <tr>\n",
              "      <th>38</th>\n",
              "      <td>sih bpjs ditutup bikin susah rakyat penyesuaia...</td>\n",
              "      <td>0</td>\n",
              "    </tr>\n",
              "    <tr>\n",
              "      <th>39</th>\n",
              "      <td>paham yuk dukung apapun keputusannya semoga pe...</td>\n",
              "      <td>0</td>\n",
              "    </tr>\n",
              "    <tr>\n",
              "      <th>40</th>\n",
              "      <td>pemerintah membantu iuran peserta bpjs kesehat...</td>\n",
              "      <td>3</td>\n",
              "    </tr>\n",
              "    <tr>\n",
              "      <th>41</th>\n",
              "      <td>bpjs kesehatan mending dihapus diperbaiki sih ...</td>\n",
              "      <td>0</td>\n",
              "    </tr>\n",
              "    <tr>\n",
              "      <th>42</th>\n",
              "      <td>pemerintah berusaha membantu masyarakat pelaya...</td>\n",
              "      <td>0</td>\n",
              "    </tr>\n",
              "    <tr>\n",
              "      <th>43</th>\n",
              "      <td>ilustrasi kartu mengambarkan peserta puas laya...</td>\n",
              "      <td>0</td>\n",
              "    </tr>\n",
              "    <tr>\n",
              "      <th>44</th>\n",
              "      <td>ngerti iuran kelas aman memberatkan</td>\n",
              "      <td>0</td>\n",
              "    </tr>\n",
              "    <tr>\n",
              "      <th>45</th>\n",
              "      <td>penjelasan iuran bpjs kontak mudah dipahami en...</td>\n",
              "      <td>0</td>\n",
              "    </tr>\n",
              "    <tr>\n",
              "      <th>46</th>\n",
              "      <td>pastinya mending diperbaiki dihapus kasian butuh</td>\n",
              "      <td>0</td>\n",
              "    </tr>\n",
              "    <tr>\n",
              "      <th>47</th>\n",
              "      <td>mending dihapus diperbaiki sih dihapus merasak...</td>\n",
              "      <td>0</td>\n",
              "    </tr>\n",
              "    <tr>\n",
              "      <th>48</th>\n",
              "      <td>aturan iuran bpjs kesehatan ditetapkan pemerin...</td>\n",
              "      <td>0</td>\n",
              "    </tr>\n",
              "    <tr>\n",
              "      <th>49</th>\n",
              "      <td>polemik bpjs kesehatan iuran dinaikkan protes ...</td>\n",
              "      <td>0</td>\n",
              "    </tr>\n",
              "    <tr>\n",
              "      <th>50</th>\n",
              "      <td>tau gini bpjs mending dihapus dilanjut mending...</td>\n",
              "      <td>0</td>\n",
              "    </tr>\n",
              "    <tr>\n",
              "      <th>51</th>\n",
              "      <td>pribadi memilih bpjs kesehatan diperbaiki prin...</td>\n",
              "      <td>0</td>\n",
              "    </tr>\n",
              "    <tr>\n",
              "      <th>52</th>\n",
              "      <td>pemerintah aturan tujuannya berbenah kedepanny...</td>\n",
              "      <td>0</td>\n",
              "    </tr>\n",
              "    <tr>\n",
              "      <th>53</th>\n",
              "      <td>mending perbaiki masyarakat puas pelayanan bpj...</td>\n",
              "      <td>0</td>\n",
              "    </tr>\n",
              "    <tr>\n",
              "      <th>54</th>\n",
              "      <td>cuman pilihan bpjs kesehatan mending hapus per...</td>\n",
              "      <td>0</td>\n",
              "    </tr>\n",
              "    <tr>\n",
              "      <th>55</th>\n",
              "      <td>keberlanjutan bpjs kepentingan azas manfaat te...</td>\n",
              "      <td>0</td>\n",
              "    </tr>\n",
              "    <tr>\n",
              "      <th>56</th>\n",
              "      <td>pribadi memilih bpjs kesehatan diperbaiki prin...</td>\n",
              "      <td>0</td>\n",
              "    </tr>\n",
              "    <tr>\n",
              "      <th>57</th>\n",
              "      <td>bpjs bermanfaat</td>\n",
              "      <td>0</td>\n",
              "    </tr>\n",
              "    <tr>\n",
              "      <th>58</th>\n",
              "      <td>sumpah baca bpjs kesel tau tenang</td>\n",
              "      <td>0</td>\n",
              "    </tr>\n",
              "    <tr>\n",
              "      <th>59</th>\n",
              "      <td>pakai bpjs senang gratis</td>\n",
              "      <td>0</td>\n",
              "    </tr>\n",
              "    <tr>\n",
              "      <th>60</th>\n",
              "      <td>peserta jkn dibiayai pemerintah memberatkan</td>\n",
              "      <td>0</td>\n",
              "    </tr>\n",
              "    <tr>\n",
              "      <th>61</th>\n",
              "      <td>fasilitas peserta turun kelas bpjs kesehatan p...</td>\n",
              "      <td>0</td>\n",
              "    </tr>\n",
              "    <tr>\n",
              "      <th>62</th>\n",
              "      <td>iuran tapera bpjs kesehatan naker setuju pajak...</td>\n",
              "      <td>0</td>\n",
              "    </tr>\n",
              "    <tr>\n",
              "      <th>63</th>\n",
              "      <td>aplikasi mobile jkn panduan layanan dimiliki b...</td>\n",
              "      <td>6</td>\n",
              "    </tr>\n",
              "    <tr>\n",
              "      <th>64</th>\n",
              "      <td>malam teman teman layanan bpjs kesehatan layan...</td>\n",
              "      <td>0</td>\n",
              "    </tr>\n",
              "    <tr>\n",
              "      <th>65</th>\n",
              "      <td>bpjs kesehatan chika vika membantu masyarakat</td>\n",
              "      <td>0</td>\n",
              "    </tr>\n",
              "    <tr>\n",
              "      <th>66</th>\n",
              "      <td>fasilitasi peserta turun kelas bpjs kesehatan ...</td>\n",
              "      <td>0</td>\n",
              "    </tr>\n",
              "    <tr>\n",
              "      <th>67</th>\n",
              "      <td>perawatan pasien covid diklaim pemerintah hasi...</td>\n",
              "      <td>0</td>\n",
              "    </tr>\n",
              "    <tr>\n",
              "      <th>68</th>\n",
              "      <td>pelayanan meningkat alfian manfaat jkn kis</td>\n",
              "      <td>0</td>\n",
              "    </tr>\n",
              "    <tr>\n",
              "      <th>69</th>\n",
              "      <td>mobile jkn mudahkan komunikasi peserta dokter</td>\n",
              "      <td>0</td>\n",
              "    </tr>\n",
              "    <tr>\n",
              "      <th>70</th>\n",
              "      <td>layanan panduan dimiliki bpjs kesehatan pesert...</td>\n",
              "      <td>6</td>\n",
              "    </tr>\n",
              "    <tr>\n",
              "      <th>71</th>\n",
              "      <td>info lengkap layanan panduan dimiliki bpjs kes...</td>\n",
              "      <td>6</td>\n",
              "    </tr>\n",
              "    <tr>\n",
              "      <th>72</th>\n",
              "      <td>susah pandemi terbantu layanan aplikasi bpjs k...</td>\n",
              "      <td>0</td>\n",
              "    </tr>\n",
              "    <tr>\n",
              "      <th>73</th>\n",
              "      <td>bayar bpjs kesehatan pdam pln rumah</td>\n",
              "      <td>0</td>\n",
              "    </tr>\n",
              "    <tr>\n",
              "      <th>74</th>\n",
              "      <td>hubungi bpjs kesehatan mobile jkn care center ...</td>\n",
              "      <td>0</td>\n",
              "    </tr>\n",
              "    <tr>\n",
              "      <th>75</th>\n",
              "      <td>infografis bpjs kesehatan mudah dipahami nih</td>\n",
              "      <td>0</td>\n",
              "    </tr>\n",
              "    <tr>\n",
              "      <th>76</th>\n",
              "      <td>layanan panduan dimiliki bpjs kesehatan pesert...</td>\n",
              "      <td>6</td>\n",
              "    </tr>\n",
              "    <tr>\n",
              "      <th>77</th>\n",
              "      <td>layanan panduan dimiliki bpjs kesehatan via on...</td>\n",
              "      <td>6</td>\n",
              "    </tr>\n",
              "    <tr>\n",
              "      <th>78</th>\n",
              "      <td>kerja gaji dipotong iuran bersyukur kerja miki...</td>\n",
              "      <td>0</td>\n",
              "    </tr>\n",
              "    <tr>\n",
              "      <th>79</th>\n",
              "      <td>layanan aplikasi bpjs kesehatan bermanfaat mas...</td>\n",
              "      <td>0</td>\n",
              "    </tr>\n",
              "    <tr>\n",
              "      <th>80</th>\n",
              "      <td>bpjs kesehatan panduan layanan pesertanya memp...</td>\n",
              "      <td>0</td>\n",
              "    </tr>\n",
              "    <tr>\n",
              "      <th>81</th>\n",
              "      <td>guys kasih tau nih layanan panduan dimiliki bp...</td>\n",
              "      <td>6</td>\n",
              "    </tr>\n",
              "    <tr>\n",
              "      <th>82</th>\n",
              "      <td>bpjs kesehatan care center melayani peserta jk...</td>\n",
              "      <td>0</td>\n",
              "    </tr>\n",
              "    <tr>\n",
              "      <th>83</th>\n",
              "      <td>bpjs kesehatan memiliki panduan layanan pesert...</td>\n",
              "      <td>6</td>\n",
              "    </tr>\n",
              "    <tr>\n",
              "      <th>84</th>\n",
              "      <td>layanan bpjs kesehatan akses peserta mempermud...</td>\n",
              "      <td>6</td>\n",
              "    </tr>\n",
              "    <tr>\n",
              "      <th>85</th>\n",
              "      <td>gimana nih layananan bpjs kesehatan maksimal l...</td>\n",
              "      <td>0</td>\n",
              "    </tr>\n",
              "    <tr>\n",
              "      <th>86</th>\n",
              "      <td>panduan layanan bpjs kesehatan harapkan pesert...</td>\n",
              "      <td>6</td>\n",
              "    </tr>\n",
              "    <tr>\n",
              "      <th>87</th>\n",
              "      <td>kemudahan bpjs kesehatan peserta layanan pandu...</td>\n",
              "      <td>6</td>\n",
              "    </tr>\n",
              "    <tr>\n",
              "      <th>88</th>\n",
              "      <td>panduan layanan dimiliki bpjs kesehatan memuda...</td>\n",
              "      <td>0</td>\n",
              "    </tr>\n",
              "    <tr>\n",
              "      <th>89</th>\n",
              "      <td>pemerintah bantuan peserta jkn kis kelas</td>\n",
              "      <td>6</td>\n",
              "    </tr>\n",
              "    <tr>\n",
              "      <th>90</th>\n",
              "      <td>sih bpjs tau latar belakangnya nge judge iuran...</td>\n",
              "      <td>0</td>\n",
              "    </tr>\n",
              "    <tr>\n",
              "      <th>91</th>\n",
              "      <td>peserta jkn dibiayai pemerintah peserta segmen...</td>\n",
              "      <td>6</td>\n",
              "    </tr>\n",
              "    <tr>\n",
              "      <th>92</th>\n",
              "      <td>beritanya komplit dikasih rumah kaga bpjs keun...</td>\n",
              "      <td>0</td>\n",
              "    </tr>\n",
              "    <tr>\n",
              "      <th>93</th>\n",
              "      <td>bpjs kesehatan perhatian penderita hipertensi ...</td>\n",
              "      <td>0</td>\n",
              "    </tr>\n",
              "    <tr>\n",
              "      <th>94</th>\n",
              "      <td>bpjs melayani perjuangan haryanah jalani kemot...</td>\n",
              "      <td>0</td>\n",
              "    </tr>\n",
              "    <tr>\n",
              "      <th>95</th>\n",
              "      <td>chika sahabat peserta jkn kis memudahkan masya...</td>\n",
              "      <td>6</td>\n",
              "    </tr>\n",
              "    <tr>\n",
              "      <th>96</th>\n",
              "      <td>bpjs kesehatan pati salurkan bantuan bpjs pedu...</td>\n",
              "      <td>0</td>\n",
              "    </tr>\n",
              "    <tr>\n",
              "      <th>97</th>\n",
              "      <td>iuran bpjs dinaikkan bpjs ngga bangkrut beban ...</td>\n",
              "      <td>0</td>\n",
              "    </tr>\n",
              "    <tr>\n",
              "      <th>98</th>\n",
              "      <td>kebijakan spiritnya bagus diterapin negara tuj...</td>\n",
              "      <td>0</td>\n",
              "    </tr>\n",
              "    <tr>\n",
              "      <th>99</th>\n",
              "      <td>prinsip program tapera bpjs kesehatan bpjs ket...</td>\n",
              "      <td>6</td>\n",
              "    </tr>\n",
              "    <tr>\n",
              "      <th>100</th>\n",
              "      <td>iuran bpjs tk kesehatan iuran tapera tabungan ...</td>\n",
              "      <td>3</td>\n",
              "    </tr>\n",
              "    <tr>\n",
              "      <th>101</th>\n",
              "      <td>melunasi tunggakan iuran tunggakan iuran tungg...</td>\n",
              "      <td>3</td>\n",
              "    </tr>\n",
              "    <tr>\n",
              "      <th>102</th>\n",
              "      <td>bpjs naker beres beres kesehatan bermasalah be...</td>\n",
              "      <td>0</td>\n",
              "    </tr>\n",
              "    <tr>\n",
              "      <th>103</th>\n",
              "      <td>bamsoet panggilan akrabnya mendorong pemerinta...</td>\n",
              "      <td>0</td>\n",
              "    </tr>\n",
              "    <tr>\n",
              "      <th>104</th>\n",
              "      <td>bpjs kesehatan bangun sinergi skala global fpgh</td>\n",
              "      <td>0</td>\n",
              "    </tr>\n",
              "    <tr>\n",
              "      <th>105</th>\n",
              "      <td>mobil jkn aplikasi andalan pandemi covid</td>\n",
              "      <td>0</td>\n",
              "    </tr>\n",
              "    <tr>\n",
              "      <th>106</th>\n",
              "      <td>bpjs diwajibkan kesehatan ketenagakerjaan kete...</td>\n",
              "      <td>0</td>\n",
              "    </tr>\n",
              "    <tr>\n",
              "      <th>107</th>\n",
              "      <td>setahun melawan penyakit asam lambung mujiati ...</td>\n",
              "      <td>0</td>\n",
              "    </tr>\n",
              "    <tr>\n",
              "      <th>108</th>\n",
              "      <td>iuran bpjs dinaikan keberlangsungan kesehatan</td>\n",
              "      <td>0</td>\n",
              "    </tr>\n",
              "    <tr>\n",
              "      <th>109</th>\n",
              "      <td>kebaikan jkn kis pemerintah bantu mujiati lawa...</td>\n",
              "      <td>0</td>\n",
              "    </tr>\n",
              "    <tr>\n",
              "      <th>110</th>\n",
              "      <td>cerita soko ubah hak kelas jkn kis kendala ter...</td>\n",
              "      <td>0</td>\n",
              "    </tr>\n",
              "    <tr>\n",
              "      <th>111</th>\n",
              "      <td>bpjs kesehatan bener membantu warga pandemi</td>\n",
              "      <td>0</td>\n",
              "    </tr>\n",
              "    <tr>\n",
              "      <th>112</th>\n",
              "      <td>konsul kesehatan mental pake bpjs</td>\n",
              "      <td>0</td>\n",
              "    </tr>\n",
              "    <tr>\n",
              "      <th>113</th>\n",
              "      <td>bpjs iurannya dibandingkan premi asuransi kese...</td>\n",
              "      <td>0</td>\n",
              "    </tr>\n",
              "    <tr>\n",
              "      <th>114</th>\n",
              "      <td>naiknya iurannya org berpenghasilan minim skg ...</td>\n",
              "      <td>0</td>\n",
              "    </tr>\n",
              "    <tr>\n",
              "      <th>115</th>\n",
              "      <td>kesimpulannya pro kontra naiknya iuran bpjs ke...</td>\n",
              "      <td>0</td>\n",
              "    </tr>\n",
              "    <tr>\n",
              "      <th>116</th>\n",
              "      <td>bermanfaat berkat jkn kis peserta bpjs kesehat...</td>\n",
              "      <td>6</td>\n",
              "    </tr>\n",
              "    <tr>\n",
              "      <th>117</th>\n",
              "      <td>terimakasih bpjs karna menanggung pengobatan t...</td>\n",
              "      <td>0</td>\n",
              "    </tr>\n",
              "    <tr>\n",
              "      <th>118</th>\n",
              "      <td>berterimakasih allah karna kesehatan berhak be...</td>\n",
              "      <td>0</td>\n",
              "    </tr>\n",
              "    <tr>\n",
              "      <th>119</th>\n",
              "      <td>jkn kis harisomawati salah peserta bpjs keseha...</td>\n",
              "      <td>6</td>\n",
              "    </tr>\n",
              "    <tr>\n",
              "      <th>120</th>\n",
              "      <td>salah fasilitas bpjs kesehatan menjalani cuci ...</td>\n",
              "      <td>0</td>\n",
              "    </tr>\n",
              "    <tr>\n",
              "      <th>121</th>\n",
              "      <td>syukurlah masyarakat terbantu banget jkn kis p...</td>\n",
              "      <td>6</td>\n",
              "    </tr>\n",
              "    <tr>\n",
              "      <th>122</th>\n",
              "      <td>pandemi bahagia baca kabar pasien bpjs layanan...</td>\n",
              "      <td>0</td>\n",
              "    </tr>\n",
              "    <tr>\n",
              "      <th>123</th>\n",
              "      <td>peserta bpjs kesehatan membantu sanak kerabat ...</td>\n",
              "      <td>6</td>\n",
              "    </tr>\n",
              "    <tr>\n",
              "      <th>124</th>\n",
              "      <td>kebayang sih keluarga kena gagal ginjal kudu c...</td>\n",
              "      <td>1</td>\n",
              "    </tr>\n",
              "    <tr>\n",
              "      <th>125</th>\n",
              "      <td>sakit meriang batuk flu manfaat kartu jkn kis ...</td>\n",
              "      <td>0</td>\n",
              "    </tr>\n",
              "    <tr>\n",
              "      <th>126</th>\n",
              "      <td>ajak milenial ciptakan inovasi digital bpjs ke...</td>\n",
              "      <td>0</td>\n",
              "    </tr>\n",
              "    <tr>\n",
              "      <th>127</th>\n",
              "      <td>beruntunglah pasien peserta jkn kis membayar b...</td>\n",
              "      <td>6</td>\n",
              "    </tr>\n",
              "    <tr>\n",
              "      <th>128</th>\n",
              "      <td>bgt tertolong jkn kis contohnya nih</td>\n",
              "      <td>0</td>\n",
              "    </tr>\n",
              "    <tr>\n",
              "      <th>129</th>\n",
              "      <td>teruntuk ikhlas membayar kenaikan bpjs menurun...</td>\n",
              "      <td>0</td>\n",
              "    </tr>\n",
              "    <tr>\n",
              "      <th>130</th>\n",
              "      <td>penanganan rs pasien bpjs sisi ngebantu banget...</td>\n",
              "      <td>0</td>\n",
              "    </tr>\n",
              "    <tr>\n",
              "      <th>131</th>\n",
              "      <td>bukti bpjs kesehatan menolong rakyat sakit pes...</td>\n",
              "      <td>0</td>\n",
              "    </tr>\n",
              "    <tr>\n",
              "      <th>132</th>\n",
              "      <td>bpjs kesehatan permudah peserta turun kelas pe...</td>\n",
              "      <td>0</td>\n",
              "    </tr>\n",
              "    <tr>\n",
              "      <th>133</th>\n",
              "      <td>mba jor joran ngeluarin duit untungnya bpjs ke...</td>\n",
              "      <td>0</td>\n",
              "    </tr>\n",
              "    <tr>\n",
              "      <th>134</th>\n",
              "      <td>bpjs kesehatan layanan kesehatan terbaik</td>\n",
              "      <td>0</td>\n",
              "    </tr>\n",
              "    <tr>\n",
              "      <th>135</th>\n",
              "      <td>peserta bpjs kesehatan lancar menjalani cuci d...</td>\n",
              "      <td>6</td>\n",
              "    </tr>\n",
              "    <tr>\n",
              "      <th>136</th>\n",
              "      <td>manfaat bpjs kesehatan kerasa banget contohnya...</td>\n",
              "      <td>0</td>\n",
              "    </tr>\n",
              "    <tr>\n",
              "      <th>137</th>\n",
              "      <td>salah pasien ketolong bgt sma bpjs kesehatan t...</td>\n",
              "      <td>0</td>\n",
              "    </tr>\n",
              "    <tr>\n",
              "      <th>138</th>\n",
              "      <td>terimakasih bpjs habis jutaan rupiah perawatan...</td>\n",
              "      <td>0</td>\n",
              "    </tr>\n",
              "    <tr>\n",
              "      <th>139</th>\n",
              "      <td>kebayang besarnya biaya ditanggung pakai bpjs ...</td>\n",
              "      <td>0</td>\n",
              "    </tr>\n",
              "    <tr>\n",
              "      <th>140</th>\n",
              "      <td>bahagia sehat senang bpjs esehatan tenang pros...</td>\n",
              "      <td>0</td>\n",
              "    </tr>\n",
              "    <tr>\n",
              "      <th>141</th>\n",
              "      <td>bpjs kesehatan membantu masyarakat layanan cuc...</td>\n",
              "      <td>0</td>\n",
              "    </tr>\n",
              "    <tr>\n",
              "      <th>142</th>\n",
              "      <td>sih jkn kis peserta bpjs kesehatan lancar menj...</td>\n",
              "      <td>6</td>\n",
              "    </tr>\n",
              "    <tr>\n",
              "      <th>143</th>\n",
              "      <td>anak masuk rumah sakit usia gratis berkat bpjs...</td>\n",
              "      <td>0</td>\n",
              "    </tr>\n",
              "    <tr>\n",
              "      <th>144</th>\n",
              "      <td>syukur teramat tiada henti terucap bibir ni ma...</td>\n",
              "      <td>0</td>\n",
              "    </tr>\n",
              "    <tr>\n",
              "      <th>145</th>\n",
              "      <td>malam pandemi virus bpjs kesehatan ri melayani...</td>\n",
              "      <td>6</td>\n",
              "    </tr>\n",
              "    <tr>\n",
              "      <th>146</th>\n",
              "      <td>salah peserta besyukur jkn kis peserta bpjs ke...</td>\n",
              "      <td>6</td>\n",
              "    </tr>\n",
              "    <tr>\n",
              "      <th>147</th>\n",
              "      <td>puji tuhan bpjs kesehatan bermanfaat masyaraka...</td>\n",
              "      <td>0</td>\n",
              "    </tr>\n",
              "    <tr>\n",
              "      <th>148</th>\n",
              "      <td>senang mendengar wati pelayanan kesehatan bpjs...</td>\n",
              "      <td>0</td>\n",
              "    </tr>\n",
              "    <tr>\n",
              "      <th>149</th>\n",
              "      <td>artikel pasien jkn kis peserta bpjs kesehatan ...</td>\n",
              "      <td>6</td>\n",
              "    </tr>\n",
              "    <tr>\n",
              "      <th>150</th>\n",
              "      <td>selancar sore sore nemu artikel pasien jkn kis...</td>\n",
              "      <td>6</td>\n",
              "    </tr>\n",
              "    <tr>\n",
              "      <th>151</th>\n",
              "      <td>jkn kis peserta bpjs kesehatan harisomawati la...</td>\n",
              "      <td>6</td>\n",
              "    </tr>\n",
              "    <tr>\n",
              "      <th>152</th>\n",
              "      <td>masya allah jkn kis peserta bpjs kesehatan lan...</td>\n",
              "      <td>6</td>\n",
              "    </tr>\n",
              "    <tr>\n",
              "      <th>153</th>\n",
              "      <td>pandemi peserta bpjs kesehatan menjalani cuci ...</td>\n",
              "      <td>0</td>\n",
              "    </tr>\n",
              "    <tr>\n",
              "      <th>154</th>\n",
              "      <td>ayah wanti wanti sampek telat membayar bpjs ni...</td>\n",
              "      <td>0</td>\n",
              "    </tr>\n",
              "    <tr>\n",
              "      <th>155</th>\n",
              "      <td>bpjs ketenagakerjaan mah bagus hitung hitung t...</td>\n",
              "      <td>0</td>\n",
              "    </tr>\n",
              "    <tr>\n",
              "      <th>156</th>\n",
              "      <td>sore dipungkiri tertolong bpjs kesehatan ri</td>\n",
              "      <td>0</td>\n",
              "    </tr>\n",
              "    <tr>\n",
              "      <th>157</th>\n",
              "      <td>kenaikan iuran diharapkan bpjs pelayanan terba...</td>\n",
              "      <td>0</td>\n",
              "    </tr>\n",
              "    <tr>\n",
              "      <th>158</th>\n",
              "      <td>iuran bpjs diharapkan pelayanan fasilitas terb...</td>\n",
              "      <td>6</td>\n",
              "    </tr>\n",
              "    <tr>\n",
              "      <th>159</th>\n",
              "      <td>iuran bpjs relatif murah dibandingkan kualitas...</td>\n",
              "      <td>0</td>\n",
              "    </tr>\n",
              "    <tr>\n",
              "      <th>160</th>\n",
              "      <td>berkat bpjs kesehatan peserta bpjs cuci darah ...</td>\n",
              "      <td>0</td>\n",
              "    </tr>\n",
              "    <tr>\n",
              "      <th>161</th>\n",
              "      <td>alhamdulillah jkn kis peserta bpjs kesehatan l...</td>\n",
              "      <td>6</td>\n",
              "    </tr>\n",
              "    <tr>\n",
              "      <th>162</th>\n",
              "      <td>jkn kis peserta bpjs kesehatan lancar layanan ...</td>\n",
              "      <td>6</td>\n",
              "    </tr>\n",
              "    <tr>\n",
              "      <th>163</th>\n",
              "      <td>semoga teman-teman penderita gagal ginjal kela...</td>\n",
              "      <td>0</td>\n",
              "    </tr>\n",
              "    <tr>\n",
              "      <th>164</th>\n",
              "      <td>barusan liat info pengguna jkn kis bpjs keseha...</td>\n",
              "      <td>0</td>\n",
              "    </tr>\n",
              "    <tr>\n",
              "      <th>165</th>\n",
              "      <td>obrolan mpo dokter pasien cuci darah harapan h...</td>\n",
              "      <td>0</td>\n",
              "    </tr>\n",
              "    <tr>\n",
              "      <th>166</th>\n",
              "      <td>peserta puas pelayanan bpjs kesehatan harisoma...</td>\n",
              "      <td>0</td>\n",
              "    </tr>\n",
              "    <tr>\n",
              "      <th>167</th>\n",
              "      <td>harisomawati salah pasien jkn kis rutin menjal...</td>\n",
              "      <td>6</td>\n",
              "    </tr>\n",
              "    <tr>\n",
              "      <th>168</th>\n",
              "      <td>wabah corona bpjs kesehatan pelayanan terbaik ...</td>\n",
              "      <td>0</td>\n",
              "    </tr>\n",
              "    <tr>\n",
              "      <th>169</th>\n",
              "      <td>fasilitas pelayanan terbaik peserta jkn kis bp...</td>\n",
              "      <td>6</td>\n",
              "    </tr>\n",
              "    <tr>\n",
              "      <th>170</th>\n",
              "      <td>hamdalah berkat jkn kis peserta benar-benar me...</td>\n",
              "      <td>6</td>\n",
              "    </tr>\n",
              "    <tr>\n",
              "      <th>171</th>\n",
              "      <td>pengalaman nunggu ortu hemodialisis pembersiha...</td>\n",
              "      <td>0</td>\n",
              "    </tr>\n",
              "    <tr>\n",
              "      <th>172</th>\n",
              "      <td>yuk support bpjs kesehatan layanan terbaik nya...</td>\n",
              "      <td>6</td>\n",
              "    </tr>\n",
              "    <tr>\n",
              "      <th>173</th>\n",
              "      <td>bukti jkn kis membantu masyarakat salah satuny...</td>\n",
              "      <td>6</td>\n",
              "    </tr>\n",
              "    <tr>\n",
              "      <th>174</th>\n",
              "      <td>harisomawati salah peserta jkn kis merasakan m...</td>\n",
              "      <td>6</td>\n",
              "    </tr>\n",
              "    <tr>\n",
              "      <th>175</th>\n",
              "      <td>pasien peserta bpjs kesehatan menjalani cuci d...</td>\n",
              "      <td>6</td>\n",
              "    </tr>\n",
              "    <tr>\n",
              "      <th>176</th>\n",
              "      <td>merasakan manfaat bpjs kesehatan nih peserta j...</td>\n",
              "      <td>6</td>\n",
              "    </tr>\n",
              "    <tr>\n",
              "      <th>177</th>\n",
              "      <td>alhamdulillah peserta bpjs kesehatan lancar cu...</td>\n",
              "      <td>6</td>\n",
              "    </tr>\n",
              "    <tr>\n",
              "      <th>178</th>\n",
              "      <td>simak deh info jkn kis peserta bpjs kesehatan ...</td>\n",
              "      <td>6</td>\n",
              "    </tr>\n",
              "    <tr>\n",
              "      <th>179</th>\n",
              "      <td>alhamdulillah jkn kis lancar menjalani cuci da...</td>\n",
              "      <td>6</td>\n",
              "    </tr>\n",
              "    <tr>\n",
              "      <th>180</th>\n",
              "      <td>jkn kis peserta bpjs kesehatan lancar menjalan...</td>\n",
              "      <td>6</td>\n",
              "    </tr>\n",
              "    <tr>\n",
              "      <th>181</th>\n",
              "      <td>jkn kis peserta bpjs kesehatan lancar menjalan...</td>\n",
              "      <td>6</td>\n",
              "    </tr>\n",
              "    <tr>\n",
              "      <th>182</th>\n",
              "      <td>berkat bpjs kesehatan cuci darah lancar dijala...</td>\n",
              "      <td>0</td>\n",
              "    </tr>\n",
              "    <tr>\n",
              "      <th>183</th>\n",
              "      <td>ditengah kondisi pasien cuci darah binggung cu...</td>\n",
              "      <td>6</td>\n",
              "    </tr>\n",
              "    <tr>\n",
              "      <th>184</th>\n",
              "      <td>ipar perempuan melahirkan terbantu  bpjs keseh...</td>\n",
              "      <td>0</td>\n",
              "    </tr>\n",
              "    <tr>\n",
              "      <th>185</th>\n",
              "      <td>jkn kis peserta bpjs kesehatan lancar menjalan...</td>\n",
              "      <td>6</td>\n",
              "    </tr>\n",
              "    <tr>\n",
              "      <th>186</th>\n",
              "      <td>menjalani cuci darah rutin biaya dibutuhkan un...</td>\n",
              "      <td>0</td>\n",
              "    </tr>\n",
              "    <tr>\n",
              "      <th>187</th>\n",
              "      <td>bpjs kesehatan menolong rakyat sakit info diba...</td>\n",
              "      <td>0</td>\n",
              "    </tr>\n",
              "    <tr>\n",
              "      <th>188</th>\n",
              "      <td>ditengah kondisi pasien bpjs kesehatan lancar ...</td>\n",
              "      <td>0</td>\n",
              "    </tr>\n",
              "    <tr>\n",
              "      <th>189</th>\n",
              "      <td>bpjs kesehatan menolong rakyat sakit nyata bac...</td>\n",
              "      <td>0</td>\n",
              "    </tr>\n",
              "    <tr>\n",
              "      <th>190</th>\n",
              "      <td>delapan menjalani pengobatan rutin cuci darah ...</td>\n",
              "      <td>0</td>\n",
              "    </tr>\n",
              "    <tr>\n",
              "      <th>191</th>\n",
              "      <td>wabah bpjs kesehatan menolong rakyat sakit sal...</td>\n",
              "      <td>0</td>\n",
              "    </tr>\n",
              "    <tr>\n",
              "      <th>192</th>\n",
              "      <td>suka main penyakit mama tugas curhatan pasien ...</td>\n",
              "      <td>0</td>\n",
              "    </tr>\n",
              "    <tr>\n",
              "      <th>193</th>\n",
              "      <td>bpjs kesehatan tertolong membantu membangun ma...</td>\n",
              "      <td>0</td>\n",
              "    </tr>\n",
              "    <tr>\n",
              "      <th>194</th>\n",
              "      <td>manfaat jkn kis contohnya peserta bpjs kesehat...</td>\n",
              "      <td>6</td>\n",
              "    </tr>\n",
              "    <tr>\n",
              "      <th>195</th>\n",
              "      <td>peserta bpjs kesehatan lancar cuci darah manfa...</td>\n",
              "      <td>6</td>\n",
              "    </tr>\n",
              "    <tr>\n",
              "      <th>196</th>\n",
              "      <td>wujud nyata kinerja bpjs peserta jkn kis menja...</td>\n",
              "      <td>6</td>\n",
              "    </tr>\n",
              "    <tr>\n",
              "      <th>197</th>\n",
              "      <td>jkn kis peserta bpjs kesehatan lancar menjalan...</td>\n",
              "      <td>6</td>\n",
              "    </tr>\n",
              "    <tr>\n",
              "      <th>198</th>\n",
              "      <td>bpjs kesehatan cuci darah mudah</td>\n",
              "      <td>0</td>\n",
              "    </tr>\n",
              "    <tr>\n",
              "      <th>199</th>\n",
              "      <td>iya mentri harga bpjs rs swasta mahal terima k...</td>\n",
              "      <td>0</td>\n",
              "    </tr>\n",
              "  </tbody>\n",
              "</table>\n",
              "</div>"
            ],
            "text/plain": [
              "                                                  Text  labels1\n",
              "0    masyarakat mudah pelayanan mata fasilitas kese...        0\n",
              "1      bpjs kesehatan ketenagakerjaan manfaatnya bagus        0\n",
              "2    alhamdulillah bpjs kesehatan bener membantu wa...        0\n",
              "3    bpjs iurannya dibandingkan premi asuransi kese...        0\n",
              "4    naiknya iuran org berpenghasilan minim bpjs su...        0\n",
              "5    bermanfaat berkat jkn kis peserta bpjs kesehat...        6\n",
              "6    terimakasih bpjs karna menanggung pengobatan b...        0\n",
              "7    jkn kis harisomawati salah peserta bpjs keseha...        6\n",
              "8    salah fasilitas bpjs kesehatan menjalani cuci ...        0\n",
              "9    harisomawari salah peserta jkn kis lancar menj...        6\n",
              "10   syukurlah masyarakat terbantu banget jkn kis p...        6\n",
              "11               bpjs kesehatan membantu warga pandemi        0\n",
              "12        konsul kesehatan mental pake bpjs bermanfaat        0\n",
              "13   kenaikan iuran bpjs biar bpjs hidup kebayang b...        0\n",
              "14   bpjs diwajibkan kesehatan ketenagakerjaan kete...        0\n",
              "15   alhamdulillah terima kasih melunasi tunggakan ...        1\n",
              "16   pengalaman nunggu ortu hemodialisis pembersiha...        0\n",
              "17   iuran bpjs dinaikan keberlangsungan kesehatan ...        0\n",
              "18   antrian pagi bpjs kesehatan samsat bulak kapal...        0\n",
              "19   kenaikan iuran keberlangsungan bpjs kesehatan ...        0\n",
              "20   kehadiran program jkn kis membuka akses pelaya...        0\n",
              "21   wabah corona bpjs melayani sepenuh hati terbar...        0\n",
              "22   penggunaan vika chika bermanfaat salah satunya...        0\n",
              "23   inovasi bagus ditengah wabah corona dkeluarkan...        6\n",
              "24           suka balas cepat cepat balasan chat doi          0\n",
              "25   layanan vika chika bpjs kesehatan ri mempermud...        0\n",
              "26   mengecek status tagihan kepesertaan jkn kis bp...        0\n",
              "27   bpjs kesehatan membantu masyarakat pelayanan i...        0\n",
              "28   bangga support bpjs kesehatan dukung layanan  ...        0\n",
              "29   senang banget bpjs kesehatan lengkap pelayanan...        0\n",
              "30   tau nih layanan aplikasi mobile jkn aplikasi m...        0\n",
              "31     bpjs kesehatan pelayanan terbaik pandemi covid         0\n",
              "32                     bpjs kesehatan cuci darah mudah        0\n",
              "33       sadar informasinya banget teliti alasan iuran        0\n",
              "34          kelas kelas negara hadir bantu masyarakat         0\n",
              "35   kali dangkal informasi riuh dibaca biar paham ...        0\n",
              "36         gotong royong kebaikan iuran bpjs kesehatan        0\n",
              "37   menaikkan tarif iuran bpjs opsi sulit keberlan...        0\n",
              "38   sih bpjs ditutup bikin susah rakyat penyesuaia...        0\n",
              "39   paham yuk dukung apapun keputusannya semoga pe...        0\n",
              "40   pemerintah membantu iuran peserta bpjs kesehat...        3\n",
              "41   bpjs kesehatan mending dihapus diperbaiki sih ...        0\n",
              "42   pemerintah berusaha membantu masyarakat pelaya...        0\n",
              "43   ilustrasi kartu mengambarkan peserta puas laya...        0\n",
              "44                ngerti iuran kelas aman memberatkan         0\n",
              "45   penjelasan iuran bpjs kontak mudah dipahami en...        0\n",
              "46   pastinya mending diperbaiki dihapus kasian butuh         0\n",
              "47   mending dihapus diperbaiki sih dihapus merasak...        0\n",
              "48   aturan iuran bpjs kesehatan ditetapkan pemerin...        0\n",
              "49   polemik bpjs kesehatan iuran dinaikkan protes ...        0\n",
              "50   tau gini bpjs mending dihapus dilanjut mending...        0\n",
              "51   pribadi memilih bpjs kesehatan diperbaiki prin...        0\n",
              "52   pemerintah aturan tujuannya berbenah kedepanny...        0\n",
              "53   mending perbaiki masyarakat puas pelayanan bpj...        0\n",
              "54   cuman pilihan bpjs kesehatan mending hapus per...        0\n",
              "55   keberlanjutan bpjs kepentingan azas manfaat te...        0\n",
              "56   pribadi memilih bpjs kesehatan diperbaiki prin...        0\n",
              "57                                     bpjs bermanfaat        0\n",
              "58                   sumpah baca bpjs kesel tau tenang        0\n",
              "59                            pakai bpjs senang gratis        0\n",
              "60        peserta jkn dibiayai pemerintah memberatkan         0\n",
              "61   fasilitas peserta turun kelas bpjs kesehatan p...        0\n",
              "62   iuran tapera bpjs kesehatan naker setuju pajak...        0\n",
              "63   aplikasi mobile jkn panduan layanan dimiliki b...        6\n",
              "64   malam teman teman layanan bpjs kesehatan layan...        0\n",
              "65       bpjs kesehatan chika vika membantu masyarakat        0\n",
              "66   fasilitasi peserta turun kelas bpjs kesehatan ...        0\n",
              "67   perawatan pasien covid diklaim pemerintah hasi...        0\n",
              "68         pelayanan meningkat alfian manfaat jkn kis         0\n",
              "69      mobile jkn mudahkan komunikasi peserta dokter         0\n",
              "70   layanan panduan dimiliki bpjs kesehatan pesert...        6\n",
              "71   info lengkap layanan panduan dimiliki bpjs kes...        6\n",
              "72   susah pandemi terbantu layanan aplikasi bpjs k...        0\n",
              "73                 bayar bpjs kesehatan pdam pln rumah        0\n",
              "74   hubungi bpjs kesehatan mobile jkn care center ...        0\n",
              "75        infografis bpjs kesehatan mudah dipahami nih        0\n",
              "76   layanan panduan dimiliki bpjs kesehatan pesert...        6\n",
              "77   layanan panduan dimiliki bpjs kesehatan via on...        6\n",
              "78   kerja gaji dipotong iuran bersyukur kerja miki...        0\n",
              "79   layanan aplikasi bpjs kesehatan bermanfaat mas...        0\n",
              "80   bpjs kesehatan panduan layanan pesertanya memp...        0\n",
              "81   guys kasih tau nih layanan panduan dimiliki bp...        6\n",
              "82   bpjs kesehatan care center melayani peserta jk...        0\n",
              "83   bpjs kesehatan memiliki panduan layanan pesert...        6\n",
              "84   layanan bpjs kesehatan akses peserta mempermud...        6\n",
              "85   gimana nih layananan bpjs kesehatan maksimal l...        0\n",
              "86   panduan layanan bpjs kesehatan harapkan pesert...        6\n",
              "87   kemudahan bpjs kesehatan peserta layanan pandu...        6\n",
              "88   panduan layanan dimiliki bpjs kesehatan memuda...        0\n",
              "89            pemerintah bantuan peserta jkn kis kelas        6\n",
              "90   sih bpjs tau latar belakangnya nge judge iuran...        0\n",
              "91   peserta jkn dibiayai pemerintah peserta segmen...        6\n",
              "92   beritanya komplit dikasih rumah kaga bpjs keun...        0\n",
              "93   bpjs kesehatan perhatian penderita hipertensi ...        0\n",
              "94   bpjs melayani perjuangan haryanah jalani kemot...        0\n",
              "95   chika sahabat peserta jkn kis memudahkan masya...        6\n",
              "96   bpjs kesehatan pati salurkan bantuan bpjs pedu...        0\n",
              "97   iuran bpjs dinaikkan bpjs ngga bangkrut beban ...        0\n",
              "98   kebijakan spiritnya bagus diterapin negara tuj...        0\n",
              "99   prinsip program tapera bpjs kesehatan bpjs ket...        6\n",
              "100  iuran bpjs tk kesehatan iuran tapera tabungan ...        3\n",
              "101  melunasi tunggakan iuran tunggakan iuran tungg...        3\n",
              "102  bpjs naker beres beres kesehatan bermasalah be...        0\n",
              "103  bamsoet panggilan akrabnya mendorong pemerinta...        0\n",
              "104   bpjs kesehatan bangun sinergi skala global fpgh         0\n",
              "105           mobil jkn aplikasi andalan pandemi covid        0\n",
              "106  bpjs diwajibkan kesehatan ketenagakerjaan kete...        0\n",
              "107  setahun melawan penyakit asam lambung mujiati ...        0\n",
              "108      iuran bpjs dinaikan keberlangsungan kesehatan        0\n",
              "109  kebaikan jkn kis pemerintah bantu mujiati lawa...        0\n",
              "110  cerita soko ubah hak kelas jkn kis kendala ter...        0\n",
              "111        bpjs kesehatan bener membantu warga pandemi        0\n",
              "112                  konsul kesehatan mental pake bpjs        0\n",
              "113  bpjs iurannya dibandingkan premi asuransi kese...        0\n",
              "114  naiknya iurannya org berpenghasilan minim skg ...        0\n",
              "115  kesimpulannya pro kontra naiknya iuran bpjs ke...        0\n",
              "116  bermanfaat berkat jkn kis peserta bpjs kesehat...        6\n",
              "117  terimakasih bpjs karna menanggung pengobatan t...        0\n",
              "118  berterimakasih allah karna kesehatan berhak be...        0\n",
              "119  jkn kis harisomawati salah peserta bpjs keseha...        6\n",
              "120  salah fasilitas bpjs kesehatan menjalani cuci ...        0\n",
              "121  syukurlah masyarakat terbantu banget jkn kis p...        6\n",
              "122  pandemi bahagia baca kabar pasien bpjs layanan...        0\n",
              "123  peserta bpjs kesehatan membantu sanak kerabat ...        6\n",
              "124  kebayang sih keluarga kena gagal ginjal kudu c...        1\n",
              "125  sakit meriang batuk flu manfaat kartu jkn kis ...        0\n",
              "126  ajak milenial ciptakan inovasi digital bpjs ke...        0\n",
              "127  beruntunglah pasien peserta jkn kis membayar b...        6\n",
              "128                bgt tertolong jkn kis contohnya nih        0\n",
              "129  teruntuk ikhlas membayar kenaikan bpjs menurun...        0\n",
              "130  penanganan rs pasien bpjs sisi ngebantu banget...        0\n",
              "131  bukti bpjs kesehatan menolong rakyat sakit pes...        0\n",
              "132  bpjs kesehatan permudah peserta turun kelas pe...        0\n",
              "133  mba jor joran ngeluarin duit untungnya bpjs ke...        0\n",
              "134           bpjs kesehatan layanan kesehatan terbaik        0\n",
              "135  peserta bpjs kesehatan lancar menjalani cuci d...        6\n",
              "136  manfaat bpjs kesehatan kerasa banget contohnya...        0\n",
              "137  salah pasien ketolong bgt sma bpjs kesehatan t...        0\n",
              "138  terimakasih bpjs habis jutaan rupiah perawatan...        0\n",
              "139  kebayang besarnya biaya ditanggung pakai bpjs ...        0\n",
              "140  bahagia sehat senang bpjs esehatan tenang pros...        0\n",
              "141  bpjs kesehatan membantu masyarakat layanan cuc...        0\n",
              "142  sih jkn kis peserta bpjs kesehatan lancar menj...        6\n",
              "143  anak masuk rumah sakit usia gratis berkat bpjs...        0\n",
              "144  syukur teramat tiada henti terucap bibir ni ma...        0\n",
              "145  malam pandemi virus bpjs kesehatan ri melayani...        6\n",
              "146  salah peserta besyukur jkn kis peserta bpjs ke...        6\n",
              "147  puji tuhan bpjs kesehatan bermanfaat masyaraka...        0\n",
              "148  senang mendengar wati pelayanan kesehatan bpjs...        0\n",
              "149  artikel pasien jkn kis peserta bpjs kesehatan ...        6\n",
              "150  selancar sore sore nemu artikel pasien jkn kis...        6\n",
              "151  jkn kis peserta bpjs kesehatan harisomawati la...        6\n",
              "152  masya allah jkn kis peserta bpjs kesehatan lan...        6\n",
              "153  pandemi peserta bpjs kesehatan menjalani cuci ...        0\n",
              "154  ayah wanti wanti sampek telat membayar bpjs ni...        0\n",
              "155  bpjs ketenagakerjaan mah bagus hitung hitung t...        0\n",
              "156       sore dipungkiri tertolong bpjs kesehatan ri         0\n",
              "157  kenaikan iuran diharapkan bpjs pelayanan terba...        0\n",
              "158  iuran bpjs diharapkan pelayanan fasilitas terb...        6\n",
              "159  iuran bpjs relatif murah dibandingkan kualitas...        0\n",
              "160  berkat bpjs kesehatan peserta bpjs cuci darah ...        0\n",
              "161  alhamdulillah jkn kis peserta bpjs kesehatan l...        6\n",
              "162  jkn kis peserta bpjs kesehatan lancar layanan ...        6\n",
              "163  semoga teman-teman penderita gagal ginjal kela...        0\n",
              "164  barusan liat info pengguna jkn kis bpjs keseha...        0\n",
              "165  obrolan mpo dokter pasien cuci darah harapan h...        0\n",
              "166  peserta puas pelayanan bpjs kesehatan harisoma...        0\n",
              "167  harisomawati salah pasien jkn kis rutin menjal...        6\n",
              "168  wabah corona bpjs kesehatan pelayanan terbaik ...        0\n",
              "169  fasilitas pelayanan terbaik peserta jkn kis bp...        6\n",
              "170  hamdalah berkat jkn kis peserta benar-benar me...        6\n",
              "171  pengalaman nunggu ortu hemodialisis pembersiha...        0\n",
              "172  yuk support bpjs kesehatan layanan terbaik nya...        6\n",
              "173  bukti jkn kis membantu masyarakat salah satuny...        6\n",
              "174  harisomawati salah peserta jkn kis merasakan m...        6\n",
              "175  pasien peserta bpjs kesehatan menjalani cuci d...        6\n",
              "176  merasakan manfaat bpjs kesehatan nih peserta j...        6\n",
              "177  alhamdulillah peserta bpjs kesehatan lancar cu...        6\n",
              "178  simak deh info jkn kis peserta bpjs kesehatan ...        6\n",
              "179  alhamdulillah jkn kis lancar menjalani cuci da...        6\n",
              "180  jkn kis peserta bpjs kesehatan lancar menjalan...        6\n",
              "181  jkn kis peserta bpjs kesehatan lancar menjalan...        6\n",
              "182  berkat bpjs kesehatan cuci darah lancar dijala...        0\n",
              "183  ditengah kondisi pasien cuci darah binggung cu...        6\n",
              "184  ipar perempuan melahirkan terbantu  bpjs keseh...        0\n",
              "185  jkn kis peserta bpjs kesehatan lancar menjalan...        6\n",
              "186  menjalani cuci darah rutin biaya dibutuhkan un...        0\n",
              "187  bpjs kesehatan menolong rakyat sakit info diba...        0\n",
              "188  ditengah kondisi pasien bpjs kesehatan lancar ...        0\n",
              "189  bpjs kesehatan menolong rakyat sakit nyata bac...        0\n",
              "190  delapan menjalani pengobatan rutin cuci darah ...        0\n",
              "191  wabah bpjs kesehatan menolong rakyat sakit sal...        0\n",
              "192  suka main penyakit mama tugas curhatan pasien ...        0\n",
              "193  bpjs kesehatan tertolong membantu membangun ma...        0\n",
              "194  manfaat jkn kis contohnya peserta bpjs kesehat...        6\n",
              "195  peserta bpjs kesehatan lancar cuci darah manfa...        6\n",
              "196  wujud nyata kinerja bpjs peserta jkn kis menja...        6\n",
              "197  jkn kis peserta bpjs kesehatan lancar menjalan...        6\n",
              "198                    bpjs kesehatan cuci darah mudah        0\n",
              "199  iya mentri harga bpjs rs swasta mahal terima k...        0"
            ]
          },
          "metadata": {
            "tags": []
          },
          "execution_count": 18
        }
      ]
    },
    {
      "cell_type": "code",
      "metadata": {
        "id": "QhRBfxKdQJVu"
      },
      "source": [
        "# print(\"Number of clusters obtained after clustering: \",len(dfF.labels.value_counts()),\"\\n Number of clusters obtained after dimesnsionality resduction and clustering: \",len(dfF.labels1.value_counts()))"
      ],
      "execution_count": null,
      "outputs": []
    },
    {
      "cell_type": "code",
      "metadata": {
        "id": "tl2ONBWXPsKG"
      },
      "source": [
        "# dfF.labels.value_counts(), len(dfF.labels.value_counts())"
      ],
      "execution_count": null,
      "outputs": []
    },
    {
      "cell_type": "code",
      "metadata": {
        "id": "538ruVdP0py6"
      },
      "source": [
        "# dfF.labels1.value_counts()"
      ],
      "execution_count": null,
      "outputs": []
    },
    {
      "cell_type": "code",
      "metadata": {
        "id": "WENSrq7-1JuJ"
      },
      "source": [
        "# colors = 10*['r','g','b']\n",
        "# fig = plt.figure()\n",
        "# ax = fig.add_subplot(111,projection = '3d')\n",
        "\n",
        "# for i in range(len(X)):\n",
        "#   ax.scatter(clusterCentres[i][0],clusterCentres[i][0],clusterCentres[i][0],c = colors[labels[i]])\n",
        "\n",
        "# ax.scatter(clusterCentres[:,0],clusterCentres[:,1],clusterCentres[:,2],marker = 'x',color = 'k',\n",
        "#             s = 150, linewidths = 5, zorder = 10)\n",
        "\n",
        "# plt.show()"
      ],
      "execution_count": null,
      "outputs": []
    },
    {
      "cell_type": "code",
      "metadata": {
        "id": "oQ9BTR2j1Jnx"
      },
      "source": [
        ""
      ],
      "execution_count": null,
      "outputs": []
    },
    {
      "cell_type": "code",
      "metadata": {
        "id": "Gc1A7vm81Jh7"
      },
      "source": [
        ""
      ],
      "execution_count": null,
      "outputs": []
    },
    {
      "cell_type": "code",
      "metadata": {
        "id": "2j-QaafU1Jbn"
      },
      "source": [
        ""
      ],
      "execution_count": null,
      "outputs": []
    },
    {
      "cell_type": "code",
      "metadata": {
        "id": "YQ03KkQy1JV2"
      },
      "source": [
        ""
      ],
      "execution_count": null,
      "outputs": []
    },
    {
      "cell_type": "code",
      "metadata": {
        "id": "whg0DOx-1JPw"
      },
      "source": [
        ""
      ],
      "execution_count": null,
      "outputs": []
    },
    {
      "cell_type": "code",
      "metadata": {
        "id": "Qjk9ghgYycA4"
      },
      "source": [
        ""
      ],
      "execution_count": null,
      "outputs": []
    },
    {
      "cell_type": "code",
      "metadata": {
        "id": "FSDGRHSiyb8m"
      },
      "source": [
        ""
      ],
      "execution_count": null,
      "outputs": []
    },
    {
      "cell_type": "code",
      "metadata": {
        "id": "8SOkVclEyb4I"
      },
      "source": [
        ""
      ],
      "execution_count": null,
      "outputs": []
    },
    {
      "cell_type": "code",
      "metadata": {
        "colab": {
          "base_uri": "https://localhost:8080/"
        },
        "id": "-sSAtdm7ybzl",
        "outputId": "e7af68d3-297b-4e7f-ff96-b383d1dfed79"
      },
      "source": [
        "!pip install fuzzy-c-means"
      ],
      "execution_count": null,
      "outputs": [
        {
          "output_type": "stream",
          "text": [
            "Requirement already satisfied: fuzzy-c-means in /usr/local/lib/python3.7/dist-packages (1.2.4)\n",
            "Requirement already satisfied: jax<0.3.0,>=0.2.7 in /usr/local/lib/python3.7/dist-packages (from fuzzy-c-means) (0.2.12)\n",
            "Requirement already satisfied: jaxlib<0.2.0,>=0.1.57 in /usr/local/lib/python3.7/dist-packages (from fuzzy-c-means) (0.1.65+cuda110)\n",
            "Requirement already satisfied: opt-einsum in /usr/local/lib/python3.7/dist-packages (from jax<0.3.0,>=0.2.7->fuzzy-c-means) (3.3.0)\n",
            "Requirement already satisfied: numpy>=1.12 in /usr/local/lib/python3.7/dist-packages (from jax<0.3.0,>=0.2.7->fuzzy-c-means) (1.19.5)\n",
            "Requirement already satisfied: absl-py in /usr/local/lib/python3.7/dist-packages (from jax<0.3.0,>=0.2.7->fuzzy-c-means) (0.12.0)\n",
            "Requirement already satisfied: flatbuffers in /usr/local/lib/python3.7/dist-packages (from jaxlib<0.2.0,>=0.1.57->fuzzy-c-means) (1.12)\n",
            "Requirement already satisfied: scipy in /usr/local/lib/python3.7/dist-packages (from jaxlib<0.2.0,>=0.1.57->fuzzy-c-means) (1.4.1)\n",
            "Requirement already satisfied: six in /usr/local/lib/python3.7/dist-packages (from absl-py->jax<0.3.0,>=0.2.7->fuzzy-c-means) (1.15.0)\n"
          ],
          "name": "stdout"
        }
      ]
    },
    {
      "cell_type": "code",
      "metadata": {
        "id": "DhXlRauK8M0p"
      },
      "source": [
        "import numpy as np\n",
        "from fcmeans import FCM\n",
        "from matplotlib import pyplot as plt"
      ],
      "execution_count": null,
      "outputs": []
    },
    {
      "cell_type": "code",
      "metadata": {
        "id": "sYXLqQrHtxT7"
      },
      "source": [
        "from sklearn.decomposition import PCA\n",
        "X = tfidf.toarray()\n",
        "pca = PCA(n_components=2)\n",
        "principalComponents = pca.fit_transform(X)"
      ],
      "execution_count": null,
      "outputs": []
    },
    {
      "cell_type": "code",
      "metadata": {
        "id": "mCxaIPAU8ONP"
      },
      "source": [
        "fcm = FCM(n_clusters=3)\n",
        "fcm.fit(principalComponents)"
      ],
      "execution_count": null,
      "outputs": []
    },
    {
      "cell_type": "code",
      "metadata": {
        "id": "0V5zt7ryTtdu"
      },
      "source": [
        "# len(principalComponents)"
      ],
      "execution_count": null,
      "outputs": []
    },
    {
      "cell_type": "code",
      "metadata": {
        "id": "rf2vRIDFTAjq"
      },
      "source": [
        "# len(fcm.u.argmax(axis=1))"
      ],
      "execution_count": null,
      "outputs": []
    },
    {
      "cell_type": "code",
      "metadata": {
        "id": "rQSpcjO3TxnB"
      },
      "source": [
        "# labelsFuz = list(fcm.u.argmax(axis=1))\n",
        "# df[\"labelsFuz\"] = labelsFuz\n",
        "# dfFuz = df[['Text','labelsFuz']]\n",
        "# dfFuz"
      ],
      "execution_count": null,
      "outputs": []
    },
    {
      "cell_type": "code",
      "metadata": {
        "id": "pN80x5nxTxhq"
      },
      "source": [
        "# dfFuz.labelsFuz.value_counts()"
      ],
      "execution_count": null,
      "outputs": []
    },
    {
      "cell_type": "code",
      "metadata": {
        "id": "K-AEpViqTxbm"
      },
      "source": [
        ""
      ],
      "execution_count": null,
      "outputs": []
    },
    {
      "cell_type": "code",
      "metadata": {
        "id": "-45QGCLJUapP"
      },
      "source": [
        ""
      ],
      "execution_count": null,
      "outputs": []
    },
    {
      "cell_type": "code",
      "metadata": {
        "id": "Nb3Vmx0dUajU"
      },
      "source": [
        ""
      ],
      "execution_count": null,
      "outputs": []
    },
    {
      "cell_type": "code",
      "metadata": {
        "id": "u-wWvbrnUadc"
      },
      "source": [
        ""
      ],
      "execution_count": null,
      "outputs": []
    },
    {
      "cell_type": "code",
      "metadata": {
        "id": "iHf-8Um38OCU"
      },
      "source": [
        "\n",
        "# # outputs\n",
        "# fcm_centers = fcm.centers\n",
        "# fcm_labels = fcm.predict(principalComponents)\n",
        "\n",
        "# # plot result\n",
        "# f, axes = plt.subplots(1, 2, figsize=(11,5))\n",
        "# axes[0].scatter(X[:,0], X[:,1], alpha=.1)\n",
        "# axes[1].scatter(X[:,0], X[:,1], c=fcm_labels, alpha=.1)\n",
        "# axes[1].scatter(fcm_centers[:,0], fcm_centers[:,1], marker=\"+\", s=500, c='w')\n",
        "# plt.show()"
      ],
      "execution_count": null,
      "outputs": []
    },
    {
      "cell_type": "code",
      "metadata": {
        "id": "B764SpGP8N7S"
      },
      "source": [
        ""
      ],
      "execution_count": null,
      "outputs": []
    },
    {
      "cell_type": "code",
      "metadata": {
        "id": "AJoOsKtF8N0j"
      },
      "source": [
        ""
      ],
      "execution_count": null,
      "outputs": []
    },
    {
      "cell_type": "code",
      "metadata": {
        "id": "vhXVbdEo8NuJ"
      },
      "source": [
        ""
      ],
      "execution_count": null,
      "outputs": []
    },
    {
      "cell_type": "code",
      "metadata": {
        "id": "X6Frp6qC8Nnl"
      },
      "source": [
        ""
      ],
      "execution_count": null,
      "outputs": []
    },
    {
      "cell_type": "code",
      "metadata": {
        "id": "fiT9Vs6dVt8i"
      },
      "source": [
        ""
      ],
      "execution_count": null,
      "outputs": []
    },
    {
      "cell_type": "code",
      "metadata": {
        "id": "U4837jv6Vt1g"
      },
      "source": [
        ""
      ],
      "execution_count": null,
      "outputs": []
    },
    {
      "cell_type": "code",
      "metadata": {
        "id": "JWfmfX1CVtt7"
      },
      "source": [
        ""
      ],
      "execution_count": null,
      "outputs": []
    },
    {
      "cell_type": "code",
      "metadata": {
        "id": "GQWz0DQk8Ngl"
      },
      "source": [
        ""
      ],
      "execution_count": null,
      "outputs": []
    },
    {
      "cell_type": "code",
      "metadata": {
        "id": "yP_ffEmcVs9O"
      },
      "source": [
        "# fcm = FCM(n_clusters=3)\n",
        "# fcm.fit(principalComponents)"
      ],
      "execution_count": null,
      "outputs": []
    },
    {
      "cell_type": "code",
      "metadata": {
        "id": "lCTMVVhZVs-D"
      },
      "source": [
        "# len(principalComponents)"
      ],
      "execution_count": null,
      "outputs": []
    },
    {
      "cell_type": "code",
      "metadata": {
        "id": "2EXoF9SuVs-G"
      },
      "source": [
        "# len(fcm.u.argmax(axis=1))"
      ],
      "execution_count": null,
      "outputs": []
    },
    {
      "cell_type": "code",
      "metadata": {
        "id": "PmgiYrFiR2av"
      },
      "source": [
        "# X[0]"
      ],
      "execution_count": null,
      "outputs": []
    },
    {
      "cell_type": "code",
      "metadata": {
        "colab": {
          "base_uri": "https://localhost:8080/",
          "height": 1000
        },
        "id": "TtNeK9M_uhHF",
        "outputId": "e934ff48-91d2-4dc9-8ec0-6389e5fe3f22"
      },
      "source": [
        "from sklearn.datasets import make_blobs\n",
        "from sklearn.cluster import KMeans\n",
        "from sklearn.metrics import silhouette_samples, silhouette_score\n",
        "\n",
        "import matplotlib.pyplot as plt\n",
        "import matplotlib.cm as cm\n",
        "import numpy as np\n",
        "\n",
        "print(__doc__)\n",
        "\n",
        "# *********************\n",
        "X = principalComponents\n",
        "# *********************\n",
        "\n",
        "# Generating the sample data from make_blobs\n",
        "# This particular setting has one distinct cluster and 3 clusters placed close\n",
        "# together.\n",
        "# X, y = make_blobs(n_samples=500,\n",
        "#                   n_features=2,\n",
        "#                   centers=4,\n",
        "#                   cluster_std=1,\n",
        "#                   center_box=(-10.0, 10.0),\n",
        "#                   shuffle=True,\n",
        "#                   random_state=1)  # For reproducibility\n",
        "\n",
        "range_n_clusters = [2, 3, 4, 5]\n",
        "\n",
        "for n_clusters in range_n_clusters:\n",
        "    # Create a subplot with 1 row and 2 columns\n",
        "    fig, (ax1, ax2) = plt.subplots(1, 2)\n",
        "    fig.set_size_inches(18, 7)\n",
        "\n",
        "    # The 1st subplot is the silhouette plot\n",
        "    # The silhouette coefficient can range from -1, 1 but in this example all\n",
        "    # lie within [-0.1, 1]\n",
        "    ax1.set_xlim([-0.1, 1])\n",
        "    # The (n_clusters+1)*10 is for inserting blank space between silhouette\n",
        "    # plots of individual clusters, to demarcate them clearly.\n",
        "    ax1.set_ylim([0, len(X) + (n_clusters + 1) * 10])\n",
        "\n",
        "    # Initialize the clusterer with n_clusters value and a random generator\n",
        "    # seed of 10 for reproducibility.\n",
        "    clusterer = FCM(n_clusters=n_clusters)\n",
        "    clusterer.fit(X)\n",
        "    cluster_labels = fcm.u.argmax(axis=1)\n",
        "    # clusterer = KMeans(n_clusters=n_clusters, random_state=10)\n",
        "    # cluster_labels = clusterer.fit_predict(X)\n",
        "\n",
        "    # The silhouette_score gives the average value for all the samples.\n",
        "    # This gives a perspective into the density and separation of the formed\n",
        "    # clusters\n",
        "    silhouette_avg = silhouette_score(X, cluster_labels)\n",
        "    print(\"For n_clusters =\", n_clusters,\n",
        "          \"The average silhouette_score is :\", silhouette_avg)\n",
        "\n",
        "    # Compute the silhouette scores for each sample\n",
        "    sample_silhouette_values = silhouette_samples(X, cluster_labels)\n",
        "\n",
        "    y_lower = 10\n",
        "    for i in range(n_clusters):\n",
        "        # Aggregate the silhouette scores for samples belonging to\n",
        "        # cluster i, and sort them\n",
        "        ith_cluster_silhouette_values = \\\n",
        "            sample_silhouette_values[cluster_labels == i]\n",
        "\n",
        "        ith_cluster_silhouette_values.sort()\n",
        "\n",
        "        size_cluster_i = ith_cluster_silhouette_values.shape[0]\n",
        "        y_upper = y_lower + size_cluster_i\n",
        "\n",
        "        color = cm.nipy_spectral(float(i) / n_clusters)\n",
        "        ax1.fill_betweenx(np.arange(y_lower, y_upper),\n",
        "                          0, ith_cluster_silhouette_values,\n",
        "                          facecolor=color, edgecolor=color, alpha=0.7)\n",
        "\n",
        "        # Label the silhouette plots with their cluster numbers at the middle\n",
        "        ax1.text(-0.05, y_lower + 0.5 * size_cluster_i, str(i))\n",
        "\n",
        "        # Compute the new y_lower for next plot\n",
        "        y_lower = y_upper + 10  # 10 for the 0 samples\n",
        "\n",
        "    ax1.set_title(\"The silhouette plot for the various clusters.\")\n",
        "    ax1.set_xlabel(\"The silhouette coefficient values\")\n",
        "    ax1.set_ylabel(\"Cluster label\")\n",
        "\n",
        "    # The vertical line for average silhouette score of all the values\n",
        "    ax1.axvline(x=silhouette_avg, color=\"red\", linestyle=\"--\")\n",
        "\n",
        "    ax1.set_yticks([])  # Clear the yaxis labels / ticks\n",
        "    ax1.set_xticks([-0.1, 0, 0.2, 0.4, 0.6, 0.8, 1])\n",
        "\n",
        "    # 2nd Plot showing the actual clusters formed\n",
        "    colors = cm.nipy_spectral(cluster_labels.astype(float) / n_clusters)\n",
        "    ax2.scatter(X[:, 0], X[:, 1], marker='.', s=30, lw=0, alpha=0.7,\n",
        "                c=colors, edgecolor='k')\n",
        "    clusterer.centers\n",
        "    # Labeling the clusters\n",
        "    # centers = clusterer.cluster_centers_\n",
        "    centers = clusterer.centers\n",
        "    # Draw white circles at cluster centers\n",
        "    ax2.scatter(centers[:, 0], centers[:, 1], marker='o',\n",
        "                c=\"white\", alpha=1, s=200, edgecolor='k')\n",
        "\n",
        "    for i, c in enumerate(centers):\n",
        "        ax2.scatter(c[0], c[1], marker='$%d$' % i, alpha=1,\n",
        "                    s=50, edgecolor='k')\n",
        "\n",
        "    ax2.set_title(\"The visualization of the clustered data.\")\n",
        "    ax2.set_xlabel(\"Feature space for the 1st feature\")\n",
        "    ax2.set_ylabel(\"Feature space for the 2nd feature\")\n",
        "\n",
        "    plt.suptitle((\"Silhouette analysis for Fuzzy c clustering on sample data \"\n",
        "                  \"with n_clusters = %d\" % n_clusters),\n",
        "                 fontsize=14, fontweight='bold')\n",
        "\n",
        "plt.show()"
      ],
      "execution_count": null,
      "outputs": [
        {
          "output_type": "stream",
          "text": [
            "Automatically created module for IPython interactive environment\n",
            "For n_clusters = 2 The average silhouette_score is : 0.5559843455596836\n",
            "For n_clusters = 3 The average silhouette_score is : 0.5559843455596836\n",
            "For n_clusters = 4 The average silhouette_score is : 0.5559843455596836\n",
            "For n_clusters = 5 The average silhouette_score is : 0.5559843455596836\n"
          ],
          "name": "stdout"
        },
        {
          "output_type": "display_data",
          "data": {
            "image/png": "[encoded data removed]",
            "text/plain": [
              "<Figure size 1296x504 with 2 Axes>"
            ]
          },
          "metadata": {
            "tags": [],
            "needs_background": "light"
          }
        },
        {
          "output_type": "display_data",
          "data": {
            "image/png": "[encoded data removed]",
            "text/plain": [
              "<Figure size 1296x504 with 2 Axes>"
            ]
          },
          "metadata": {
            "tags": [],
            "needs_background": "light"
          }
        },
        {
          "output_type": "display_data",
          "data": {
            "image/png": "[encoded data removed]",
            "text/plain": [
              "<Figure size 1296x504 with 2 Axes>"
            ]
          },
          "metadata": {
            "tags": [],
            "needs_background": "light"
          }
        },
        {
          "output_type": "display_data",
          "data": {
            "image/png": "[encoded data removed]",
            "text/plain": [
              "<Figure size 1296x504 with 2 Axes>"
            ]
          },
          "metadata": {
            "tags": [],
            "needs_background": "light"
          }
        }
      ]
    },
    {
      "cell_type": "code",
      "metadata": {
        "id": "W21zwRUmzdoO"
      },
      "source": [
        ""
      ],
      "execution_count": null,
      "outputs": []
    },
    {
      "cell_type": "code",
      "metadata": {
        "id": "NxMwCiu5WtYn"
      },
      "source": [
        ""
      ],
      "execution_count": null,
      "outputs": []
    },
    {
      "cell_type": "code",
      "metadata": {
        "id": "A8hYp7EfSlgG"
      },
      "source": [
        "fcm = FCM(n_clusters=2)\n",
        "fcm.fit(X)"
      ],
      "execution_count": null,
      "outputs": []
    },
    {
      "cell_type": "code",
      "metadata": {
        "id": "v8QCXPXqSlgd"
      },
      "source": [
        "# len(X)"
      ],
      "execution_count": null,
      "outputs": []
    },
    {
      "cell_type": "code",
      "metadata": {
        "id": "gRF6H-0ZSlgg"
      },
      "source": [
        "# len(fcm.u.argmax(axis=1))"
      ],
      "execution_count": null,
      "outputs": []
    },
    {
      "cell_type": "code",
      "metadata": {
        "colab": {
          "base_uri": "https://localhost:8080/",
          "height": 391
        },
        "id": "1Bznd_f6Slgi",
        "outputId": "aa19d820-db0b-4a7b-b377-12bcdcfe3b0d"
      },
      "source": [
        "labelsFuz = list(fcm.u.argmax(axis=1))\n",
        "df[\"labelsFuzFinal\"] = labelsFuz\n",
        "dfFuzfinal = df[['Text','labelsFuzFinal']]\n",
        "dfFuzfinal"
      ],
      "execution_count": null,
      "outputs": [
        {
          "output_type": "execute_result",
          "data": {
            "text/html": [
              "<div>\n",
              "<style scoped>\n",
              "    .dataframe tbody tr th:only-of-type {\n",
              "        vertical-align: middle;\n",
              "    }\n",
              "\n",
              "    .dataframe tbody tr th {\n",
              "        vertical-align: top;\n",
              "    }\n",
              "\n",
              "    .dataframe thead th {\n",
              "        text-align: right;\n",
              "    }\n",
              "</style>\n",
              "<table border=\"1\" class=\"dataframe\">\n",
              "  <thead>\n",
              "    <tr style=\"text-align: right;\">\n",
              "      <th></th>\n",
              "      <th>Text</th>\n",
              "      <th>labelsFuzFinal</th>\n",
              "    </tr>\n",
              "  </thead>\n",
              "  <tbody>\n",
              "    <tr>\n",
              "      <th>0</th>\n",
              "      <td>masyarakat mudah pelayanan mata fasilitas kese...</td>\n",
              "      <td>1</td>\n",
              "    </tr>\n",
              "    <tr>\n",
              "      <th>1</th>\n",
              "      <td>bpjs kesehatan ketenagakerjaan manfaatnya bagus</td>\n",
              "      <td>1</td>\n",
              "    </tr>\n",
              "    <tr>\n",
              "      <th>2</th>\n",
              "      <td>alhamdulillah bpjs kesehatan bener membantu wa...</td>\n",
              "      <td>1</td>\n",
              "    </tr>\n",
              "    <tr>\n",
              "      <th>3</th>\n",
              "      <td>bpjs iurannya dibandingkan premi asuransi kese...</td>\n",
              "      <td>1</td>\n",
              "    </tr>\n",
              "    <tr>\n",
              "      <th>4</th>\n",
              "      <td>naiknya iuran org berpenghasilan minim bpjs su...</td>\n",
              "      <td>0</td>\n",
              "    </tr>\n",
              "    <tr>\n",
              "      <th>...</th>\n",
              "      <td>...</td>\n",
              "      <td>...</td>\n",
              "    </tr>\n",
              "    <tr>\n",
              "      <th>695</th>\n",
              "      <td>kesehatan masak beli rokok bpjs kesehatan sebu...</td>\n",
              "      <td>1</td>\n",
              "    </tr>\n",
              "    <tr>\n",
              "      <th>696</th>\n",
              "      <td>baca dimana bpjs kesehatan klas tdk dinaikan j...</td>\n",
              "      <td>1</td>\n",
              "    </tr>\n",
              "    <tr>\n",
              "      <th>697</th>\n",
              "      <td>diwakili enak rakyat kebagian mewakili kesusah...</td>\n",
              "      <td>0</td>\n",
              "    </tr>\n",
              "    <tr>\n",
              "      <th>698</th>\n",
              "      <td>bpjs kesehatan pribadi memikirkan rakyat rakya...</td>\n",
              "      <td>0</td>\n",
              "    </tr>\n",
              "    <tr>\n",
              "      <th>699</th>\n",
              "      <td>jokowi menekan perpres ttg perubahan perpres t...</td>\n",
              "      <td>0</td>\n",
              "    </tr>\n",
              "  </tbody>\n",
              "</table>\n",
              "<p>2117 rows × 2 columns</p>\n",
              "</div>"
            ],
            "text/plain": [
              "                                                  Text  labelsFuzFinal\n",
              "0    masyarakat mudah pelayanan mata fasilitas kese...               1\n",
              "1      bpjs kesehatan ketenagakerjaan manfaatnya bagus               1\n",
              "2    alhamdulillah bpjs kesehatan bener membantu wa...               1\n",
              "3    bpjs iurannya dibandingkan premi asuransi kese...               1\n",
              "4    naiknya iuran org berpenghasilan minim bpjs su...               0\n",
              "..                                                 ...             ...\n",
              "695  kesehatan masak beli rokok bpjs kesehatan sebu...               1\n",
              "696  baca dimana bpjs kesehatan klas tdk dinaikan j...               1\n",
              "697  diwakili enak rakyat kebagian mewakili kesusah...               0\n",
              "698  bpjs kesehatan pribadi memikirkan rakyat rakya...               0\n",
              "699  jokowi menekan perpres ttg perubahan perpres t...               0\n",
              "\n",
              "[2117 rows x 2 columns]"
            ]
          },
          "metadata": {
            "tags": []
          },
          "execution_count": 37
        }
      ]
    },
    {
      "cell_type": "code",
      "metadata": {
        "colab": {
          "base_uri": "https://localhost:8080/"
        },
        "id": "bgB0LRVgS6Ez",
        "outputId": "0211a551-8009-44a8-bef4-a33f980d82ef"
      },
      "source": [
        "dfFuzfinal.labelsFuzFinal.value_counts()"
      ],
      "execution_count": null,
      "outputs": [
        {
          "output_type": "execute_result",
          "data": {
            "text/plain": [
              "1    1489\n",
              "0     628\n",
              "Name: labelsFuzFinal, dtype: int64"
            ]
          },
          "metadata": {
            "tags": []
          },
          "execution_count": 38
        }
      ]
    },
    {
      "cell_type": "code",
      "metadata": {
        "id": "2K1mw5F-S-Kh"
      },
      "source": [
        ""
      ],
      "execution_count": null,
      "outputs": []
    }
  ]
}