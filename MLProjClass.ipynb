{
  "nbformat": 4,
  "nbformat_minor": 0,
  "metadata": {
    "kernelspec": {
      "display_name": "Python 3",
      "language": "python",
      "name": "python3"
    },
    "language_info": {
      "codemirror_mode": {
        "name": "ipython",
        "version": 3
      },
      "file_extension": ".py",
      "mimetype": "text/x-python",
      "name": "python",
      "nbconvert_exporter": "python",
      "pygments_lexer": "ipython3",
      "version": "3.7.1"
    },
    "colab": {
      "name": "MLProjClass.ipynb",
      "provenance": [],
      "include_colab_link": true
    }
  },
  "cells": [
    {
      "cell_type": "markdown",
      "metadata": {
        "id": "view-in-github",
        "colab_type": "text"
      },
      "source": [
        "<a href=\"https://colab.research.google.com/github/sanyamjain789523/personalProjects/blob/main/MLProjClass.ipynb\" target=\"_parent\"><img src=\"https://colab.research.google.com/assets/colab-badge.svg\" alt=\"Open In Colab\"/></a>"
      ]
    },
    {
      "cell_type": "code",
      "metadata": {
        "id": "mVSN6bVP4mTp"
      },
      "source": [
        "import pandas as pd\n",
        "import numpy as np\n",
        "import matplotlib.pyplot as plt"
      ],
      "execution_count": null,
      "outputs": []
    },
    {
      "cell_type": "code",
      "metadata": {
        "id": "4qh-kU7A4mUX"
      },
      "source": [
        "df = pd.read_csv(r'IRAhandle_tweets_2.csv')"
      ],
      "execution_count": null,
      "outputs": []
    },
    {
      "cell_type": "code",
      "metadata": {
        "id": "Bdbf41Si4mUd",
        "outputId": "486d0273-8cf8-4695-e734-c6bb33f8a7b6"
      },
      "source": [
        "df.head()"
      ],
      "execution_count": null,
      "outputs": [
        {
          "output_type": "execute_result",
          "data": {
            "text/html": [
              "<div>\n",
              "<style scoped>\n",
              "    .dataframe tbody tr th:only-of-type {\n",
              "        vertical-align: middle;\n",
              "    }\n",
              "\n",
              "    .dataframe tbody tr th {\n",
              "        vertical-align: top;\n",
              "    }\n",
              "\n",
              "    .dataframe thead th {\n",
              "        text-align: right;\n",
              "    }\n",
              "</style>\n",
              "<table border=\"1\" class=\"dataframe\">\n",
              "  <thead>\n",
              "    <tr style=\"text-align: right;\">\n",
              "      <th></th>\n",
              "      <th>external_author_id</th>\n",
              "      <th>author</th>\n",
              "      <th>content</th>\n",
              "      <th>region</th>\n",
              "      <th>language</th>\n",
              "      <th>publish_date</th>\n",
              "      <th>harvested_date</th>\n",
              "      <th>following</th>\n",
              "      <th>followers</th>\n",
              "      <th>updates</th>\n",
              "      <th>...</th>\n",
              "      <th>account_type</th>\n",
              "      <th>retweet</th>\n",
              "      <th>account_category</th>\n",
              "      <th>new_june_2018</th>\n",
              "      <th>alt_external_id</th>\n",
              "      <th>tweet_id</th>\n",
              "      <th>article_url</th>\n",
              "      <th>tco1_step1</th>\n",
              "      <th>tco2_step1</th>\n",
              "      <th>tco3_step1</th>\n",
              "    </tr>\n",
              "  </thead>\n",
              "  <tbody>\n",
              "    <tr>\n",
              "      <th>0</th>\n",
              "      <td>2497991305</td>\n",
              "      <td>AUSTINLOVESBEER</td>\n",
              "      <td>NHS fails to treat one in six cancer patients ...</td>\n",
              "      <td>United States</td>\n",
              "      <td>English</td>\n",
              "      <td>3/8/2017 9:00</td>\n",
              "      <td>3/8/2017 9:00</td>\n",
              "      <td>41</td>\n",
              "      <td>34</td>\n",
              "      <td>176</td>\n",
              "      <td>...</td>\n",
              "      <td>Right</td>\n",
              "      <td>1</td>\n",
              "      <td>RightTroll</td>\n",
              "      <td>0</td>\n",
              "      <td>2497991305</td>\n",
              "      <td>839400338515881984</td>\n",
              "      <td>http://twitter.com/2497991305/statuses/8394003...</td>\n",
              "      <td>http://trib.al/hBZijWg</td>\n",
              "      <td>NaN</td>\n",
              "      <td>NaN</td>\n",
              "    </tr>\n",
              "    <tr>\n",
              "      <th>1</th>\n",
              "      <td>2497991305</td>\n",
              "      <td>AUSTINLOVESBEER</td>\n",
              "      <td>Real reason Alexis Sanchez walked out of Arsen...</td>\n",
              "      <td>United States</td>\n",
              "      <td>English</td>\n",
              "      <td>3/8/2017 9:00</td>\n",
              "      <td>3/8/2017 9:00</td>\n",
              "      <td>41</td>\n",
              "      <td>34</td>\n",
              "      <td>180</td>\n",
              "      <td>...</td>\n",
              "      <td>Right</td>\n",
              "      <td>1</td>\n",
              "      <td>RightTroll</td>\n",
              "      <td>0</td>\n",
              "      <td>2497991305</td>\n",
              "      <td>839400484326690817</td>\n",
              "      <td>http://twitter.com/2497991305/statuses/8394004...</td>\n",
              "      <td>https://twitter.com/SunSport/status/8393826823...</td>\n",
              "      <td>http://thesun.uk/60148X0Di</td>\n",
              "      <td>NaN</td>\n",
              "    </tr>\n",
              "    <tr>\n",
              "      <th>2</th>\n",
              "      <td>2497991305</td>\n",
              "      <td>AUSTINLOVESBEER</td>\n",
              "      <td>George Michael cause of death revealed: What i...</td>\n",
              "      <td>United States</td>\n",
              "      <td>English</td>\n",
              "      <td>3/8/2017 9:00</td>\n",
              "      <td>3/8/2017 9:00</td>\n",
              "      <td>41</td>\n",
              "      <td>34</td>\n",
              "      <td>177</td>\n",
              "      <td>...</td>\n",
              "      <td>Right</td>\n",
              "      <td>1</td>\n",
              "      <td>RightTroll</td>\n",
              "      <td>0</td>\n",
              "      <td>2497991305</td>\n",
              "      <td>839400379238379520</td>\n",
              "      <td>http://twitter.com/2497991305/statuses/8394003...</td>\n",
              "      <td>https://twitter.com/Daily_Star/status/83938393...</td>\n",
              "      <td>http://bit.ly/2mewcAw</td>\n",
              "      <td>NaN</td>\n",
              "    </tr>\n",
              "    <tr>\n",
              "      <th>3</th>\n",
              "      <td>2497991305</td>\n",
              "      <td>AUSTINLOVESBEER</td>\n",
              "      <td>Russian TV crew 'offer Swedish teenagers money...</td>\n",
              "      <td>United States</td>\n",
              "      <td>English</td>\n",
              "      <td>3/8/2017 9:00</td>\n",
              "      <td>3/8/2017 9:00</td>\n",
              "      <td>41</td>\n",
              "      <td>34</td>\n",
              "      <td>178</td>\n",
              "      <td>...</td>\n",
              "      <td>Right</td>\n",
              "      <td>1</td>\n",
              "      <td>RightTroll</td>\n",
              "      <td>0</td>\n",
              "      <td>2497991305</td>\n",
              "      <td>839400406463631360</td>\n",
              "      <td>http://twitter.com/2497991305/statuses/8394004...</td>\n",
              "      <td>http://ind.pn/2lXx9w2</td>\n",
              "      <td>NaN</td>\n",
              "      <td>NaN</td>\n",
              "    </tr>\n",
              "    <tr>\n",
              "      <th>4</th>\n",
              "      <td>2497991305</td>\n",
              "      <td>AUSTINLOVESBEER</td>\n",
              "      <td>Donald Trump met Russian ambassador during ele...</td>\n",
              "      <td>United States</td>\n",
              "      <td>English</td>\n",
              "      <td>3/8/2017 9:00</td>\n",
              "      <td>3/8/2017 9:00</td>\n",
              "      <td>41</td>\n",
              "      <td>34</td>\n",
              "      <td>179</td>\n",
              "      <td>...</td>\n",
              "      <td>Right</td>\n",
              "      <td>1</td>\n",
              "      <td>RightTroll</td>\n",
              "      <td>0</td>\n",
              "      <td>2497991305</td>\n",
              "      <td>839400447295160321</td>\n",
              "      <td>http://twitter.com/2497991305/statuses/8394004...</td>\n",
              "      <td>http://ind.pn/2lCVb3r</td>\n",
              "      <td>NaN</td>\n",
              "      <td>NaN</td>\n",
              "    </tr>\n",
              "  </tbody>\n",
              "</table>\n",
              "<p>5 rows × 21 columns</p>\n",
              "</div>"
            ],
            "text/plain": [
              "   external_author_id           author  \\\n",
              "0          2497991305  AUSTINLOVESBEER   \n",
              "1          2497991305  AUSTINLOVESBEER   \n",
              "2          2497991305  AUSTINLOVESBEER   \n",
              "3          2497991305  AUSTINLOVESBEER   \n",
              "4          2497991305  AUSTINLOVESBEER   \n",
              "\n",
              "                                             content         region language  \\\n",
              "0  NHS fails to treat one in six cancer patients ...  United States  English   \n",
              "1  Real reason Alexis Sanchez walked out of Arsen...  United States  English   \n",
              "2  George Michael cause of death revealed: What i...  United States  English   \n",
              "3  Russian TV crew 'offer Swedish teenagers money...  United States  English   \n",
              "4  Donald Trump met Russian ambassador during ele...  United States  English   \n",
              "\n",
              "    publish_date harvested_date  following  followers  updates    ...      \\\n",
              "0  3/8/2017 9:00  3/8/2017 9:00         41         34      176    ...       \n",
              "1  3/8/2017 9:00  3/8/2017 9:00         41         34      180    ...       \n",
              "2  3/8/2017 9:00  3/8/2017 9:00         41         34      177    ...       \n",
              "3  3/8/2017 9:00  3/8/2017 9:00         41         34      178    ...       \n",
              "4  3/8/2017 9:00  3/8/2017 9:00         41         34      179    ...       \n",
              "\n",
              "  account_type retweet  account_category new_june_2018  alt_external_id  \\\n",
              "0        Right       1        RightTroll             0       2497991305   \n",
              "1        Right       1        RightTroll             0       2497991305   \n",
              "2        Right       1        RightTroll             0       2497991305   \n",
              "3        Right       1        RightTroll             0       2497991305   \n",
              "4        Right       1        RightTroll             0       2497991305   \n",
              "\n",
              "             tweet_id                                        article_url  \\\n",
              "0  839400338515881984  http://twitter.com/2497991305/statuses/8394003...   \n",
              "1  839400484326690817  http://twitter.com/2497991305/statuses/8394004...   \n",
              "2  839400379238379520  http://twitter.com/2497991305/statuses/8394003...   \n",
              "3  839400406463631360  http://twitter.com/2497991305/statuses/8394004...   \n",
              "4  839400447295160321  http://twitter.com/2497991305/statuses/8394004...   \n",
              "\n",
              "                                          tco1_step1  \\\n",
              "0                             http://trib.al/hBZijWg   \n",
              "1  https://twitter.com/SunSport/status/8393826823...   \n",
              "2  https://twitter.com/Daily_Star/status/83938393...   \n",
              "3                              http://ind.pn/2lXx9w2   \n",
              "4                              http://ind.pn/2lCVb3r   \n",
              "\n",
              "                   tco2_step1 tco3_step1  \n",
              "0                         NaN        NaN  \n",
              "1  http://thesun.uk/60148X0Di        NaN  \n",
              "2       http://bit.ly/2mewcAw        NaN  \n",
              "3                         NaN        NaN  \n",
              "4                         NaN        NaN  \n",
              "\n",
              "[5 rows x 21 columns]"
            ]
          },
          "metadata": {
            "tags": []
          },
          "execution_count": 3
        }
      ]
    },
    {
      "cell_type": "code",
      "metadata": {
        "id": "JNu1RpzH4mUi"
      },
      "source": [
        "dfRegionDict = df.region.value_counts().reset_index().set_index('index').T.to_dict('list')"
      ],
      "execution_count": null,
      "outputs": []
    },
    {
      "cell_type": "code",
      "metadata": {
        "id": "tzi_tZDQ4mUk"
      },
      "source": [
        "df['content'] = df['content'].apply(lambda x: x.replace(\"https\",\"\"))"
      ],
      "execution_count": null,
      "outputs": []
    },
    {
      "cell_type": "code",
      "metadata": {
        "id": "uGtpSxTf4mUn"
      },
      "source": [
        "df[\"regionCount\"] = df.region.map(dfRegionDict)"
      ],
      "execution_count": null,
      "outputs": []
    },
    {
      "cell_type": "code",
      "metadata": {
        "id": "PHfUt01G4mUo",
        "outputId": "ecf4c73c-c1f8-4e0e-e50e-82877a135158"
      },
      "source": [
        "dfRegionDict"
      ],
      "execution_count": null,
      "outputs": [
        {
          "output_type": "execute_result",
          "data": {
            "text/plain": [
              "{'United States': [167531],\n",
              " 'Unknown': [66752],\n",
              " 'Azerbaijan': [6075],\n",
              " 'Malaysia': [4932],\n",
              " 'Germany': [2185],\n",
              " 'Russian Federation': [1267],\n",
              " 'United Arab Emirates': [1148],\n",
              " 'France': [56],\n",
              " 'Belarus': [26],\n",
              " 'Japan': [11],\n",
              " 'Egypt': [9],\n",
              " 'Hong Kong': [3],\n",
              " 'Italy': [2],\n",
              " 'Austria': [1]}"
            ]
          },
          "metadata": {
            "tags": []
          },
          "execution_count": 7
        }
      ]
    },
    {
      "cell_type": "code",
      "metadata": {
        "id": "F4mTLtgA4mUq"
      },
      "source": [
        "df = df.dropna()"
      ],
      "execution_count": null,
      "outputs": []
    },
    {
      "cell_type": "code",
      "metadata": {
        "id": "KK38tgdi4mUr"
      },
      "source": [
        "df[\"regionCount\"] = df[\"regionCount\"].apply(lambda x:x[0])"
      ],
      "execution_count": null,
      "outputs": []
    },
    {
      "cell_type": "code",
      "metadata": {
        "id": "QyfkikbU4mUs"
      },
      "source": [
        "df = df[df.regionCount > 1000]"
      ],
      "execution_count": null,
      "outputs": []
    },
    {
      "cell_type": "code",
      "metadata": {
        "id": "6RmoBe6Y4mUt",
        "outputId": "83f49829-af89-4979-e3dc-54ff05159033"
      },
      "source": [
        "df['region'].value_counts().plot.bar(color = 'pink', figsize = (6, 4))"
      ],
      "execution_count": null,
      "outputs": [
        {
          "output_type": "execute_result",
          "data": {
            "text/plain": [
              "<matplotlib.axes._subplots.AxesSubplot at 0x198b7e23390>"
            ]
          },
          "metadata": {
            "tags": []
          },
          "execution_count": 11
        },
        {
          "output_type": "display_data",
          "data": {
            "image/png": "[encoded data removed]",
            "text/plain": [
              "<Figure size 432x288 with 1 Axes>"
            ]
          },
          "metadata": {
            "tags": [],
            "needs_background": "light"
          }
        }
      ]
    },
    {
      "cell_type": "code",
      "metadata": {
        "id": "xRHmPIfW4mUu",
        "outputId": "995b67e0-ca56-447b-c3e2-4de9dace0a7a"
      },
      "source": [
        "length_test = df['content'].str.len().plot.hist(color = 'orange', figsize = (6, 4))"
      ],
      "execution_count": null,
      "outputs": [
        {
          "output_type": "display_data",
          "data": {
            "image/png": "[encoded data removed]",
            "text/plain": [
              "<Figure size 432x288 with 1 Axes>"
            ]
          },
          "metadata": {
            "tags": [],
            "needs_background": "light"
          }
        }
      ]
    },
    {
      "cell_type": "code",
      "metadata": {
        "id": "5TXDRweF4mUx",
        "outputId": "9a5f7968-572c-4929-9f15-78fbdda027f4"
      },
      "source": [
        "from sklearn.feature_extraction.text import CountVectorizer\n",
        "\n",
        "\n",
        "cv = CountVectorizer(stop_words = 'english')\n",
        "words = cv.fit_transform(df.content)\n",
        "\n",
        "sum_words = words.sum(axis=0)\n",
        "\n",
        "words_freq = [(word, sum_words[0, i]) for word, i in cv.vocabulary_.items()]\n",
        "words_freq = sorted(words_freq, key = lambda x: x[1], reverse = True)\n",
        "\n",
        "frequency = pd.DataFrame(words_freq, columns=['word', 'freq'])\n",
        "\n",
        "frequency.head(30).plot(x='word', y='freq', kind='bar', figsize=(15, 7), color = 'blue')\n",
        "plt.title(\"Most Frequently Occuring Words - Top 30\")"
      ],
      "execution_count": null,
      "outputs": [
        {
          "output_type": "execute_result",
          "data": {
            "text/plain": [
              "Text(0.5, 1.0, 'Most Frequently Occuring Words - Top 30')"
            ]
          },
          "metadata": {
            "tags": []
          },
          "execution_count": 13
        },
        {
          "output_type": "display_data",
          "data": {
            "image/png": "[encoded data removed]",
            "text/plain": [
              "<Figure size 1080x504 with 1 Axes>"
            ]
          },
          "metadata": {
            "tags": [],
            "needs_background": "light"
          }
        }
      ]
    },
    {
      "cell_type": "code",
      "metadata": {
        "id": "3HE-NG_A4mUz",
        "outputId": "1e3354eb-7f0a-4a2f-c488-bffad8f8d407"
      },
      "source": [
        "pd.set_option(\"display.max_columns\",100)\n",
        "df.head(2)"
      ],
      "execution_count": null,
      "outputs": [
        {
          "output_type": "execute_result",
          "data": {
            "text/html": [
              "<div>\n",
              "<style scoped>\n",
              "    .dataframe tbody tr th:only-of-type {\n",
              "        vertical-align: middle;\n",
              "    }\n",
              "\n",
              "    .dataframe tbody tr th {\n",
              "        vertical-align: top;\n",
              "    }\n",
              "\n",
              "    .dataframe thead th {\n",
              "        text-align: right;\n",
              "    }\n",
              "</style>\n",
              "<table border=\"1\" class=\"dataframe\">\n",
              "  <thead>\n",
              "    <tr style=\"text-align: right;\">\n",
              "      <th></th>\n",
              "      <th>external_author_id</th>\n",
              "      <th>author</th>\n",
              "      <th>content</th>\n",
              "      <th>region</th>\n",
              "      <th>language</th>\n",
              "      <th>publish_date</th>\n",
              "      <th>harvested_date</th>\n",
              "      <th>following</th>\n",
              "      <th>followers</th>\n",
              "      <th>updates</th>\n",
              "      <th>post_type</th>\n",
              "      <th>account_type</th>\n",
              "      <th>retweet</th>\n",
              "      <th>account_category</th>\n",
              "      <th>new_june_2018</th>\n",
              "      <th>alt_external_id</th>\n",
              "      <th>tweet_id</th>\n",
              "      <th>article_url</th>\n",
              "      <th>tco1_step1</th>\n",
              "      <th>tco2_step1</th>\n",
              "      <th>tco3_step1</th>\n",
              "      <th>regionCount</th>\n",
              "    </tr>\n",
              "  </thead>\n",
              "  <tbody>\n",
              "    <tr>\n",
              "      <th>3344</th>\n",
              "      <td>2396703045</td>\n",
              "      <td>BABICHEVASONYA</td>\n",
              "      <td>Представляем новую коллекция одежды ➡ ://t.co/...</td>\n",
              "      <td>United States</td>\n",
              "      <td>Russian</td>\n",
              "      <td>12/1/2015 6:56</td>\n",
              "      <td>12/1/2015 6:56</td>\n",
              "      <td>215</td>\n",
              "      <td>234</td>\n",
              "      <td>2521</td>\n",
              "      <td>RETWEET</td>\n",
              "      <td>Russian</td>\n",
              "      <td>1</td>\n",
              "      <td>NonEnglish</td>\n",
              "      <td>1</td>\n",
              "      <td>2396703045</td>\n",
              "      <td>671583637599559681</td>\n",
              "      <td>http://twitter.com/babichevaSonya/statuses/671...</td>\n",
              "      <td>https://twitter.com/RussiansForward/status/671...</td>\n",
              "      <td>http://rus.myprintbar.ru/svoy-diza</td>\n",
              "      <td>http://rus.myprintbar.ru</td>\n",
              "      <td>167531</td>\n",
              "    </tr>\n",
              "    <tr>\n",
              "      <th>4374</th>\n",
              "      <td>2532835560</td>\n",
              "      <td>BABYJANNYMEOW</td>\n",
              "      <td>John 8: The Adulterous Woman \\| Upbuilding Dis...</td>\n",
              "      <td>United States</td>\n",
              "      <td>English</td>\n",
              "      <td>11/21/2016 16:15</td>\n",
              "      <td>11/21/2016 16:16</td>\n",
              "      <td>3239</td>\n",
              "      <td>3326</td>\n",
              "      <td>4583</td>\n",
              "      <td>RETWEET</td>\n",
              "      <td>Hashtager</td>\n",
              "      <td>1</td>\n",
              "      <td>HashtagGamer</td>\n",
              "      <td>1</td>\n",
              "      <td>2532835560</td>\n",
              "      <td>800734285892292608</td>\n",
              "      <td>http://twitter.com/2532835560/statuses/8007342...</td>\n",
              "      <td>https://twitter.com/Gamiliell/status/800721508...</td>\n",
              "      <td>https://500px.com/gamilliell</td>\n",
              "      <td>http://gamiliel.com/2012/06/05/john-8-the-adul...</td>\n",
              "      <td>167531</td>\n",
              "    </tr>\n",
              "  </tbody>\n",
              "</table>\n",
              "</div>"
            ],
            "text/plain": [
              "      external_author_id          author  \\\n",
              "3344          2396703045  BABICHEVASONYA   \n",
              "4374          2532835560   BABYJANNYMEOW   \n",
              "\n",
              "                                                content         region  \\\n",
              "3344  Представляем новую коллекция одежды ➡ ://t.co/...  United States   \n",
              "4374  John 8: The Adulterous Woman \\| Upbuilding Dis...  United States   \n",
              "\n",
              "     language      publish_date    harvested_date  following  followers  \\\n",
              "3344  Russian    12/1/2015 6:56    12/1/2015 6:56        215        234   \n",
              "4374  English  11/21/2016 16:15  11/21/2016 16:16       3239       3326   \n",
              "\n",
              "      updates post_type account_type  retweet account_category  new_june_2018  \\\n",
              "3344     2521   RETWEET      Russian        1       NonEnglish              1   \n",
              "4374     4583   RETWEET    Hashtager        1     HashtagGamer              1   \n",
              "\n",
              "      alt_external_id            tweet_id  \\\n",
              "3344       2396703045  671583637599559681   \n",
              "4374       2532835560  800734285892292608   \n",
              "\n",
              "                                            article_url  \\\n",
              "3344  http://twitter.com/babichevaSonya/statuses/671...   \n",
              "4374  http://twitter.com/2532835560/statuses/8007342...   \n",
              "\n",
              "                                             tco1_step1  \\\n",
              "3344  https://twitter.com/RussiansForward/status/671...   \n",
              "4374  https://twitter.com/Gamiliell/status/800721508...   \n",
              "\n",
              "                              tco2_step1  \\\n",
              "3344  http://rus.myprintbar.ru/svoy-diza   \n",
              "4374        https://500px.com/gamilliell   \n",
              "\n",
              "                                             tco3_step1  regionCount  \n",
              "3344                           http://rus.myprintbar.ru       167531  \n",
              "4374  http://gamiliel.com/2012/06/05/john-8-the-adul...       167531  "
            ]
          },
          "metadata": {
            "tags": []
          },
          "execution_count": 14
        }
      ]
    },
    {
      "cell_type": "code",
      "metadata": {
        "id": "OdFBg1pe4mU1"
      },
      "source": [
        "from sklearn.preprocessing import LabelEncoder\n",
        "le = LabelEncoder()\n",
        "df[\"regionLabel\"] = le.fit_transform(df.region)"
      ],
      "execution_count": null,
      "outputs": []
    },
    {
      "cell_type": "code",
      "metadata": {
        "id": "zRid0nRp4mU2",
        "outputId": "89f115b9-9b59-43cb-c8fc-409e0f4293f1"
      },
      "source": [
        "from sklearn.feature_extraction.text import TfidfVectorizer\n",
        "tfidf = TfidfVectorizer(sublinear_tf=True, min_df=5, norm='l2', encoding='latin-1', ngram_range=(1, 2), stop_words='english')\n",
        "features = tfidf.fit_transform(df.content).toarray()\n",
        "labels = df.regionLabel\n",
        "features.shape"
      ],
      "execution_count": null,
      "outputs": [
        {
          "output_type": "execute_result",
          "data": {
            "text/plain": [
              "(196, 62)"
            ]
          },
          "metadata": {
            "tags": []
          },
          "execution_count": 16
        }
      ]
    },
    {
      "cell_type": "code",
      "metadata": {
        "id": "nF0sDyjp4mU4",
        "outputId": "6afde8e2-1f4a-4d5b-9d0b-33d453d95be2"
      },
      "source": [
        "from sklearn.linear_model import LogisticRegression\n",
        "from sklearn.ensemble import RandomForestClassifier\n",
        "from sklearn.svm import LinearSVC\n",
        "from sklearn.model_selection import cross_val_score\n",
        "import matplotlib.pyplot as plt\n",
        "models = [\n",
        "    RandomForestClassifier(n_estimators=200, max_depth=3, random_state=0),\n",
        "#     LinearSVC(),\n",
        "#     MultinomialNB(),\n",
        "#     LogisticRegression(random_state=0),\n",
        "]\n",
        "CV = 5\n",
        "cv_df = pd.DataFrame(index=range(CV * len(models)))\n",
        "entries = []\n",
        "for model in models:\n",
        "    model_name = model.__class__.__name__\n",
        "    accuracies = cross_val_score(model, features, labels, scoring='accuracy', cv=CV)\n",
        "    for fold_idx, accuracy in enumerate(accuracies):\n",
        "        entries.append((model_name, fold_idx, accuracy))\n",
        "cv_df = pd.DataFrame(entries, columns=['model_name', 'fold_idx', 'accuracy'])\n",
        "import seaborn as sns\n",
        "sns.boxplot(x='model_name', y='accuracy', data=cv_df)\n",
        "sns.stripplot(x='model_name', y='accuracy', data=cv_df, \n",
        "              size=8, jitter=True, edgecolor=\"gray\", linewidth=2)\n",
        "plt.show()"
      ],
      "execution_count": null,
      "outputs": [
        {
          "output_type": "display_data",
          "data": {
            "image/png": "[encoded data removed]",
            "text/plain": [
              "<Figure size 432x288 with 1 Axes>"
            ]
          },
          "metadata": {
            "tags": [],
            "needs_background": "light"
          }
        }
      ]
    },
    {
      "cell_type": "code",
      "metadata": {
        "id": "PXN8gBDu4mU7",
        "outputId": "8524d6bb-001f-4c1f-c939-96e82c65c850"
      },
      "source": [
        "cv_df.groupby('model_name').accuracy.mean()"
      ],
      "execution_count": null,
      "outputs": [
        {
          "output_type": "execute_result",
          "data": {
            "text/plain": [
              "model_name\n",
              "RandomForestClassifier    0.725324\n",
              "Name: accuracy, dtype: float64"
            ]
          },
          "metadata": {
            "tags": []
          },
          "execution_count": 18
        }
      ]
    },
    {
      "cell_type": "code",
      "metadata": {
        "id": "-ElQehN04mU8",
        "outputId": "80ea16cb-03e8-4b28-ffae-a5823724af88"
      },
      "source": [
        "model = RandomForestClassifier(n_estimators=200, max_depth=3, random_state=0)\n",
        "model.fit(features, labels)"
      ],
      "execution_count": null,
      "outputs": [
        {
          "output_type": "execute_result",
          "data": {
            "text/plain": [
              "RandomForestClassifier(bootstrap=True, class_weight=None, criterion='gini',\n",
              "            max_depth=3, max_features='auto', max_leaf_nodes=None,\n",
              "            min_impurity_decrease=0.0, min_impurity_split=None,\n",
              "            min_samples_leaf=1, min_samples_split=2,\n",
              "            min_weight_fraction_leaf=0.0, n_estimators=200, n_jobs=None,\n",
              "            oob_score=False, random_state=0, verbose=0, warm_start=False)"
            ]
          },
          "metadata": {
            "tags": []
          },
          "execution_count": 19
        }
      ]
    },
    {
      "cell_type": "code",
      "metadata": {
        "id": "3SwkNZSM4mU9",
        "outputId": "ba17b3c3-9e2a-4b2d-c207-28771a010cd5"
      },
      "source": [
        "model.predict([features[100]])"
      ],
      "execution_count": null,
      "outputs": [
        {
          "output_type": "execute_result",
          "data": {
            "text/plain": [
              "array([1])"
            ]
          },
          "metadata": {
            "tags": []
          },
          "execution_count": 20
        }
      ]
    },
    {
      "cell_type": "code",
      "metadata": {
        "id": "0miEZtkJ4mU-"
      },
      "source": [
        ""
      ],
      "execution_count": null,
      "outputs": []
    },
    {
      "cell_type": "code",
      "metadata": {
        "id": "XnmIF_b74mU_"
      },
      "source": [
        ""
      ],
      "execution_count": null,
      "outputs": []
    },
    {
      "cell_type": "code",
      "metadata": {
        "id": "icOXExaQ4mVA"
      },
      "source": [
        ""
      ],
      "execution_count": null,
      "outputs": []
    },
    {
      "cell_type": "code",
      "metadata": {
        "id": "tu_5piNo4mVA"
      },
      "source": [
        ""
      ],
      "execution_count": null,
      "outputs": []
    },
    {
      "cell_type": "code",
      "metadata": {
        "id": "6qCyr28M4mVB"
      },
      "source": [
        ""
      ],
      "execution_count": null,
      "outputs": []
    },
    {
      "cell_type": "code",
      "metadata": {
        "id": "Z-SS87Bx4mVC"
      },
      "source": [
        ""
      ],
      "execution_count": null,
      "outputs": []
    },
    {
      "cell_type": "code",
      "metadata": {
        "id": "cj3bvDM34mVC"
      },
      "source": [
        ""
      ],
      "execution_count": null,
      "outputs": []
    },
    {
      "cell_type": "code",
      "metadata": {
        "id": "5ypVXiPs4mVD"
      },
      "source": [
        ""
      ],
      "execution_count": null,
      "outputs": []
    },
    {
      "cell_type": "code",
      "metadata": {
        "id": "5gyPLjYX4mVE"
      },
      "source": [
        ""
      ],
      "execution_count": null,
      "outputs": []
    },
    {
      "cell_type": "code",
      "metadata": {
        "id": "VhVlIWvr4mVF"
      },
      "source": [
        ""
      ],
      "execution_count": null,
      "outputs": []
    },
    {
      "cell_type": "code",
      "metadata": {
        "id": "NkJkLAPh4mVG"
      },
      "source": [
        ""
      ],
      "execution_count": null,
      "outputs": []
    },
    {
      "cell_type": "code",
      "metadata": {
        "id": "2EreqXFY4mVG"
      },
      "source": [
        ""
      ],
      "execution_count": null,
      "outputs": []
    },
    {
      "cell_type": "code",
      "metadata": {
        "id": "WZFSIfHD4mVH"
      },
      "source": [
        ""
      ],
      "execution_count": null,
      "outputs": []
    }
  ]
}